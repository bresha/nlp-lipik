{
 "cells": [
  {
   "cell_type": "markdown",
   "metadata": {
    "id": "Or9NG-GbhKIv"
   },
   "source": [
    "# Učitavanje datoteka"
   ]
  },
  {
   "cell_type": "code",
   "execution_count": 1,
   "metadata": {
    "id": "NG0MHhtzk4TA"
   },
   "outputs": [],
   "source": [
    "import pandas as pd"
   ]
  },
  {
   "cell_type": "code",
   "execution_count": 2,
   "metadata": {
    "id": "7-Gm5Y5KlB47"
   },
   "outputs": [],
   "source": [
    "download_url = \"https://drive.google.com/uc?id=1qXq6k2rNR_dgG9XA4uMjAeuzUYkGx7HZ\""
   ]
  },
  {
   "cell_type": "code",
   "execution_count": 3,
   "metadata": {
    "colab": {
     "base_uri": "https://localhost:8080/",
     "height": 206
    },
    "executionInfo": {
     "elapsed": 5622,
     "status": "ok",
     "timestamp": 1645299373081,
     "user": {
      "displayName": "Ivan Zidov",
      "photoUrl": "https://lh3.googleusercontent.com/a-/AOh14Gjahm8hyrECD6kPTVfV6aJTjtTwGoMFuzaGECbz2w=s64",
      "userId": "17601732119024015981"
     },
     "user_tz": -60
    },
    "id": "8DzNvMGslPB5",
    "outputId": "84d59a38-d030-458b-bf53-161a87450778"
   },
   "outputs": [
    {
     "data": {
      "text/html": [
       "<div>\n",
       "<style scoped>\n",
       "    .dataframe tbody tr th:only-of-type {\n",
       "        vertical-align: middle;\n",
       "    }\n",
       "\n",
       "    .dataframe tbody tr th {\n",
       "        vertical-align: top;\n",
       "    }\n",
       "\n",
       "    .dataframe thead th {\n",
       "        text-align: right;\n",
       "    }\n",
       "</style>\n",
       "<table border=\"1\" class=\"dataframe\">\n",
       "  <thead>\n",
       "    <tr style=\"text-align: right;\">\n",
       "      <th></th>\n",
       "      <th>job_title</th>\n",
       "      <th>seniority_level</th>\n",
       "      <th>employment_type</th>\n",
       "      <th>industries</th>\n",
       "      <th>job_functions</th>\n",
       "    </tr>\n",
       "  </thead>\n",
       "  <tbody>\n",
       "    <tr>\n",
       "      <th>0</th>\n",
       "      <td>Manual Tester</td>\n",
       "      <td>Entry level</td>\n",
       "      <td>Full-time</td>\n",
       "      <td>[Information Technology and Services]</td>\n",
       "      <td>[Engineering, Information Technology]</td>\n",
       "    </tr>\n",
       "    <tr>\n",
       "      <th>1</th>\n",
       "      <td>Field Marketing Representative</td>\n",
       "      <td>Entry level</td>\n",
       "      <td>Full-time</td>\n",
       "      <td>[Food &amp; Beverages, Wholesale, Retail]</td>\n",
       "      <td>[Marketing, Sales]</td>\n",
       "    </tr>\n",
       "    <tr>\n",
       "      <th>2</th>\n",
       "      <td>Consumer Relations Representative</td>\n",
       "      <td>Associate</td>\n",
       "      <td>Full-time</td>\n",
       "      <td>[Marketing and Advertising, Food &amp; Beverages, ...</td>\n",
       "      <td>[Other]</td>\n",
       "    </tr>\n",
       "    <tr>\n",
       "      <th>3</th>\n",
       "      <td>Software Engineer In Test</td>\n",
       "      <td>Mid-Senior level</td>\n",
       "      <td>Full-time</td>\n",
       "      <td>[Information Technology and Services, Computer...</td>\n",
       "      <td>[Information Technology, Quality Assurance]</td>\n",
       "    </tr>\n",
       "    <tr>\n",
       "      <th>4</th>\n",
       "      <td>Electrician</td>\n",
       "      <td>Entry level</td>\n",
       "      <td>Full-time</td>\n",
       "      <td>[Electrical/Electronic Manufacturing, Construc...</td>\n",
       "      <td>[Management, Manufacturing]</td>\n",
       "    </tr>\n",
       "  </tbody>\n",
       "</table>\n",
       "</div>"
      ],
      "text/plain": [
       "                           job_title   seniority_level employment_type  \\\n",
       "0                      Manual Tester       Entry level       Full-time   \n",
       "1     Field Marketing Representative       Entry level       Full-time   \n",
       "2  Consumer Relations Representative         Associate       Full-time   \n",
       "3          Software Engineer In Test  Mid-Senior level       Full-time   \n",
       "4                        Electrician       Entry level       Full-time   \n",
       "\n",
       "                                          industries  \\\n",
       "0              [Information Technology and Services]   \n",
       "1              [Food & Beverages, Wholesale, Retail]   \n",
       "2  [Marketing and Advertising, Food & Beverages, ...   \n",
       "3  [Information Technology and Services, Computer...   \n",
       "4  [Electrical/Electronic Manufacturing, Construc...   \n",
       "\n",
       "                                 job_functions  \n",
       "0        [Engineering, Information Technology]  \n",
       "1                           [Marketing, Sales]  \n",
       "2                                      [Other]  \n",
       "3  [Information Technology, Quality Assurance]  \n",
       "4                  [Management, Manufacturing]  "
      ]
     },
     "execution_count": 3,
     "metadata": {},
     "output_type": "execute_result"
    }
   ],
   "source": [
    "df = pd.read_csv(download_url)\n",
    "df.job_functions = df.job_functions.apply(eval)\n",
    "df.industries = df.industries.apply(eval)\n",
    "\n",
    "df.head()"
   ]
  },
  {
   "cell_type": "code",
   "execution_count": 4,
   "metadata": {
    "colab": {
     "base_uri": "https://localhost:8080/",
     "height": 206
    },
    "executionInfo": {
     "elapsed": 3403,
     "status": "ok",
     "timestamp": 1645299382001,
     "user": {
      "displayName": "Ivan Zidov",
      "photoUrl": "https://lh3.googleusercontent.com/a-/AOh14Gjahm8hyrECD6kPTVfV6aJTjtTwGoMFuzaGECbz2w=s64",
      "userId": "17601732119024015981"
     },
     "user_tz": -60
    },
    "id": "SXE9ev1YlaNS",
    "outputId": "d52fa0ca-8183-49af-9fe8-9dbf63a612bd"
   },
   "outputs": [
    {
     "data": {
      "text/html": [
       "<div>\n",
       "<style scoped>\n",
       "    .dataframe tbody tr th:only-of-type {\n",
       "        vertical-align: middle;\n",
       "    }\n",
       "\n",
       "    .dataframe tbody tr th {\n",
       "        vertical-align: top;\n",
       "    }\n",
       "\n",
       "    .dataframe thead th {\n",
       "        text-align: right;\n",
       "    }\n",
       "</style>\n",
       "<table border=\"1\" class=\"dataframe\">\n",
       "  <thead>\n",
       "    <tr style=\"text-align: right;\">\n",
       "      <th></th>\n",
       "      <th>job_title</th>\n",
       "      <th>seniority_level</th>\n",
       "      <th>employment_type</th>\n",
       "      <th>industries</th>\n",
       "      <th>job_functions</th>\n",
       "    </tr>\n",
       "  </thead>\n",
       "  <tbody>\n",
       "    <tr>\n",
       "      <th>0</th>\n",
       "      <td>CAD Drafter - Dallas, TX</td>\n",
       "      <td>Not Applicable</td>\n",
       "      <td>Full-time</td>\n",
       "      <td>[Construction, Civil Engineering, Real Estate]</td>\n",
       "      <td>[Design, Art/Creative, Information Technology]</td>\n",
       "    </tr>\n",
       "    <tr>\n",
       "      <th>1</th>\n",
       "      <td>COMPUTER ANALYST NOC-2171</td>\n",
       "      <td>Entry level</td>\n",
       "      <td>Full-time</td>\n",
       "      <td>[Information Technology and Services, Computer...</td>\n",
       "      <td>[Information Technology]</td>\n",
       "    </tr>\n",
       "    <tr>\n",
       "      <th>2</th>\n",
       "      <td>Videographer</td>\n",
       "      <td>Entry level</td>\n",
       "      <td>Full-time</td>\n",
       "      <td>[Marketing and Advertising, Internet, Financia...</td>\n",
       "      <td>[Design, Art/Creative, Information Technology]</td>\n",
       "    </tr>\n",
       "    <tr>\n",
       "      <th>3</th>\n",
       "      <td>Sales Representative</td>\n",
       "      <td>Entry level</td>\n",
       "      <td>Full-time</td>\n",
       "      <td>[Building Materials, Machinery, Mechanical or ...</td>\n",
       "      <td>[Sales, Business Development]</td>\n",
       "    </tr>\n",
       "    <tr>\n",
       "      <th>4</th>\n",
       "      <td>Open job positions for all employees</td>\n",
       "      <td>Entry level</td>\n",
       "      <td>Full-time</td>\n",
       "      <td>[Electrical/Electronic Manufacturing, Construc...</td>\n",
       "      <td>[Other]</td>\n",
       "    </tr>\n",
       "  </tbody>\n",
       "</table>\n",
       "</div>"
      ],
      "text/plain": [
       "                              job_title seniority_level employment_type  \\\n",
       "0              CAD Drafter - Dallas, TX  Not Applicable       Full-time   \n",
       "1             COMPUTER ANALYST NOC-2171     Entry level       Full-time   \n",
       "2                          Videographer     Entry level       Full-time   \n",
       "3                  Sales Representative     Entry level       Full-time   \n",
       "4  Open job positions for all employees     Entry level       Full-time   \n",
       "\n",
       "                                          industries  \\\n",
       "0     [Construction, Civil Engineering, Real Estate]   \n",
       "1  [Information Technology and Services, Computer...   \n",
       "2  [Marketing and Advertising, Internet, Financia...   \n",
       "3  [Building Materials, Machinery, Mechanical or ...   \n",
       "4  [Electrical/Electronic Manufacturing, Construc...   \n",
       "\n",
       "                                    job_functions  \n",
       "0  [Design, Art/Creative, Information Technology]  \n",
       "1                        [Information Technology]  \n",
       "2  [Design, Art/Creative, Information Technology]  \n",
       "3                   [Sales, Business Development]  \n",
       "4                                         [Other]  "
      ]
     },
     "execution_count": 4,
     "metadata": {},
     "output_type": "execute_result"
    }
   ],
   "source": [
    "download_url = \"https://drive.google.com/uc?id=1emt0cqUyMlGr6sJzUIWR9omqBJbODMkU\"\n",
    "test = pd.read_csv(download_url)\n",
    "test.job_functions = test.job_functions.apply(eval)\n",
    "test.industries = test.industries.apply(eval)\n",
    "\n",
    "test.head()"
   ]
  }
 ],
 "metadata": {
  "accelerator": "GPU",
  "colab": {
   "collapsed_sections": [],
   "name": "0. Projekt za polaznike.ipynb",
   "provenance": []
  },
  "kernelspec": {
   "display_name": "Python 3 (ipykernel)",
   "language": "python",
   "name": "python3"
  },
  "language_info": {
   "codemirror_mode": {
    "name": "ipython",
    "version": 3
   },
   "file_extension": ".py",
   "mimetype": "text/x-python",
   "name": "python",
   "nbconvert_exporter": "python",
   "pygments_lexer": "ipython3",
   "version": "3.10.0"
  }
 },
 "nbformat": 4,
 "nbformat_minor": 1
}
