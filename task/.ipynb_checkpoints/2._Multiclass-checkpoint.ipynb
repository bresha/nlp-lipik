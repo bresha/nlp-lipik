{
 "cells": [
  {
   "cell_type": "markdown",
   "metadata": {
    "id": "Or9NG-GbhKIv"
   },
   "source": [
    "# Učitavanje datoteka"
   ]
  },
  {
   "cell_type": "code",
   "execution_count": 1,
   "metadata": {
    "executionInfo": {
     "elapsed": 5,
     "status": "ok",
     "timestamp": 1645299491620,
     "user": {
      "displayName": "Ivan Zidov",
      "photoUrl": "https://lh3.googleusercontent.com/a-/AOh14Gjahm8hyrECD6kPTVfV6aJTjtTwGoMFuzaGECbz2w=s64",
      "userId": "17601732119024015981"
     },
     "user_tz": -60
    },
    "id": "NG0MHhtzk4TA"
   },
   "outputs": [],
   "source": [
    "import pandas as pd"
   ]
  },
  {
   "cell_type": "code",
   "execution_count": 2,
   "metadata": {
    "executionInfo": {
     "elapsed": 5,
     "status": "ok",
     "timestamp": 1645299491620,
     "user": {
      "displayName": "Ivan Zidov",
      "photoUrl": "https://lh3.googleusercontent.com/a-/AOh14Gjahm8hyrECD6kPTVfV6aJTjtTwGoMFuzaGECbz2w=s64",
      "userId": "17601732119024015981"
     },
     "user_tz": -60
    },
    "id": "7-Gm5Y5KlB47"
   },
   "outputs": [],
   "source": [
    "download_url = \"https://drive.google.com/uc?id=1qXq6k2rNR_dgG9XA4uMjAeuzUYkGx7HZ\""
   ]
  },
  {
   "cell_type": "code",
   "execution_count": 3,
   "metadata": {
    "colab": {
     "base_uri": "https://localhost:8080/",
     "height": 206
    },
    "executionInfo": {
     "elapsed": 4880,
     "status": "ok",
     "timestamp": 1645299496496,
     "user": {
      "displayName": "Ivan Zidov",
      "photoUrl": "https://lh3.googleusercontent.com/a-/AOh14Gjahm8hyrECD6kPTVfV6aJTjtTwGoMFuzaGECbz2w=s64",
      "userId": "17601732119024015981"
     },
     "user_tz": -60
    },
    "id": "8DzNvMGslPB5",
    "outputId": "d46adc37-d523-4f5f-c5bd-9a2f9c131495"
   },
   "outputs": [
    {
     "data": {
      "text/html": [
       "\n",
       "  <div id=\"df-07ddee1e-2727-4fb3-a5b7-49abf5af2698\">\n",
       "    <div class=\"colab-df-container\">\n",
       "      <div>\n",
       "<style scoped>\n",
       "    .dataframe tbody tr th:only-of-type {\n",
       "        vertical-align: middle;\n",
       "    }\n",
       "\n",
       "    .dataframe tbody tr th {\n",
       "        vertical-align: top;\n",
       "    }\n",
       "\n",
       "    .dataframe thead th {\n",
       "        text-align: right;\n",
       "    }\n",
       "</style>\n",
       "<table border=\"1\" class=\"dataframe\">\n",
       "  <thead>\n",
       "    <tr style=\"text-align: right;\">\n",
       "      <th></th>\n",
       "      <th>job_title</th>\n",
       "      <th>seniority_level</th>\n",
       "      <th>employment_type</th>\n",
       "      <th>industries</th>\n",
       "      <th>job_functions</th>\n",
       "    </tr>\n",
       "  </thead>\n",
       "  <tbody>\n",
       "    <tr>\n",
       "      <th>0</th>\n",
       "      <td>Manual Tester</td>\n",
       "      <td>Entry level</td>\n",
       "      <td>Full-time</td>\n",
       "      <td>[Information Technology and Services]</td>\n",
       "      <td>[Engineering, Information Technology]</td>\n",
       "    </tr>\n",
       "    <tr>\n",
       "      <th>1</th>\n",
       "      <td>Field Marketing Representative</td>\n",
       "      <td>Entry level</td>\n",
       "      <td>Full-time</td>\n",
       "      <td>[Food &amp; Beverages, Wholesale, Retail]</td>\n",
       "      <td>[Marketing, Sales]</td>\n",
       "    </tr>\n",
       "    <tr>\n",
       "      <th>2</th>\n",
       "      <td>Consumer Relations Representative</td>\n",
       "      <td>Associate</td>\n",
       "      <td>Full-time</td>\n",
       "      <td>[Marketing and Advertising, Food &amp; Beverages, ...</td>\n",
       "      <td>[Other]</td>\n",
       "    </tr>\n",
       "    <tr>\n",
       "      <th>3</th>\n",
       "      <td>Software Engineer In Test</td>\n",
       "      <td>Mid-Senior level</td>\n",
       "      <td>Full-time</td>\n",
       "      <td>[Information Technology and Services, Computer...</td>\n",
       "      <td>[Information Technology, Quality Assurance]</td>\n",
       "    </tr>\n",
       "    <tr>\n",
       "      <th>4</th>\n",
       "      <td>Electrician</td>\n",
       "      <td>Entry level</td>\n",
       "      <td>Full-time</td>\n",
       "      <td>[Electrical/Electronic Manufacturing, Construc...</td>\n",
       "      <td>[Management, Manufacturing]</td>\n",
       "    </tr>\n",
       "  </tbody>\n",
       "</table>\n",
       "</div>\n",
       "      <button class=\"colab-df-convert\" onclick=\"convertToInteractive('df-07ddee1e-2727-4fb3-a5b7-49abf5af2698')\"\n",
       "              title=\"Convert this dataframe to an interactive table.\"\n",
       "              style=\"display:none;\">\n",
       "        \n",
       "  <svg xmlns=\"http://www.w3.org/2000/svg\" height=\"24px\"viewBox=\"0 0 24 24\"\n",
       "       width=\"24px\">\n",
       "    <path d=\"M0 0h24v24H0V0z\" fill=\"none\"/>\n",
       "    <path d=\"M18.56 5.44l.94 2.06.94-2.06 2.06-.94-2.06-.94-.94-2.06-.94 2.06-2.06.94zm-11 1L8.5 8.5l.94-2.06 2.06-.94-2.06-.94L8.5 2.5l-.94 2.06-2.06.94zm10 10l.94 2.06.94-2.06 2.06-.94-2.06-.94-.94-2.06-.94 2.06-2.06.94z\"/><path d=\"M17.41 7.96l-1.37-1.37c-.4-.4-.92-.59-1.43-.59-.52 0-1.04.2-1.43.59L10.3 9.45l-7.72 7.72c-.78.78-.78 2.05 0 2.83L4 21.41c.39.39.9.59 1.41.59.51 0 1.02-.2 1.41-.59l7.78-7.78 2.81-2.81c.8-.78.8-2.07 0-2.86zM5.41 20L4 18.59l7.72-7.72 1.47 1.35L5.41 20z\"/>\n",
       "  </svg>\n",
       "      </button>\n",
       "      \n",
       "  <style>\n",
       "    .colab-df-container {\n",
       "      display:flex;\n",
       "      flex-wrap:wrap;\n",
       "      gap: 12px;\n",
       "    }\n",
       "\n",
       "    .colab-df-convert {\n",
       "      background-color: #E8F0FE;\n",
       "      border: none;\n",
       "      border-radius: 50%;\n",
       "      cursor: pointer;\n",
       "      display: none;\n",
       "      fill: #1967D2;\n",
       "      height: 32px;\n",
       "      padding: 0 0 0 0;\n",
       "      width: 32px;\n",
       "    }\n",
       "\n",
       "    .colab-df-convert:hover {\n",
       "      background-color: #E2EBFA;\n",
       "      box-shadow: 0px 1px 2px rgba(60, 64, 67, 0.3), 0px 1px 3px 1px rgba(60, 64, 67, 0.15);\n",
       "      fill: #174EA6;\n",
       "    }\n",
       "\n",
       "    [theme=dark] .colab-df-convert {\n",
       "      background-color: #3B4455;\n",
       "      fill: #D2E3FC;\n",
       "    }\n",
       "\n",
       "    [theme=dark] .colab-df-convert:hover {\n",
       "      background-color: #434B5C;\n",
       "      box-shadow: 0px 1px 3px 1px rgba(0, 0, 0, 0.15);\n",
       "      filter: drop-shadow(0px 1px 2px rgba(0, 0, 0, 0.3));\n",
       "      fill: #FFFFFF;\n",
       "    }\n",
       "  </style>\n",
       "\n",
       "      <script>\n",
       "        const buttonEl =\n",
       "          document.querySelector('#df-07ddee1e-2727-4fb3-a5b7-49abf5af2698 button.colab-df-convert');\n",
       "        buttonEl.style.display =\n",
       "          google.colab.kernel.accessAllowed ? 'block' : 'none';\n",
       "\n",
       "        async function convertToInteractive(key) {\n",
       "          const element = document.querySelector('#df-07ddee1e-2727-4fb3-a5b7-49abf5af2698');\n",
       "          const dataTable =\n",
       "            await google.colab.kernel.invokeFunction('convertToInteractive',\n",
       "                                                     [key], {});\n",
       "          if (!dataTable) return;\n",
       "\n",
       "          const docLinkHtml = 'Like what you see? Visit the ' +\n",
       "            '<a target=\"_blank\" href=https://colab.research.google.com/notebooks/data_table.ipynb>data table notebook</a>'\n",
       "            + ' to learn more about interactive tables.';\n",
       "          element.innerHTML = '';\n",
       "          dataTable['output_type'] = 'display_data';\n",
       "          await google.colab.output.renderOutput(dataTable, element);\n",
       "          const docLink = document.createElement('div');\n",
       "          docLink.innerHTML = docLinkHtml;\n",
       "          element.appendChild(docLink);\n",
       "        }\n",
       "      </script>\n",
       "    </div>\n",
       "  </div>\n",
       "  "
      ],
      "text/plain": [
       "                           job_title  ...                                job_functions\n",
       "0                      Manual Tester  ...        [Engineering, Information Technology]\n",
       "1     Field Marketing Representative  ...                           [Marketing, Sales]\n",
       "2  Consumer Relations Representative  ...                                      [Other]\n",
       "3          Software Engineer In Test  ...  [Information Technology, Quality Assurance]\n",
       "4                        Electrician  ...                  [Management, Manufacturing]\n",
       "\n",
       "[5 rows x 5 columns]"
      ]
     },
     "execution_count": 3,
     "metadata": {},
     "output_type": "execute_result"
    }
   ],
   "source": [
    "df = pd.read_csv(download_url)\n",
    "df.job_functions = df.job_functions.apply(eval)\n",
    "df.industries = df.industries.apply(eval)\n",
    "\n",
    "df.head()"
   ]
  },
  {
   "cell_type": "code",
   "execution_count": 4,
   "metadata": {
    "colab": {
     "base_uri": "https://localhost:8080/",
     "height": 206
    },
    "executionInfo": {
     "elapsed": 2059,
     "status": "ok",
     "timestamp": 1645299498552,
     "user": {
      "displayName": "Ivan Zidov",
      "photoUrl": "https://lh3.googleusercontent.com/a-/AOh14Gjahm8hyrECD6kPTVfV6aJTjtTwGoMFuzaGECbz2w=s64",
      "userId": "17601732119024015981"
     },
     "user_tz": -60
    },
    "id": "SXE9ev1YlaNS",
    "outputId": "0aeae14d-ad75-48c8-fb0d-6cc0a3634a08"
   },
   "outputs": [
    {
     "data": {
      "text/html": [
       "\n",
       "  <div id=\"df-a55ad478-ad52-4896-bb33-ced7cbce94b1\">\n",
       "    <div class=\"colab-df-container\">\n",
       "      <div>\n",
       "<style scoped>\n",
       "    .dataframe tbody tr th:only-of-type {\n",
       "        vertical-align: middle;\n",
       "    }\n",
       "\n",
       "    .dataframe tbody tr th {\n",
       "        vertical-align: top;\n",
       "    }\n",
       "\n",
       "    .dataframe thead th {\n",
       "        text-align: right;\n",
       "    }\n",
       "</style>\n",
       "<table border=\"1\" class=\"dataframe\">\n",
       "  <thead>\n",
       "    <tr style=\"text-align: right;\">\n",
       "      <th></th>\n",
       "      <th>job_title</th>\n",
       "      <th>seniority_level</th>\n",
       "      <th>employment_type</th>\n",
       "      <th>industries</th>\n",
       "      <th>job_functions</th>\n",
       "    </tr>\n",
       "  </thead>\n",
       "  <tbody>\n",
       "    <tr>\n",
       "      <th>0</th>\n",
       "      <td>CAD Drafter - Dallas, TX</td>\n",
       "      <td>Not Applicable</td>\n",
       "      <td>Full-time</td>\n",
       "      <td>[Construction, Civil Engineering, Real Estate]</td>\n",
       "      <td>[Design, Art/Creative, Information Technology]</td>\n",
       "    </tr>\n",
       "    <tr>\n",
       "      <th>1</th>\n",
       "      <td>COMPUTER ANALYST NOC-2171</td>\n",
       "      <td>Entry level</td>\n",
       "      <td>Full-time</td>\n",
       "      <td>[Information Technology and Services, Computer...</td>\n",
       "      <td>[Information Technology]</td>\n",
       "    </tr>\n",
       "    <tr>\n",
       "      <th>2</th>\n",
       "      <td>Videographer</td>\n",
       "      <td>Entry level</td>\n",
       "      <td>Full-time</td>\n",
       "      <td>[Marketing and Advertising, Internet, Financia...</td>\n",
       "      <td>[Design, Art/Creative, Information Technology]</td>\n",
       "    </tr>\n",
       "    <tr>\n",
       "      <th>3</th>\n",
       "      <td>Sales Representative</td>\n",
       "      <td>Entry level</td>\n",
       "      <td>Full-time</td>\n",
       "      <td>[Building Materials, Machinery, Mechanical or ...</td>\n",
       "      <td>[Sales, Business Development]</td>\n",
       "    </tr>\n",
       "    <tr>\n",
       "      <th>4</th>\n",
       "      <td>Open job positions for all employees</td>\n",
       "      <td>Entry level</td>\n",
       "      <td>Full-time</td>\n",
       "      <td>[Electrical/Electronic Manufacturing, Construc...</td>\n",
       "      <td>[Other]</td>\n",
       "    </tr>\n",
       "  </tbody>\n",
       "</table>\n",
       "</div>\n",
       "      <button class=\"colab-df-convert\" onclick=\"convertToInteractive('df-a55ad478-ad52-4896-bb33-ced7cbce94b1')\"\n",
       "              title=\"Convert this dataframe to an interactive table.\"\n",
       "              style=\"display:none;\">\n",
       "        \n",
       "  <svg xmlns=\"http://www.w3.org/2000/svg\" height=\"24px\"viewBox=\"0 0 24 24\"\n",
       "       width=\"24px\">\n",
       "    <path d=\"M0 0h24v24H0V0z\" fill=\"none\"/>\n",
       "    <path d=\"M18.56 5.44l.94 2.06.94-2.06 2.06-.94-2.06-.94-.94-2.06-.94 2.06-2.06.94zm-11 1L8.5 8.5l.94-2.06 2.06-.94-2.06-.94L8.5 2.5l-.94 2.06-2.06.94zm10 10l.94 2.06.94-2.06 2.06-.94-2.06-.94-.94-2.06-.94 2.06-2.06.94z\"/><path d=\"M17.41 7.96l-1.37-1.37c-.4-.4-.92-.59-1.43-.59-.52 0-1.04.2-1.43.59L10.3 9.45l-7.72 7.72c-.78.78-.78 2.05 0 2.83L4 21.41c.39.39.9.59 1.41.59.51 0 1.02-.2 1.41-.59l7.78-7.78 2.81-2.81c.8-.78.8-2.07 0-2.86zM5.41 20L4 18.59l7.72-7.72 1.47 1.35L5.41 20z\"/>\n",
       "  </svg>\n",
       "      </button>\n",
       "      \n",
       "  <style>\n",
       "    .colab-df-container {\n",
       "      display:flex;\n",
       "      flex-wrap:wrap;\n",
       "      gap: 12px;\n",
       "    }\n",
       "\n",
       "    .colab-df-convert {\n",
       "      background-color: #E8F0FE;\n",
       "      border: none;\n",
       "      border-radius: 50%;\n",
       "      cursor: pointer;\n",
       "      display: none;\n",
       "      fill: #1967D2;\n",
       "      height: 32px;\n",
       "      padding: 0 0 0 0;\n",
       "      width: 32px;\n",
       "    }\n",
       "\n",
       "    .colab-df-convert:hover {\n",
       "      background-color: #E2EBFA;\n",
       "      box-shadow: 0px 1px 2px rgba(60, 64, 67, 0.3), 0px 1px 3px 1px rgba(60, 64, 67, 0.15);\n",
       "      fill: #174EA6;\n",
       "    }\n",
       "\n",
       "    [theme=dark] .colab-df-convert {\n",
       "      background-color: #3B4455;\n",
       "      fill: #D2E3FC;\n",
       "    }\n",
       "\n",
       "    [theme=dark] .colab-df-convert:hover {\n",
       "      background-color: #434B5C;\n",
       "      box-shadow: 0px 1px 3px 1px rgba(0, 0, 0, 0.15);\n",
       "      filter: drop-shadow(0px 1px 2px rgba(0, 0, 0, 0.3));\n",
       "      fill: #FFFFFF;\n",
       "    }\n",
       "  </style>\n",
       "\n",
       "      <script>\n",
       "        const buttonEl =\n",
       "          document.querySelector('#df-a55ad478-ad52-4896-bb33-ced7cbce94b1 button.colab-df-convert');\n",
       "        buttonEl.style.display =\n",
       "          google.colab.kernel.accessAllowed ? 'block' : 'none';\n",
       "\n",
       "        async function convertToInteractive(key) {\n",
       "          const element = document.querySelector('#df-a55ad478-ad52-4896-bb33-ced7cbce94b1');\n",
       "          const dataTable =\n",
       "            await google.colab.kernel.invokeFunction('convertToInteractive',\n",
       "                                                     [key], {});\n",
       "          if (!dataTable) return;\n",
       "\n",
       "          const docLinkHtml = 'Like what you see? Visit the ' +\n",
       "            '<a target=\"_blank\" href=https://colab.research.google.com/notebooks/data_table.ipynb>data table notebook</a>'\n",
       "            + ' to learn more about interactive tables.';\n",
       "          element.innerHTML = '';\n",
       "          dataTable['output_type'] = 'display_data';\n",
       "          await google.colab.output.renderOutput(dataTable, element);\n",
       "          const docLink = document.createElement('div');\n",
       "          docLink.innerHTML = docLinkHtml;\n",
       "          element.appendChild(docLink);\n",
       "        }\n",
       "      </script>\n",
       "    </div>\n",
       "  </div>\n",
       "  "
      ],
      "text/plain": [
       "                              job_title  ...                                   job_functions\n",
       "0              CAD Drafter - Dallas, TX  ...  [Design, Art/Creative, Information Technology]\n",
       "1             COMPUTER ANALYST NOC-2171  ...                        [Information Technology]\n",
       "2                          Videographer  ...  [Design, Art/Creative, Information Technology]\n",
       "3                  Sales Representative  ...                   [Sales, Business Development]\n",
       "4  Open job positions for all employees  ...                                         [Other]\n",
       "\n",
       "[5 rows x 5 columns]"
      ]
     },
     "execution_count": 4,
     "metadata": {},
     "output_type": "execute_result"
    }
   ],
   "source": [
    "download_url = \"https://drive.google.com/uc?id=1emt0cqUyMlGr6sJzUIWR9omqBJbODMkU\"\n",
    "test = pd.read_csv(download_url)\n",
    "test.job_functions = test.job_functions.apply(eval)\n",
    "test.industries = test.industries.apply(eval)\n",
    "\n",
    "test.head()"
   ]
  },
  {
   "cell_type": "markdown",
   "metadata": {
    "id": "VRY4JWHd4bNm"
   },
   "source": [
    "## Model za predikciju iskustva iz naslova posla"
   ]
  },
  {
   "cell_type": "markdown",
   "metadata": {
    "id": "nfji43rm5smh"
   },
   "source": [
    "Ulaz:\n",
    "Tekst koji čistimo i pretvaramo u matricu. Maksimalna duljina je 10 riječi i maximalni broj riječi u rječniku je 10 000.\n",
    "\n",
    "Izlas:\n",
    "Jedna od 7 kategorija"
   ]
  },
  {
   "cell_type": "code",
   "execution_count": 8,
   "metadata": {
    "colab": {
     "base_uri": "https://localhost:8080/"
    },
    "executionInfo": {
     "elapsed": 1387,
     "status": "ok",
     "timestamp": 1645299540482,
     "user": {
      "displayName": "Ivan Zidov",
      "photoUrl": "https://lh3.googleusercontent.com/a-/AOh14Gjahm8hyrECD6kPTVfV6aJTjtTwGoMFuzaGECbz2w=s64",
      "userId": "17601732119024015981"
     },
     "user_tz": -60
    },
    "id": "FT4YCogmCFEv",
    "outputId": "5d856e0b-3253-485b-af8c-83cc3bf3f49a"
   },
   "outputs": [
    {
     "name": "stdout",
     "output_type": "stream",
     "text": [
      "[nltk_data] Downloading package stopwords to /root/nltk_data...\n",
      "[nltk_data]   Unzipping corpora/stopwords.zip.\n"
     ]
    }
   ],
   "source": [
    "from nltk.corpus import stopwords\n",
    "import nltk\n",
    "from nltk import word_tokenize\n",
    "nltk.download('stopwords')\n",
    "STOPWORDS = set(stopwords.words('english'))"
   ]
  },
  {
   "cell_type": "markdown",
   "metadata": {
    "id": "CiaDwULQDJkO"
   },
   "source": [
    "### Predprocesiranje"
   ]
  },
  {
   "cell_type": "code",
   "execution_count": 9,
   "metadata": {
    "colab": {
     "base_uri": "https://localhost:8080/"
    },
    "executionInfo": {
     "elapsed": 382,
     "status": "ok",
     "timestamp": 1645299551117,
     "user": {
      "displayName": "Ivan Zidov",
      "photoUrl": "https://lh3.googleusercontent.com/a-/AOh14Gjahm8hyrECD6kPTVfV6aJTjtTwGoMFuzaGECbz2w=s64",
      "userId": "17601732119024015981"
     },
     "user_tz": -60
    },
    "id": "hzUMuhht0Tul",
    "outputId": "fb86f863-4023-4c62-9ae3-31f5a377cb9a"
   },
   "outputs": [
    {
     "name": "stderr",
     "output_type": "stream",
     "text": [
      "/usr/local/lib/python3.7/dist-packages/ipykernel_launcher.py:22: FutureWarning: The default value of regex will change from True to False in a future version.\n"
     ]
    }
   ],
   "source": [
    "import re\n",
    "#REPLACE_BY_SPACE_RE = re.compile('[/(){}\\[\\]\\|@,;]')\n",
    "#BAD_SYMBOLS_RE = re.compile('[^0-9a-z #+_]')\n",
    "STOPWORDS = set(stopwords.words('english'))\n",
    "\n",
    "def clean_text(text):\n",
    "    \"\"\"\n",
    "        text: a string\n",
    "        \n",
    "        return: modified initial string\n",
    "    \"\"\"\n",
    "    text = text.lower() # lowercase text\n",
    "    #text = REPLACE_BY_SPACE_RE.sub(' ', text) # replace REPLACE_BY_SPACE_RE symbols by space in text. substitute the matched string in REPLACE_BY_SPACE_RE with space.\n",
    "    #text = BAD_SYMBOLS_RE.sub('', text) # remove symbols which are in BAD_SYMBOLS_RE from text. substitute the matched string in BAD_SYMBOLS_RE with nothing. \n",
    "    #text = text.replace('x', '')\n",
    "    #text = re.sub(r'\\W+', '', text)\n",
    "    text = ' '.join(word for word in text.split() if word not in STOPWORDS) # remove stopwors from text\n",
    "    return text\n",
    "\n",
    "\n",
    "df.job_title = df.job_title.apply(clean_text)\n",
    "df.job_title = df.job_title.str.replace('\\d+', '')\n"
   ]
  },
  {
   "cell_type": "markdown",
   "metadata": {
    "id": "glH0fomrDL39"
   },
   "source": [
    "### Tokenizacija"
   ]
  },
  {
   "cell_type": "code",
   "execution_count": 10,
   "metadata": {
    "executionInfo": {
     "elapsed": 2509,
     "status": "ok",
     "timestamp": 1645299557447,
     "user": {
      "displayName": "Ivan Zidov",
      "photoUrl": "https://lh3.googleusercontent.com/a-/AOh14Gjahm8hyrECD6kPTVfV6aJTjtTwGoMFuzaGECbz2w=s64",
      "userId": "17601732119024015981"
     },
     "user_tz": -60
    },
    "id": "LMDyyw97DPgG"
   },
   "outputs": [],
   "source": [
    "from tensorflow.keras.preprocessing.text import Tokenizer"
   ]
  },
  {
   "cell_type": "code",
   "execution_count": 11,
   "metadata": {
    "colab": {
     "base_uri": "https://localhost:8080/"
    },
    "executionInfo": {
     "elapsed": 1407,
     "status": "ok",
     "timestamp": 1645299561614,
     "user": {
      "displayName": "Ivan Zidov",
      "photoUrl": "https://lh3.googleusercontent.com/a-/AOh14Gjahm8hyrECD6kPTVfV6aJTjtTwGoMFuzaGECbz2w=s64",
      "userId": "17601732119024015981"
     },
     "user_tz": -60
    },
    "id": "WO6lDp-aB90C",
    "outputId": "ec383d1a-44bd-4265-cb93-6f86bf4ca5ee"
   },
   "outputs": [
    {
     "name": "stdout",
     "output_type": "stream",
     "text": [
      "Found 17893 unique tokens.\n"
     ]
    }
   ],
   "source": [
    "# The maximum number of words to be used. (most frequent)\n",
    "MAX_NB_WORDS = 10000\n",
    "# Max number of words in each complaint.\n",
    "MAX_SEQUENCE_LENGTH = 10\n",
    "# This is fixed.\n",
    "EMBEDDING_DIM = 100\n",
    "\n",
    "tokenizer = Tokenizer(\n",
    "    num_words=MAX_NB_WORDS, \n",
    "    filters='!\"#$%&()*+,-./:;<=>?@[\\]^_`{|}~', \n",
    "    lower=True)\n",
    "\n",
    "tokenizer.fit_on_texts(df.job_title.values)\n",
    "word_index = tokenizer.word_index\n",
    "print('Found %s unique tokens.' % len(word_index))"
   ]
  },
  {
   "cell_type": "code",
   "execution_count": 11,
   "metadata": {
    "executionInfo": {
     "elapsed": 1,
     "status": "ok",
     "timestamp": 1645299562659,
     "user": {
      "displayName": "Ivan Zidov",
      "photoUrl": "https://lh3.googleusercontent.com/a-/AOh14Gjahm8hyrECD6kPTVfV6aJTjtTwGoMFuzaGECbz2w=s64",
      "userId": "17601732119024015981"
     },
     "user_tz": -60
    },
    "id": "wtmw9MHpEo2a"
   },
   "outputs": [],
   "source": []
  },
  {
   "cell_type": "code",
   "execution_count": 12,
   "metadata": {
    "executionInfo": {
     "elapsed": 900,
     "status": "ok",
     "timestamp": 1645299563839,
     "user": {
      "displayName": "Ivan Zidov",
      "photoUrl": "https://lh3.googleusercontent.com/a-/AOh14Gjahm8hyrECD6kPTVfV6aJTjtTwGoMFuzaGECbz2w=s64",
      "userId": "17601732119024015981"
     },
     "user_tz": -60
    },
    "id": "iGKFYHR6Eaee"
   },
   "outputs": [],
   "source": [
    "X = tokenizer.texts_to_sequences(df.job_title.values)\n"
   ]
  },
  {
   "cell_type": "code",
   "execution_count": 13,
   "metadata": {
    "colab": {
     "base_uri": "https://localhost:8080/",
     "height": 35
    },
    "executionInfo": {
     "elapsed": 289,
     "status": "ok",
     "timestamp": 1645299568191,
     "user": {
      "displayName": "Ivan Zidov",
      "photoUrl": "https://lh3.googleusercontent.com/a-/AOh14Gjahm8hyrECD6kPTVfV6aJTjtTwGoMFuzaGECbz2w=s64",
      "userId": "17601732119024015981"
     },
     "user_tz": -60
    },
    "id": "8sLSO_XkEvfm",
    "outputId": "16228d81-1fcf-4f74-87b9-12475d130637"
   },
   "outputs": [
    {
     "data": {
      "application/vnd.google.colaboratory.intrinsic+json": {
       "type": "string"
      },
      "text/plain": [
       "'manual tester'"
      ]
     },
     "execution_count": 13,
     "metadata": {},
     "output_type": "execute_result"
    }
   ],
   "source": [
    "df.job_title[0]"
   ]
  },
  {
   "cell_type": "code",
   "execution_count": 14,
   "metadata": {
    "colab": {
     "base_uri": "https://localhost:8080/"
    },
    "executionInfo": {
     "elapsed": 2,
     "status": "ok",
     "timestamp": 1645299568506,
     "user": {
      "displayName": "Ivan Zidov",
      "photoUrl": "https://lh3.googleusercontent.com/a-/AOh14Gjahm8hyrECD6kPTVfV6aJTjtTwGoMFuzaGECbz2w=s64",
      "userId": "17601732119024015981"
     },
     "user_tz": -60
    },
    "id": "Knd78hF2ErFB",
    "outputId": "787e23ba-10e2-4619-99f8-96c4c06546bc"
   },
   "outputs": [
    {
     "data": {
      "text/plain": [
       "[593, 287]"
      ]
     },
     "execution_count": 14,
     "metadata": {},
     "output_type": "execute_result"
    }
   ],
   "source": [
    "X[0]"
   ]
  },
  {
   "cell_type": "code",
   "execution_count": 15,
   "metadata": {
    "executionInfo": {
     "elapsed": 1,
     "status": "ok",
     "timestamp": 1645299569843,
     "user": {
      "displayName": "Ivan Zidov",
      "photoUrl": "https://lh3.googleusercontent.com/a-/AOh14Gjahm8hyrECD6kPTVfV6aJTjtTwGoMFuzaGECbz2w=s64",
      "userId": "17601732119024015981"
     },
     "user_tz": -60
    },
    "id": "E4awYxbiE9lJ"
   },
   "outputs": [],
   "source": [
    "from tensorflow.keras.preprocessing.sequence import pad_sequences"
   ]
  },
  {
   "cell_type": "code",
   "execution_count": 16,
   "metadata": {
    "colab": {
     "base_uri": "https://localhost:8080/"
    },
    "executionInfo": {
     "elapsed": 669,
     "status": "ok",
     "timestamp": 1645299571534,
     "user": {
      "displayName": "Ivan Zidov",
      "photoUrl": "https://lh3.googleusercontent.com/a-/AOh14Gjahm8hyrECD6kPTVfV6aJTjtTwGoMFuzaGECbz2w=s64",
      "userId": "17601732119024015981"
     },
     "user_tz": -60
    },
    "id": "Hb6ZTGBKE6Bk",
    "outputId": "a1f07ccd-69ba-410a-d1d6-3a0f23683def"
   },
   "outputs": [
    {
     "name": "stdout",
     "output_type": "stream",
     "text": [
      "Shape of data tensor: (100000, 10)\n"
     ]
    }
   ],
   "source": [
    "X = pad_sequences(X, maxlen=MAX_SEQUENCE_LENGTH)\n",
    "print('Shape of data tensor:', X.shape)"
   ]
  },
  {
   "cell_type": "code",
   "execution_count": 17,
   "metadata": {
    "colab": {
     "base_uri": "https://localhost:8080/"
    },
    "executionInfo": {
     "elapsed": 279,
     "status": "ok",
     "timestamp": 1645299572958,
     "user": {
      "displayName": "Ivan Zidov",
      "photoUrl": "https://lh3.googleusercontent.com/a-/AOh14Gjahm8hyrECD6kPTVfV6aJTjtTwGoMFuzaGECbz2w=s64",
      "userId": "17601732119024015981"
     },
     "user_tz": -60
    },
    "id": "Qcu39E2wE_MK",
    "outputId": "af14780d-070a-4153-b4d1-68f63089f431"
   },
   "outputs": [
    {
     "name": "stdout",
     "output_type": "stream",
     "text": [
      "Shape of label tensor: (100000, 7)\n"
     ]
    }
   ],
   "source": [
    "Y = pd.get_dummies(df.seniority_level).values\n",
    "print('Shape of label tensor:', Y.shape)\n",
    "NUMBER_OF_CLASSES = Y.shape[1]"
   ]
  },
  {
   "cell_type": "code",
   "execution_count": 18,
   "metadata": {
    "colab": {
     "base_uri": "https://localhost:8080/"
    },
    "executionInfo": {
     "elapsed": 2,
     "status": "ok",
     "timestamp": 1645299573267,
     "user": {
      "displayName": "Ivan Zidov",
      "photoUrl": "https://lh3.googleusercontent.com/a-/AOh14Gjahm8hyrECD6kPTVfV6aJTjtTwGoMFuzaGECbz2w=s64",
      "userId": "17601732119024015981"
     },
     "user_tz": -60
    },
    "id": "vYAPqH9uFUT2",
    "outputId": "73a147da-fd81-47d0-8b29-7fad8d29d9c5"
   },
   "outputs": [
    {
     "data": {
      "text/plain": [
       "array([[0, 0, 1, ..., 0, 0, 0],\n",
       "       [0, 0, 1, ..., 0, 0, 0],\n",
       "       [1, 0, 0, ..., 0, 0, 0],\n",
       "       ...,\n",
       "       [0, 0, 1, ..., 0, 0, 0],\n",
       "       [0, 0, 0, ..., 1, 0, 0],\n",
       "       [0, 0, 1, ..., 0, 0, 0]], dtype=uint8)"
      ]
     },
     "execution_count": 18,
     "metadata": {},
     "output_type": "execute_result"
    }
   ],
   "source": [
    "Y"
   ]
  },
  {
   "cell_type": "markdown",
   "metadata": {
    "id": "kowdv5wnFq2g"
   },
   "source": [
    "### Gradnja modela"
   ]
  },
  {
   "cell_type": "code",
   "execution_count": 19,
   "metadata": {
    "executionInfo": {
     "elapsed": 276,
     "status": "ok",
     "timestamp": 1645299575444,
     "user": {
      "displayName": "Ivan Zidov",
      "photoUrl": "https://lh3.googleusercontent.com/a-/AOh14Gjahm8hyrECD6kPTVfV6aJTjtTwGoMFuzaGECbz2w=s64",
      "userId": "17601732119024015981"
     },
     "user_tz": -60
    },
    "id": "Z2gtdJelFseY"
   },
   "outputs": [],
   "source": [
    "from tensorflow.keras.models import Sequential\n",
    "from tensorflow.keras.layers import Dense, Embedding, LSTM, SpatialDropout1D\n",
    "#from sklearn.model_selection import train_test_split\n",
    "from tensorflow.keras.callbacks import EarlyStopping\n",
    "from tensorflow.keras.layers import Dropout"
   ]
  },
  {
   "cell_type": "code",
   "execution_count": 20,
   "metadata": {
    "colab": {
     "base_uri": "https://localhost:8080/"
    },
    "executionInfo": {
     "elapsed": 2,
     "status": "ok",
     "timestamp": 1645299576474,
     "user": {
      "displayName": "Ivan Zidov",
      "photoUrl": "https://lh3.googleusercontent.com/a-/AOh14Gjahm8hyrECD6kPTVfV6aJTjtTwGoMFuzaGECbz2w=s64",
      "userId": "17601732119024015981"
     },
     "user_tz": -60
    },
    "id": "To0YlXxoGApI",
    "outputId": "c0fee64e-25ac-4480-d9a7-87900fd09bb9"
   },
   "outputs": [
    {
     "data": {
      "text/plain": [
       "(100000, 10)"
      ]
     },
     "execution_count": 20,
     "metadata": {},
     "output_type": "execute_result"
    }
   ],
   "source": [
    "X.shape"
   ]
  },
  {
   "cell_type": "code",
   "execution_count": 21,
   "metadata": {
    "colab": {
     "base_uri": "https://localhost:8080/"
    },
    "executionInfo": {
     "elapsed": 3,
     "status": "ok",
     "timestamp": 1645299577448,
     "user": {
      "displayName": "Ivan Zidov",
      "photoUrl": "https://lh3.googleusercontent.com/a-/AOh14Gjahm8hyrECD6kPTVfV6aJTjtTwGoMFuzaGECbz2w=s64",
      "userId": "17601732119024015981"
     },
     "user_tz": -60
    },
    "id": "1CH7KbdWGP9a",
    "outputId": "0d5eb19d-332d-469d-ea07-18255bee372f"
   },
   "outputs": [
    {
     "data": {
      "text/plain": [
       "(100000, 7)"
      ]
     },
     "execution_count": 21,
     "metadata": {},
     "output_type": "execute_result"
    }
   ],
   "source": [
    "Y.shape"
   ]
  },
  {
   "cell_type": "code",
   "execution_count": 22,
   "metadata": {
    "executionInfo": {
     "elapsed": 3632,
     "status": "ok",
     "timestamp": 1645299581734,
     "user": {
      "displayName": "Ivan Zidov",
      "photoUrl": "https://lh3.googleusercontent.com/a-/AOh14Gjahm8hyrECD6kPTVfV6aJTjtTwGoMFuzaGECbz2w=s64",
      "userId": "17601732119024015981"
     },
     "user_tz": -60
    },
    "id": "2Zzoaj6yFeso"
   },
   "outputs": [],
   "source": [
    "model = Sequential()\n",
    "model.add(Embedding(MAX_NB_WORDS, EMBEDDING_DIM, input_length=MAX_SEQUENCE_LENGTH))\n",
    "model.add(LSTM(100, dropout=0.2))\n",
    "model.add(Dense(NUMBER_OF_CLASSES, activation='softmax'))\n",
    "model.compile(loss='categorical_crossentropy', optimizer='adam', metrics=['accuracy'])"
   ]
  },
  {
   "cell_type": "markdown",
   "metadata": {
    "id": "3SU9qqhI7H4X"
   },
   "source": [
    "## [0, 0, 1] [0.1, 0.2, 0.7] [0.3, 0.4, 0.3]"
   ]
  },
  {
   "cell_type": "code",
   "execution_count": 23,
   "metadata": {
    "colab": {
     "base_uri": "https://localhost:8080/"
    },
    "executionInfo": {
     "elapsed": 413,
     "status": "ok",
     "timestamp": 1645299582141,
     "user": {
      "displayName": "Ivan Zidov",
      "photoUrl": "https://lh3.googleusercontent.com/a-/AOh14Gjahm8hyrECD6kPTVfV6aJTjtTwGoMFuzaGECbz2w=s64",
      "userId": "17601732119024015981"
     },
     "user_tz": -60
    },
    "id": "w8O-X73-F2kn",
    "outputId": "f8a4f770-dcab-4938-dc30-a450f7e809aa"
   },
   "outputs": [
    {
     "name": "stdout",
     "output_type": "stream",
     "text": [
      "Model: \"sequential\"\n",
      "_________________________________________________________________\n",
      " Layer (type)                Output Shape              Param #   \n",
      "=================================================================\n",
      " embedding (Embedding)       (None, 10, 100)           1000000   \n",
      "                                                                 \n",
      " lstm (LSTM)                 (None, 100)               80400     \n",
      "                                                                 \n",
      " dense (Dense)               (None, 7)                 707       \n",
      "                                                                 \n",
      "=================================================================\n",
      "Total params: 1,081,107\n",
      "Trainable params: 1,081,107\n",
      "Non-trainable params: 0\n",
      "_________________________________________________________________\n",
      "None\n"
     ]
    }
   ],
   "source": [
    "print(model.summary())"
   ]
  },
  {
   "cell_type": "code",
   "execution_count": 24,
   "metadata": {
    "colab": {
     "base_uri": "https://localhost:8080/"
    },
    "executionInfo": {
     "elapsed": 16686,
     "status": "ok",
     "timestamp": 1645299600446,
     "user": {
      "displayName": "Ivan Zidov",
      "photoUrl": "https://lh3.googleusercontent.com/a-/AOh14Gjahm8hyrECD6kPTVfV6aJTjtTwGoMFuzaGECbz2w=s64",
      "userId": "17601732119024015981"
     },
     "user_tz": -60
    },
    "id": "QK7xGVOFGhCc",
    "outputId": "7f954796-f3b2-4d54-cb2f-a13600a87942"
   },
   "outputs": [
    {
     "name": "stdout",
     "output_type": "stream",
     "text": [
      "Epoch 1/5\n",
      "157/157 [==============================] - 9s 17ms/step - loss: 1.2524 - accuracy: 0.5486 - val_loss: 0.9986 - val_accuracy: 0.6551\n",
      "Epoch 2/5\n",
      "157/157 [==============================] - 2s 12ms/step - loss: 0.9251 - accuracy: 0.6780 - val_loss: 0.9300 - val_accuracy: 0.6758\n",
      "Epoch 3/5\n",
      "157/157 [==============================] - 2s 11ms/step - loss: 0.8496 - accuracy: 0.7074 - val_loss: 0.9106 - val_accuracy: 0.6883\n",
      "Epoch 4/5\n",
      "157/157 [==============================] - 2s 12ms/step - loss: 0.8058 - accuracy: 0.7218 - val_loss: 0.9124 - val_accuracy: 0.6879\n",
      "Epoch 5/5\n",
      "157/157 [==============================] - 2s 12ms/step - loss: 0.7765 - accuracy: 0.7316 - val_loss: 0.9125 - val_accuracy: 0.6884\n"
     ]
    }
   ],
   "source": [
    "epochs = 5\n",
    "batch_size = 512\n",
    "\n",
    "history = model.fit(X, Y, epochs=epochs, batch_size=batch_size,\n",
    "                    validation_split=0.2\n",
    "                   )"
   ]
  },
  {
   "cell_type": "code",
   "execution_count": 25,
   "metadata": {
    "executionInfo": {
     "elapsed": 263,
     "status": "ok",
     "timestamp": 1645299601971,
     "user": {
      "displayName": "Ivan Zidov",
      "photoUrl": "https://lh3.googleusercontent.com/a-/AOh14Gjahm8hyrECD6kPTVfV6aJTjtTwGoMFuzaGECbz2w=s64",
      "userId": "17601732119024015981"
     },
     "user_tz": -60
    },
    "id": "IRopFmHQJDUa"
   },
   "outputs": [],
   "source": [
    "import matplotlib.pyplot as plt"
   ]
  },
  {
   "cell_type": "code",
   "execution_count": 26,
   "metadata": {
    "colab": {
     "base_uri": "https://localhost:8080/",
     "height": 281
    },
    "executionInfo": {
     "elapsed": 562,
     "status": "ok",
     "timestamp": 1645299603318,
     "user": {
      "displayName": "Ivan Zidov",
      "photoUrl": "https://lh3.googleusercontent.com/a-/AOh14Gjahm8hyrECD6kPTVfV6aJTjtTwGoMFuzaGECbz2w=s64",
      "userId": "17601732119024015981"
     },
     "user_tz": -60
    },
    "id": "wsn3OfcXHPLD",
    "outputId": "b641193d-6a5d-4e9a-d8c9-686577cd58d4"
   },
   "outputs": [
    {
     "data": {
      "image/png": "[encoded data removed]",
      "text/plain": [
       "<Figure size 432x288 with 1 Axes>"
      ]
     },
     "metadata": {
      "needs_background": "light"
     },
     "output_type": "display_data"
    }
   ],
   "source": [
    "plt.title('Loss')\n",
    "plt.plot(history.history['loss'], label='train')\n",
    "plt.plot(history.history['val_loss'], label='test')\n",
    "plt.legend()\n",
    "plt.show();"
   ]
  },
  {
   "cell_type": "code",
   "execution_count": 27,
   "metadata": {
    "colab": {
     "base_uri": "https://localhost:8080/",
     "height": 281
    },
    "executionInfo": {
     "elapsed": 605,
     "status": "ok",
     "timestamp": 1645299604933,
     "user": {
      "displayName": "Ivan Zidov",
      "photoUrl": "https://lh3.googleusercontent.com/a-/AOh14Gjahm8hyrECD6kPTVfV6aJTjtTwGoMFuzaGECbz2w=s64",
      "userId": "17601732119024015981"
     },
     "user_tz": -60
    },
    "id": "SFojM9lzI5lN",
    "outputId": "e8be43b3-e3a5-4f9b-e1e4-256480793aa5"
   },
   "outputs": [
    {
     "data": {
      "image/png": "[encoded data removed]",
      "text/plain": [
       "<Figure size 432x288 with 1 Axes>"
      ]
     },
     "metadata": {
      "needs_background": "light"
     },
     "output_type": "display_data"
    }
   ],
   "source": [
    "plt.title('Accuracy')\n",
    "plt.plot(history.history['accuracy'], label='train')\n",
    "plt.plot(history.history['val_accuracy'], label='test')\n",
    "plt.legend()\n",
    "plt.show();"
   ]
  },
  {
   "cell_type": "code",
   "execution_count": null,
   "metadata": {
    "id": "P4xqgdBpJLaT"
   },
   "outputs": [],
   "source": []
  }
 ],
 "metadata": {
  "accelerator": "GPU",
  "colab": {
   "collapsed_sections": [],
   "name": "2. Multiclass.ipynb",
   "provenance": []
  },
  "kernelspec": {
   "display_name": "Python 3 (ipykernel)",
   "language": "python",
   "name": "python3"
  },
  "language_info": {
   "codemirror_mode": {
    "name": "ipython",
    "version": 3
   },
   "file_extension": ".py",
   "mimetype": "text/x-python",
   "name": "python",
   "nbconvert_exporter": "python",
   "pygments_lexer": "ipython3",
   "version": "3.10.0"
  }
 },
 "nbformat": 4,
 "nbformat_minor": 1
}
