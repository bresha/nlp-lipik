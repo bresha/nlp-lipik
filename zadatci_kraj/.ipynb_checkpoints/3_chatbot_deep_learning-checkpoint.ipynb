{
 "cells": [
  {
   "cell_type": "code",
   "execution_count": 1,
   "id": "8103378c",
   "metadata": {},
   "outputs": [],
   "source": [
    "import json"
   ]
  },
  {
   "cell_type": "code",
   "execution_count": 2,
   "id": "8e07566a",
   "metadata": {},
   "outputs": [],
   "source": [
    "with open(\"intents.json\") as f:\n",
    "    intents_json = json.load(f)"
   ]
  },
  {
   "cell_type": "code",
   "execution_count": 4,
   "id": "37c5dc1f",
   "metadata": {},
   "outputs": [
    {
     "data": {
      "text/plain": [
       "{'intents': [{'tag': 'pozdrav',\n",
       "   'patterns': ['bok', 'hej', 'dobar dan', 'dobro jutro'],\n",
       "   'responses': ['zdravo', 'dan', 'bok']},\n",
       "  {'tag': 'odzdrav',\n",
       "   'patterns': ['doviđenja', 'đenja', 'bok'],\n",
       "   'responses': ['čujemo se', 'bok', 'vidimo se']}]}"
      ]
     },
     "execution_count": 4,
     "metadata": {},
     "output_type": "execute_result"
    }
   ],
   "source": [
    "intents_json"
   ]
  },
  {
   "cell_type": "code",
   "execution_count": 5,
   "id": "a9639367",
   "metadata": {},
   "outputs": [],
   "source": [
    "patterns = []\n",
    "\n",
    "for intent in intents_json[\"intents\"]:\n",
    "    for pattern in intent[\"patterns\"]:\n",
    "        patterns.append(pattern)"
   ]
  },
  {
   "cell_type": "code",
   "execution_count": 6,
   "id": "cfc33373",
   "metadata": {},
   "outputs": [
    {
     "data": {
      "text/plain": [
       "['bok', 'hej', 'dobar dan', 'dobro jutro', 'doviđenja', 'đenja', 'bok']"
      ]
     },
     "execution_count": 6,
     "metadata": {},
     "output_type": "execute_result"
    }
   ],
   "source": [
    "patterns"
   ]
  },
  {
   "cell_type": "code",
   "execution_count": 7,
   "id": "a4b7e187",
   "metadata": {},
   "outputs": [],
   "source": [
    "responses = []\n",
    "\n",
    "for intent in intents_json[\"intents\"]:\n",
    "    for response in intent[\"responses\"]:\n",
    "        responses.append(response)"
   ]
  },
  {
   "cell_type": "code",
   "execution_count": 8,
   "id": "1c008884",
   "metadata": {},
   "outputs": [
    {
     "data": {
      "text/plain": [
       "['zdravo', 'dan', 'bok', 'čujemo se', 'bok', 'vidimo se']"
      ]
     },
     "execution_count": 8,
     "metadata": {},
     "output_type": "execute_result"
    }
   ],
   "source": [
    "responses"
   ]
  },
  {
   "cell_type": "code",
   "execution_count": null,
   "id": "0bfe4e22",
   "metadata": {},
   "outputs": [],
   "source": []
  },
  {
   "cell_type": "code",
   "execution_count": null,
   "id": "f24a7936",
   "metadata": {},
   "outputs": [],
   "source": []
  }
 ],
 "metadata": {
  "kernelspec": {
   "display_name": "Python 3 (ipykernel)",
   "language": "python",
   "name": "python3"
  },
  "language_info": {
   "codemirror_mode": {
    "name": "ipython",
    "version": 3
   },
   "file_extension": ".py",
   "mimetype": "text/x-python",
   "name": "python",
   "nbconvert_exporter": "python",
   "pygments_lexer": "ipython3",
   "version": "3.9.7"
  }
 },
 "nbformat": 4,
 "nbformat_minor": 5
}
