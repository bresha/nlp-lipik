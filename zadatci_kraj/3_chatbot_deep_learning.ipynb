{
 "cells": [
  {
   "cell_type": "code",
   "execution_count": 24,
   "id": "49143605",
   "metadata": {},
   "outputs": [],
   "source": [
    "import json\n",
    "from sklearn.preprocessing import LabelEncoder\n",
    "from sklearn.model_selection import train_test_split\n",
    "import tensorflow as tf\n",
    "from tensorflow import keras\n",
    "from tensorflow.keras import layers\n",
    "from tensorflow.keras.preprocessing.text import Tokenizer\n",
    "from tensorflow.keras.preprocessing.sequence import pad_sequences\n",
    "import numpy as np"
   ]
  },
  {
   "cell_type": "code",
   "execution_count": 25,
   "id": "98a3708c",
   "metadata": {},
   "outputs": [
    {
     "name": "stdout",
     "output_type": "stream",
     "text": [
      "Gpu name [PhysicalDevice(name='/physical_device:GPU:0', device_type='GPU')]\n"
     ]
    }
   ],
   "source": [
    "print(\"Gpu name\", tf.config.experimental.list_physical_devices('GPU'))"
   ]
  },
  {
   "cell_type": "code",
   "execution_count": 26,
   "id": "cddb6e5d",
   "metadata": {},
   "outputs": [],
   "source": [
    "with open(\"intents.json\") as f:\n",
    "    intents_json = json.load(f)"
   ]
  },
  {
   "cell_type": "code",
   "execution_count": 27,
   "id": "fd220731",
   "metadata": {},
   "outputs": [
    {
     "data": {
      "text/plain": [
       "{'intents': [{'tag': 'pozdrav',\n",
       "   'patterns': ['bok', 'hej', 'dobar dan', 'dobro jutro'],\n",
       "   'responses': ['zdravo', 'dan', 'bok']},\n",
       "  {'tag': 'odzdrav',\n",
       "   'patterns': ['doviđenja', 'đenja', 'bok'],\n",
       "   'responses': ['čujemo se', 'bok', 'vidimo se']}]}"
      ]
     },
     "execution_count": 27,
     "metadata": {},
     "output_type": "execute_result"
    }
   ],
   "source": [
    "intents_json"
   ]
  },
  {
   "cell_type": "code",
   "execution_count": 28,
   "id": "21d0d787",
   "metadata": {},
   "outputs": [],
   "source": [
    "patterns = []\n",
    "classes = []\n",
    "responses = []\n",
    "for intent in intents_json[\"intents\"]:\n",
    "    for pattern in intent[\"patterns\"]:\n",
    "        patterns.append(pattern)\n",
    "        classes.append(intent[\"tag\"])\n",
    "    responses.append(intent[\"responses\"])"
   ]
  },
  {
   "cell_type": "code",
   "execution_count": 29,
   "id": "db519e16",
   "metadata": {},
   "outputs": [
    {
     "data": {
      "text/plain": [
       "['bok', 'hej', 'dobar dan', 'dobro jutro', 'doviđenja', 'đenja', 'bok']"
      ]
     },
     "execution_count": 29,
     "metadata": {},
     "output_type": "execute_result"
    }
   ],
   "source": [
    "patterns"
   ]
  },
  {
   "cell_type": "code",
   "execution_count": 30,
   "id": "d1a85a7e",
   "metadata": {},
   "outputs": [
    {
     "data": {
      "text/plain": [
       "['pozdrav', 'pozdrav', 'pozdrav', 'pozdrav', 'odzdrav', 'odzdrav', 'odzdrav']"
      ]
     },
     "execution_count": 30,
     "metadata": {},
     "output_type": "execute_result"
    }
   ],
   "source": [
    "classes"
   ]
  },
  {
   "cell_type": "code",
   "execution_count": 31,
   "id": "9f786c8d",
   "metadata": {},
   "outputs": [
    {
     "data": {
      "text/plain": [
       "[['zdravo', 'dan', 'bok'], ['čujemo se', 'bok', 'vidimo se']]"
      ]
     },
     "execution_count": 31,
     "metadata": {},
     "output_type": "execute_result"
    }
   ],
   "source": [
    "responses"
   ]
  },
  {
   "cell_type": "code",
   "execution_count": 9,
   "id": "ab293d4a",
   "metadata": {},
   "outputs": [],
   "source": [
    "unique_classes = []\n",
    "\n",
    "for class_ in classes:\n",
    "    if class_ not in unique_classes:\n",
    "        unique_classes.append(class_)"
   ]
  },
  {
   "cell_type": "code",
   "execution_count": 10,
   "id": "2660b637",
   "metadata": {},
   "outputs": [
    {
     "data": {
      "text/plain": [
       "['pozdrav', 'odzdrav']"
      ]
     },
     "execution_count": 10,
     "metadata": {},
     "output_type": "execute_result"
    }
   ],
   "source": [
    "unique_classes"
   ]
  },
  {
   "cell_type": "code",
   "execution_count": 11,
   "id": "eed3960a",
   "metadata": {},
   "outputs": [],
   "source": [
    "le = LabelEncoder()\n",
    "labels = le.fit_transform(classes)"
   ]
  },
  {
   "cell_type": "code",
   "execution_count": 12,
   "id": "d50402c8",
   "metadata": {},
   "outputs": [
    {
     "data": {
      "text/plain": [
       "array([1, 1, 1, 1, 0, 0, 0])"
      ]
     },
     "execution_count": 12,
     "metadata": {},
     "output_type": "execute_result"
    }
   ],
   "source": [
    "labels"
   ]
  },
  {
   "cell_type": "code",
   "execution_count": 13,
   "id": "a3292e1a",
   "metadata": {},
   "outputs": [
    {
     "data": {
      "text/plain": [
       "(7,)"
      ]
     },
     "execution_count": 13,
     "metadata": {},
     "output_type": "execute_result"
    }
   ],
   "source": [
    "labels.shape"
   ]
  },
  {
   "cell_type": "code",
   "execution_count": 14,
   "id": "4730b316",
   "metadata": {},
   "outputs": [],
   "source": [
    "labels = labels.reshape(-1, 1)"
   ]
  },
  {
   "cell_type": "code",
   "execution_count": 15,
   "id": "376f2d6b",
   "metadata": {},
   "outputs": [],
   "source": [
    "tokenizer = Tokenizer()\n",
    "tokenizer.fit_on_texts(patterns)\n",
    "tokens = tokenizer.texts_to_sequences(patterns)"
   ]
  },
  {
   "cell_type": "code",
   "execution_count": 16,
   "id": "aa3517af",
   "metadata": {},
   "outputs": [],
   "source": [
    "padded_tokens = pad_sequences(tokens)"
   ]
  },
  {
   "cell_type": "code",
   "execution_count": 17,
   "id": "1aae8f7e",
   "metadata": {},
   "outputs": [
    {
     "data": {
      "text/plain": [
       "array([[0, 1],\n",
       "       [0, 2],\n",
       "       [3, 4],\n",
       "       [5, 6],\n",
       "       [0, 7],\n",
       "       [0, 8],\n",
       "       [0, 1]], dtype=int32)"
      ]
     },
     "execution_count": 17,
     "metadata": {},
     "output_type": "execute_result"
    }
   ],
   "source": [
    "padded_tokens"
   ]
  },
  {
   "cell_type": "code",
   "execution_count": 18,
   "id": "6d345fa6",
   "metadata": {},
   "outputs": [
    {
     "data": {
      "text/plain": [
       "(7, 2)"
      ]
     },
     "execution_count": 18,
     "metadata": {},
     "output_type": "execute_result"
    }
   ],
   "source": [
    "padded_tokens.shape"
   ]
  },
  {
   "cell_type": "code",
   "execution_count": 19,
   "id": "09caa478",
   "metadata": {},
   "outputs": [
    {
     "data": {
      "text/plain": [
       "8"
      ]
     },
     "execution_count": 19,
     "metadata": {},
     "output_type": "execute_result"
    }
   ],
   "source": [
    "len(tokenizer.word_index)"
   ]
  },
  {
   "cell_type": "code",
   "execution_count": 20,
   "id": "1951de04",
   "metadata": {},
   "outputs": [
    {
     "name": "stderr",
     "output_type": "stream",
     "text": [
      "2022-02-25 11:17:40.396003: I tensorflow/core/platform/cpu_feature_guard.cc:151] This TensorFlow binary is optimized with oneAPI Deep Neural Network Library (oneDNN) to use the following CPU instructions in performance-critical operations:  AVX2 FMA\n",
      "To enable them in other operations, rebuild TensorFlow with the appropriate compiler flags.\n",
      "2022-02-25 11:17:40.397004: I tensorflow/stream_executor/cuda/cuda_gpu_executor.cc:936] successful NUMA node read from SysFS had negative value (-1), but there must be at least one NUMA node, so returning NUMA node zero\n",
      "2022-02-25 11:17:40.397307: I tensorflow/stream_executor/cuda/cuda_gpu_executor.cc:936] successful NUMA node read from SysFS had negative value (-1), but there must be at least one NUMA node, so returning NUMA node zero\n",
      "2022-02-25 11:17:40.397545: I tensorflow/stream_executor/cuda/cuda_gpu_executor.cc:936] successful NUMA node read from SysFS had negative value (-1), but there must be at least one NUMA node, so returning NUMA node zero\n",
      "2022-02-25 11:17:43.045685: I tensorflow/stream_executor/cuda/cuda_gpu_executor.cc:936] successful NUMA node read from SysFS had negative value (-1), but there must be at least one NUMA node, so returning NUMA node zero\n",
      "2022-02-25 11:17:43.045866: I tensorflow/stream_executor/cuda/cuda_gpu_executor.cc:936] successful NUMA node read from SysFS had negative value (-1), but there must be at least one NUMA node, so returning NUMA node zero\n",
      "2022-02-25 11:17:43.046007: I tensorflow/stream_executor/cuda/cuda_gpu_executor.cc:936] successful NUMA node read from SysFS had negative value (-1), but there must be at least one NUMA node, so returning NUMA node zero\n",
      "2022-02-25 11:17:43.052485: I tensorflow/core/common_runtime/gpu/gpu_device.cc:1525] Created device /job:localhost/replica:0/task:0/device:GPU:0 with 6460 MB memory:  -> device: 0, name: NVIDIA GeForce RTX 2070, pci bus id: 0000:26:00.0, compute capability: 7.5\n"
     ]
    }
   ],
   "source": [
    "model = keras.Sequential()\n",
    "model.add(layers.Embedding(len(tokenizer.word_index) + 1, 64, input_length=2))\n",
    "model.add(layers.MaxPool1D(2))\n",
    "model.add(layers.Dense(16, activation=\"relu\"))\n",
    "model.add(layers.Dense(16, activation=\"relu\"))\n",
    "model.add(layers.Dense(1, activation=\"sigmoid\"))"
   ]
  },
  {
   "cell_type": "code",
   "execution_count": 21,
   "id": "313a26b3",
   "metadata": {},
   "outputs": [
    {
     "name": "stdout",
     "output_type": "stream",
     "text": [
      "Model: \"sequential\"\n",
      "_________________________________________________________________\n",
      " Layer (type)                Output Shape              Param #   \n",
      "=================================================================\n",
      " embedding (Embedding)       (None, 2, 64)             576       \n",
      "                                                                 \n",
      " max_pooling1d (MaxPooling1D  (None, 1, 64)            0         \n",
      " )                                                               \n",
      "                                                                 \n",
      " dense (Dense)               (None, 1, 16)             1040      \n",
      "                                                                 \n",
      " dense_1 (Dense)             (None, 1, 16)             272       \n",
      "                                                                 \n",
      " dense_2 (Dense)             (None, 1, 1)              17        \n",
      "                                                                 \n",
      "=================================================================\n",
      "Total params: 1,905\n",
      "Trainable params: 1,905\n",
      "Non-trainable params: 0\n",
      "_________________________________________________________________\n"
     ]
    }
   ],
   "source": [
    "model.summary()"
   ]
  },
  {
   "cell_type": "code",
   "execution_count": 22,
   "id": "6e22896b",
   "metadata": {},
   "outputs": [],
   "source": [
    "model.compile(optimizer=\"adam\", loss=\"binary_crossentropy\", metrics=[\"accuracy\"])"
   ]
  },
  {
   "cell_type": "code",
   "execution_count": 33,
   "id": "a67ed5c0",
   "metadata": {},
   "outputs": [
    {
     "name": "stdout",
     "output_type": "stream",
     "text": [
      "Epoch 1/20\n",
      "1/1 [==============================] - 0s 165ms/step - loss: 0.6519 - accuracy: 1.0000 - val_loss: 0.6837 - val_accuracy: 0.5000\n",
      "Epoch 2/20\n",
      "1/1 [==============================] - 0s 22ms/step - loss: 0.6483 - accuracy: 1.0000 - val_loss: 0.6851 - val_accuracy: 0.5000\n",
      "Epoch 3/20\n",
      "1/1 [==============================] - 0s 20ms/step - loss: 0.6444 - accuracy: 1.0000 - val_loss: 0.6873 - val_accuracy: 0.5000\n",
      "Epoch 4/20\n",
      "1/1 [==============================] - 0s 22ms/step - loss: 0.6403 - accuracy: 1.0000 - val_loss: 0.6900 - val_accuracy: 0.5000\n",
      "Epoch 5/20\n",
      "1/1 [==============================] - 0s 24ms/step - loss: 0.6360 - accuracy: 1.0000 - val_loss: 0.6931 - val_accuracy: 0.5000\n",
      "Epoch 6/20\n",
      "1/1 [==============================] - 0s 23ms/step - loss: 0.6315 - accuracy: 1.0000 - val_loss: 0.6966 - val_accuracy: 0.5000\n",
      "Epoch 7/20\n",
      "1/1 [==============================] - 0s 23ms/step - loss: 0.6270 - accuracy: 1.0000 - val_loss: 0.7003 - val_accuracy: 0.5000\n",
      "Epoch 8/20\n",
      "1/1 [==============================] - 0s 23ms/step - loss: 0.6222 - accuracy: 1.0000 - val_loss: 0.7048 - val_accuracy: 0.5000\n",
      "Epoch 9/20\n",
      "1/1 [==============================] - 0s 21ms/step - loss: 0.6171 - accuracy: 1.0000 - val_loss: 0.7099 - val_accuracy: 0.5000\n",
      "Epoch 10/20\n",
      "1/1 [==============================] - 0s 23ms/step - loss: 0.6118 - accuracy: 1.0000 - val_loss: 0.7155 - val_accuracy: 0.5000\n",
      "Epoch 11/20\n",
      "1/1 [==============================] - 0s 23ms/step - loss: 0.6062 - accuracy: 1.0000 - val_loss: 0.7212 - val_accuracy: 0.5000\n",
      "Epoch 12/20\n",
      "1/1 [==============================] - 0s 22ms/step - loss: 0.6005 - accuracy: 1.0000 - val_loss: 0.7274 - val_accuracy: 0.5000\n",
      "Epoch 13/20\n",
      "1/1 [==============================] - 0s 22ms/step - loss: 0.5947 - accuracy: 1.0000 - val_loss: 0.7339 - val_accuracy: 0.5000\n",
      "Epoch 14/20\n",
      "1/1 [==============================] - 0s 20ms/step - loss: 0.5887 - accuracy: 1.0000 - val_loss: 0.7406 - val_accuracy: 0.5000\n",
      "Epoch 15/20\n",
      "1/1 [==============================] - 0s 24ms/step - loss: 0.5825 - accuracy: 1.0000 - val_loss: 0.7471 - val_accuracy: 0.5000\n",
      "Epoch 16/20\n",
      "1/1 [==============================] - 0s 22ms/step - loss: 0.5764 - accuracy: 1.0000 - val_loss: 0.7534 - val_accuracy: 0.0000e+00\n",
      "Epoch 17/20\n",
      "1/1 [==============================] - 0s 22ms/step - loss: 0.5703 - accuracy: 1.0000 - val_loss: 0.7590 - val_accuracy: 0.0000e+00\n",
      "Epoch 18/20\n",
      "1/1 [==============================] - 0s 20ms/step - loss: 0.5641 - accuracy: 1.0000 - val_loss: 0.7646 - val_accuracy: 0.0000e+00\n",
      "Epoch 19/20\n",
      "1/1 [==============================] - 0s 21ms/step - loss: 0.5579 - accuracy: 1.0000 - val_loss: 0.7706 - val_accuracy: 0.0000e+00\n",
      "Epoch 20/20\n",
      "1/1 [==============================] - 0s 21ms/step - loss: 0.5514 - accuracy: 1.0000 - val_loss: 0.7766 - val_accuracy: 0.0000e+00\n"
     ]
    },
    {
     "data": {
      "text/plain": [
       "<keras.callbacks.History at 0x7fe22018a890>"
      ]
     },
     "execution_count": 33,
     "metadata": {},
     "output_type": "execute_result"
    }
   ],
   "source": [
    "model.fit(padded_tokens, labels, epochs=20, validation_split=0.2)"
   ]
  }
 ],
 "metadata": {
  "kernelspec": {
   "display_name": "Python 3 (ipykernel)",
   "language": "python",
   "name": "python3"
  },
  "language_info": {
   "codemirror_mode": {
    "name": "ipython",
    "version": 3
   },
   "file_extension": ".py",
   "mimetype": "text/x-python",
   "name": "python",
   "nbconvert_exporter": "python",
   "pygments_lexer": "ipython3",
   "version": "3.10.0"
  }
 },
 "nbformat": 4,
 "nbformat_minor": 5
}
