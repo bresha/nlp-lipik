{
 "cells": [
  {
   "cell_type": "code",
   "execution_count": 1,
   "id": "dcbbf924",
   "metadata": {},
   "outputs": [],
   "source": [
    "import pandas as pd"
   ]
  },
  {
   "cell_type": "code",
   "execution_count": 2,
   "id": "1cb2f4a8",
   "metadata": {},
   "outputs": [],
   "source": [
    "download_url = \"train.csv\""
   ]
  },
  {
   "cell_type": "code",
   "execution_count": 3,
   "id": "1f17ac37",
   "metadata": {},
   "outputs": [
    {
     "data": {
      "text/html": [
       "<div>\n",
       "<style scoped>\n",
       "    .dataframe tbody tr th:only-of-type {\n",
       "        vertical-align: middle;\n",
       "    }\n",
       "\n",
       "    .dataframe tbody tr th {\n",
       "        vertical-align: top;\n",
       "    }\n",
       "\n",
       "    .dataframe thead th {\n",
       "        text-align: right;\n",
       "    }\n",
       "</style>\n",
       "<table border=\"1\" class=\"dataframe\">\n",
       "  <thead>\n",
       "    <tr style=\"text-align: right;\">\n",
       "      <th></th>\n",
       "      <th>job_title</th>\n",
       "      <th>seniority_level</th>\n",
       "      <th>employment_type</th>\n",
       "      <th>industries</th>\n",
       "      <th>job_functions</th>\n",
       "    </tr>\n",
       "  </thead>\n",
       "  <tbody>\n",
       "    <tr>\n",
       "      <th>0</th>\n",
       "      <td>Manual Tester</td>\n",
       "      <td>Entry level</td>\n",
       "      <td>Full-time</td>\n",
       "      <td>[Information Technology and Services]</td>\n",
       "      <td>[Engineering, Information Technology]</td>\n",
       "    </tr>\n",
       "    <tr>\n",
       "      <th>1</th>\n",
       "      <td>Field Marketing Representative</td>\n",
       "      <td>Entry level</td>\n",
       "      <td>Full-time</td>\n",
       "      <td>[Food &amp; Beverages, Wholesale, Retail]</td>\n",
       "      <td>[Marketing, Sales]</td>\n",
       "    </tr>\n",
       "    <tr>\n",
       "      <th>2</th>\n",
       "      <td>Consumer Relations Representative</td>\n",
       "      <td>Associate</td>\n",
       "      <td>Full-time</td>\n",
       "      <td>[Marketing and Advertising, Food &amp; Beverages, ...</td>\n",
       "      <td>[Other]</td>\n",
       "    </tr>\n",
       "    <tr>\n",
       "      <th>3</th>\n",
       "      <td>Software Engineer In Test</td>\n",
       "      <td>Mid-Senior level</td>\n",
       "      <td>Full-time</td>\n",
       "      <td>[Information Technology and Services, Computer...</td>\n",
       "      <td>[Information Technology, Quality Assurance]</td>\n",
       "    </tr>\n",
       "    <tr>\n",
       "      <th>4</th>\n",
       "      <td>Electrician</td>\n",
       "      <td>Entry level</td>\n",
       "      <td>Full-time</td>\n",
       "      <td>[Electrical/Electronic Manufacturing, Construc...</td>\n",
       "      <td>[Management, Manufacturing]</td>\n",
       "    </tr>\n",
       "  </tbody>\n",
       "</table>\n",
       "</div>"
      ],
      "text/plain": [
       "                           job_title   seniority_level employment_type  \\\n",
       "0                      Manual Tester       Entry level       Full-time   \n",
       "1     Field Marketing Representative       Entry level       Full-time   \n",
       "2  Consumer Relations Representative         Associate       Full-time   \n",
       "3          Software Engineer In Test  Mid-Senior level       Full-time   \n",
       "4                        Electrician       Entry level       Full-time   \n",
       "\n",
       "                                          industries  \\\n",
       "0              [Information Technology and Services]   \n",
       "1              [Food & Beverages, Wholesale, Retail]   \n",
       "2  [Marketing and Advertising, Food & Beverages, ...   \n",
       "3  [Information Technology and Services, Computer...   \n",
       "4  [Electrical/Electronic Manufacturing, Construc...   \n",
       "\n",
       "                                 job_functions  \n",
       "0        [Engineering, Information Technology]  \n",
       "1                           [Marketing, Sales]  \n",
       "2                                      [Other]  \n",
       "3  [Information Technology, Quality Assurance]  \n",
       "4                  [Management, Manufacturing]  "
      ]
     },
     "execution_count": 3,
     "metadata": {},
     "output_type": "execute_result"
    }
   ],
   "source": [
    "df = pd.read_csv(download_url)\n",
    "df.job_functions = df.job_functions.apply(eval)\n",
    "df.industries = df.industries.apply(eval)\n",
    "\n",
    "df.head()"
   ]
  },
  {
   "cell_type": "code",
   "execution_count": 4,
   "id": "e782ad5c",
   "metadata": {},
   "outputs": [
    {
     "data": {
      "text/html": [
       "<div>\n",
       "<style scoped>\n",
       "    .dataframe tbody tr th:only-of-type {\n",
       "        vertical-align: middle;\n",
       "    }\n",
       "\n",
       "    .dataframe tbody tr th {\n",
       "        vertical-align: top;\n",
       "    }\n",
       "\n",
       "    .dataframe thead th {\n",
       "        text-align: right;\n",
       "    }\n",
       "</style>\n",
       "<table border=\"1\" class=\"dataframe\">\n",
       "  <thead>\n",
       "    <tr style=\"text-align: right;\">\n",
       "      <th></th>\n",
       "      <th>job_title</th>\n",
       "      <th>seniority_level</th>\n",
       "      <th>employment_type</th>\n",
       "      <th>industries</th>\n",
       "      <th>job_functions</th>\n",
       "    </tr>\n",
       "  </thead>\n",
       "  <tbody>\n",
       "    <tr>\n",
       "      <th>0</th>\n",
       "      <td>CAD Drafter - Dallas, TX</td>\n",
       "      <td>Not Applicable</td>\n",
       "      <td>Full-time</td>\n",
       "      <td>[Construction, Civil Engineering, Real Estate]</td>\n",
       "      <td>[Design, Art/Creative, Information Technology]</td>\n",
       "    </tr>\n",
       "    <tr>\n",
       "      <th>1</th>\n",
       "      <td>COMPUTER ANALYST NOC-2171</td>\n",
       "      <td>Entry level</td>\n",
       "      <td>Full-time</td>\n",
       "      <td>[Information Technology and Services, Computer...</td>\n",
       "      <td>[Information Technology]</td>\n",
       "    </tr>\n",
       "    <tr>\n",
       "      <th>2</th>\n",
       "      <td>Videographer</td>\n",
       "      <td>Entry level</td>\n",
       "      <td>Full-time</td>\n",
       "      <td>[Marketing and Advertising, Internet, Financia...</td>\n",
       "      <td>[Design, Art/Creative, Information Technology]</td>\n",
       "    </tr>\n",
       "    <tr>\n",
       "      <th>3</th>\n",
       "      <td>Sales Representative</td>\n",
       "      <td>Entry level</td>\n",
       "      <td>Full-time</td>\n",
       "      <td>[Building Materials, Machinery, Mechanical or ...</td>\n",
       "      <td>[Sales, Business Development]</td>\n",
       "    </tr>\n",
       "    <tr>\n",
       "      <th>4</th>\n",
       "      <td>Open job positions for all employees</td>\n",
       "      <td>Entry level</td>\n",
       "      <td>Full-time</td>\n",
       "      <td>[Electrical/Electronic Manufacturing, Construc...</td>\n",
       "      <td>[Other]</td>\n",
       "    </tr>\n",
       "  </tbody>\n",
       "</table>\n",
       "</div>"
      ],
      "text/plain": [
       "                              job_title seniority_level employment_type  \\\n",
       "0              CAD Drafter - Dallas, TX  Not Applicable       Full-time   \n",
       "1             COMPUTER ANALYST NOC-2171     Entry level       Full-time   \n",
       "2                          Videographer     Entry level       Full-time   \n",
       "3                  Sales Representative     Entry level       Full-time   \n",
       "4  Open job positions for all employees     Entry level       Full-time   \n",
       "\n",
       "                                          industries  \\\n",
       "0     [Construction, Civil Engineering, Real Estate]   \n",
       "1  [Information Technology and Services, Computer...   \n",
       "2  [Marketing and Advertising, Internet, Financia...   \n",
       "3  [Building Materials, Machinery, Mechanical or ...   \n",
       "4  [Electrical/Electronic Manufacturing, Construc...   \n",
       "\n",
       "                                    job_functions  \n",
       "0  [Design, Art/Creative, Information Technology]  \n",
       "1                        [Information Technology]  \n",
       "2  [Design, Art/Creative, Information Technology]  \n",
       "3                   [Sales, Business Development]  \n",
       "4                                         [Other]  "
      ]
     },
     "execution_count": 4,
     "metadata": {},
     "output_type": "execute_result"
    }
   ],
   "source": [
    "download_url = \"test.csv\"\n",
    "test = pd.read_csv(download_url)\n",
    "test.job_functions = test.job_functions.apply(eval)\n",
    "test.industries = test.industries.apply(eval)\n",
    "\n",
    "test.head()"
   ]
  },
  {
   "cell_type": "code",
   "execution_count": 5,
   "id": "77d8b398",
   "metadata": {},
   "outputs": [
    {
     "name": "stderr",
     "output_type": "stream",
     "text": [
      "[nltk_data] Downloading package stopwords to /home/hrvoje/nltk_data...\n",
      "[nltk_data]   Package stopwords is already up-to-date!\n"
     ]
    }
   ],
   "source": [
    "from nltk.corpus import stopwords\n",
    "import nltk\n",
    "from nltk import word_tokenize\n",
    "nltk.download('stopwords')\n",
    "STOPWORDS = set(stopwords.words('english'))"
   ]
  },
  {
   "cell_type": "code",
   "execution_count": 6,
   "id": "7a706222",
   "metadata": {},
   "outputs": [
    {
     "name": "stderr",
     "output_type": "stream",
     "text": [
      "/tmp/ipykernel_4256/904907553.py:22: FutureWarning: The default value of regex will change from True to False in a future version.\n",
      "  df.job_title = df.job_title.str.replace('\\d+', '')\n"
     ]
    }
   ],
   "source": [
    "import re\n",
    "#REPLACE_BY_SPACE_RE = re.compile('[/(){}\\[\\]\\|@,;]')\n",
    "#BAD_SYMBOLS_RE = re.compile('[^0-9a-z #+_]')\n",
    "STOPWORDS = set(stopwords.words('english'))\n",
    "\n",
    "def clean_text(text):\n",
    "    \"\"\"\n",
    "        text: a string\n",
    "        \n",
    "        return: modified initial string\n",
    "    \"\"\"\n",
    "    text = text.lower() # lowercase text\n",
    "    #text = REPLACE_BY_SPACE_RE.sub(' ', text) # replace REPLACE_BY_SPACE_RE symbols by space in text. substitute the matched string in REPLACE_BY_SPACE_RE with space.\n",
    "    #text = BAD_SYMBOLS_RE.sub('', text) # remove symbols which are in BAD_SYMBOLS_RE from text. substitute the matched string in BAD_SYMBOLS_RE with nothing. \n",
    "    #text = text.replace('x', '')\n",
    "    #text = re.sub(r'\\W+', '', text)\n",
    "    text = ' '.join(word for word in text.split() if word not in STOPWORDS) # remove stopwors from text\n",
    "    return text\n",
    "\n",
    "\n",
    "df.job_title = df.job_title.apply(clean_text)\n",
    "df.job_title = df.job_title.str.replace('\\d+', '')"
   ]
  },
  {
   "cell_type": "code",
   "execution_count": 7,
   "id": "b255cc14",
   "metadata": {},
   "outputs": [
    {
     "name": "stderr",
     "output_type": "stream",
     "text": [
      "\u001b[34m\u001b[1mwandb\u001b[0m: Currently logged in as: \u001b[33mbresha\u001b[0m (use `wandb login --relogin` to force relogin)\n"
     ]
    },
    {
     "data": {
      "text/html": [
       "\n",
       "                    Syncing run <strong><a href=\"https://wandb.ai/bresha/multitask-classification/runs/316x2ebj\" target=\"_blank\">smart-yogurt-6</a></strong> to <a href=\"https://wandb.ai/bresha/multitask-classification\" target=\"_blank\">Weights & Biases</a> (<a href=\"https://docs.wandb.com/integrations/jupyter.html\" target=\"_blank\">docs</a>).<br/>\n",
       "\n",
       "                "
      ],
      "text/plain": [
       "<IPython.core.display.HTML object>"
      ]
     },
     "metadata": {},
     "output_type": "display_data"
    },
    {
     "data": {
      "text/html": [
       "<button onClick=\"this.nextSibling.style.display='block';this.style.display='none';\">Display W&B run</button><iframe src=\"https://wandb.ai/bresha/multitask-classification/runs/316x2ebj?jupyter=true\" style=\"border:none;width:100%;height:420px;display:none;\"></iframe>"
      ],
      "text/plain": [
       "<wandb.sdk.wandb_run.Run at 0x7f638967c0d0>"
      ]
     },
     "execution_count": 7,
     "metadata": {},
     "output_type": "execute_result"
    }
   ],
   "source": [
    "import wandb\n",
    "from wandb.keras import WandbCallback\n",
    "\n",
    "wandb.init(project=\"multitask-classification\", entity=\"bresha\")"
   ]
  },
  {
   "cell_type": "code",
   "execution_count": 8,
   "id": "a1a324bc",
   "metadata": {},
   "outputs": [],
   "source": [
    "config = wandb.config\n",
    "config.learning_rate = 0.01\n",
    "config.lower_case = True\n",
    "config.optimizer = \"adam\"\n",
    "config.batch_size = 2048\n",
    "config.dropout = 0.2\n",
    "config.lstm = 512\n",
    "config.epochs = 10\n",
    "config.MAX_NB_WORDS = 10000\n",
    "config.MAX_SEQUENCE_LENGTH = 16\n",
    "config.EMBEDDING_DIM = 512"
   ]
  },
  {
   "cell_type": "code",
   "execution_count": 9,
   "id": "87d397c5",
   "metadata": {},
   "outputs": [],
   "source": [
    "from tensorflow.keras.preprocessing.text import Tokenizer"
   ]
  },
  {
   "cell_type": "code",
   "execution_count": 10,
   "id": "dd759f4a",
   "metadata": {},
   "outputs": [
    {
     "name": "stdout",
     "output_type": "stream",
     "text": [
      "Found 17893 unique tokens.\n"
     ]
    }
   ],
   "source": [
    "tokenizer = Tokenizer(\n",
    "    num_words=config.MAX_NB_WORDS, \n",
    "    filters='!\"#$%&()*+,-./:;<=>?@[\\]^_`{|}~', \n",
    "    lower=config.lower_case)\n",
    "\n",
    "tokenizer.fit_on_texts(df.job_title.values)\n",
    "word_index = tokenizer.word_index\n",
    "print('Found %s unique tokens.' % len(word_index))"
   ]
  },
  {
   "cell_type": "code",
   "execution_count": 11,
   "id": "ab0f9478",
   "metadata": {},
   "outputs": [],
   "source": [
    "X = tokenizer.texts_to_sequences(df.job_title.values)"
   ]
  },
  {
   "cell_type": "code",
   "execution_count": 12,
   "id": "c4a41f0d",
   "metadata": {},
   "outputs": [],
   "source": [
    "from tensorflow.keras.preprocessing.sequence import pad_sequences"
   ]
  },
  {
   "cell_type": "code",
   "execution_count": 13,
   "id": "9164cc92",
   "metadata": {},
   "outputs": [
    {
     "name": "stdout",
     "output_type": "stream",
     "text": [
      "Shape of data tensor: (100000, 16)\n"
     ]
    }
   ],
   "source": [
    "X = pad_sequences(X, maxlen=config.MAX_SEQUENCE_LENGTH)\n",
    "print('Shape of data tensor:', X.shape)"
   ]
  },
  {
   "cell_type": "code",
   "execution_count": 14,
   "id": "f7e621e8",
   "metadata": {},
   "outputs": [
    {
     "name": "stdout",
     "output_type": "stream",
     "text": [
      "Shape of label tensor: (100000, 7)\n"
     ]
    }
   ],
   "source": [
    "Y_sen = pd.get_dummies(df.seniority_level).values\n",
    "print('Shape of label tensor:', Y_sen.shape)\n"
   ]
  },
  {
   "cell_type": "code",
   "execution_count": 15,
   "id": "75253c12",
   "metadata": {},
   "outputs": [
    {
     "name": "stdout",
     "output_type": "stream",
     "text": [
      "Shape of label tensor: (100000, 7)\n"
     ]
    }
   ],
   "source": [
    "Y_emp = pd.get_dummies(df.employment_type).values\n",
    "print('Shape of label tensor:', Y_emp.shape)\n"
   ]
  },
  {
   "cell_type": "code",
   "execution_count": 16,
   "id": "e518b73f",
   "metadata": {},
   "outputs": [],
   "source": [
    "from sklearn.model_selection import train_test_split"
   ]
  },
  {
   "cell_type": "code",
   "execution_count": 17,
   "id": "0cd26bb1",
   "metadata": {},
   "outputs": [],
   "source": [
    "X_train, X_test, y_sen_train, y_sen_test, y_emp_train, y_emp_test = train_test_split(X, Y_sen, Y_emp, test_size=0.2, random_state=42)"
   ]
  },
  {
   "cell_type": "code",
   "execution_count": 18,
   "id": "34892e91",
   "metadata": {},
   "outputs": [],
   "source": [
    "from tensorflow.keras.layers import Dense, Embedding, LSTM, SpatialDropout1D, Input\n",
    "from tensorflow.keras.callbacks import EarlyStopping\n",
    "from tensorflow.keras.layers import Dropout\n",
    "from tensorflow.keras import Model"
   ]
  },
  {
   "cell_type": "code",
   "execution_count": 19,
   "id": "30b15f55",
   "metadata": {},
   "outputs": [
    {
     "name": "stderr",
     "output_type": "stream",
     "text": [
      "2022-02-22 19:02:49.120000: I tensorflow/stream_executor/cuda/cuda_gpu_executor.cc:936] successful NUMA node read from SysFS had negative value (-1), but there must be at least one NUMA node, so returning NUMA node zero\n",
      "2022-02-22 19:02:49.175512: I tensorflow/stream_executor/cuda/cuda_gpu_executor.cc:936] successful NUMA node read from SysFS had negative value (-1), but there must be at least one NUMA node, so returning NUMA node zero\n",
      "2022-02-22 19:02:49.175705: I tensorflow/stream_executor/cuda/cuda_gpu_executor.cc:936] successful NUMA node read from SysFS had negative value (-1), but there must be at least one NUMA node, so returning NUMA node zero\n",
      "2022-02-22 19:02:49.176075: I tensorflow/core/platform/cpu_feature_guard.cc:151] This TensorFlow binary is optimized with oneAPI Deep Neural Network Library (oneDNN) to use the following CPU instructions in performance-critical operations:  AVX2 FMA\n",
      "To enable them in other operations, rebuild TensorFlow with the appropriate compiler flags.\n",
      "2022-02-22 19:02:49.176772: I tensorflow/stream_executor/cuda/cuda_gpu_executor.cc:936] successful NUMA node read from SysFS had negative value (-1), but there must be at least one NUMA node, so returning NUMA node zero\n",
      "2022-02-22 19:02:49.176934: I tensorflow/stream_executor/cuda/cuda_gpu_executor.cc:936] successful NUMA node read from SysFS had negative value (-1), but there must be at least one NUMA node, so returning NUMA node zero\n",
      "2022-02-22 19:02:49.177080: I tensorflow/stream_executor/cuda/cuda_gpu_executor.cc:936] successful NUMA node read from SysFS had negative value (-1), but there must be at least one NUMA node, so returning NUMA node zero\n",
      "2022-02-22 19:02:49.570401: I tensorflow/stream_executor/cuda/cuda_gpu_executor.cc:936] successful NUMA node read from SysFS had negative value (-1), but there must be at least one NUMA node, so returning NUMA node zero\n",
      "2022-02-22 19:02:49.570585: I tensorflow/stream_executor/cuda/cuda_gpu_executor.cc:936] successful NUMA node read from SysFS had negative value (-1), but there must be at least one NUMA node, so returning NUMA node zero\n",
      "2022-02-22 19:02:49.570738: I tensorflow/stream_executor/cuda/cuda_gpu_executor.cc:936] successful NUMA node read from SysFS had negative value (-1), but there must be at least one NUMA node, so returning NUMA node zero\n",
      "2022-02-22 19:02:49.570863: I tensorflow/core/common_runtime/gpu/gpu_device.cc:1525] Created device /job:localhost/replica:0/task:0/device:GPU:0 with 6417 MB memory:  -> device: 0, name: NVIDIA GeForce RTX 2070, pci bus id: 0000:26:00.0, compute capability: 7.5\n"
     ]
    }
   ],
   "source": [
    "input_layer = Input(name=\"job_title\", shape=config.MAX_SEQUENCE_LENGTH)\n",
    "\n",
    "emb = Embedding(config.MAX_NB_WORDS, config.EMBEDDING_DIM, input_length=config.MAX_SEQUENCE_LENGTH)(input_layer)\n",
    "lstm = LSTM(config.lstm, dropout=config.dropout)(emb)\n",
    "out = Dense(7, activation='softmax', name='sen')(lstm)\n",
    "out2 = Dense(7, activation='softmax', name='emp')(lstm)\n",
    "\n",
    "model = Model(inputs=input_layer, outputs=[out, out2])"
   ]
  },
  {
   "cell_type": "code",
   "execution_count": 20,
   "id": "9f45e641",
   "metadata": {},
   "outputs": [
    {
     "name": "stdout",
     "output_type": "stream",
     "text": [
      "Model: \"model\"\n",
      "__________________________________________________________________________________________________\n",
      " Layer (type)                   Output Shape         Param #     Connected to                     \n",
      "==================================================================================================\n",
      " job_title (InputLayer)         [(None, 16)]         0           []                               \n",
      "                                                                                                  \n",
      " embedding (Embedding)          (None, 16, 512)      5120000     ['job_title[0][0]']              \n",
      "                                                                                                  \n",
      " lstm (LSTM)                    (None, 512)          2099200     ['embedding[0][0]']              \n",
      "                                                                                                  \n",
      " sen (Dense)                    (None, 7)            3591        ['lstm[0][0]']                   \n",
      "                                                                                                  \n",
      " emp (Dense)                    (None, 7)            3591        ['lstm[0][0]']                   \n",
      "                                                                                                  \n",
      "==================================================================================================\n",
      "Total params: 7,226,382\n",
      "Trainable params: 7,226,382\n",
      "Non-trainable params: 0\n",
      "__________________________________________________________________________________________________\n"
     ]
    }
   ],
   "source": [
    "model.summary()"
   ]
  },
  {
   "cell_type": "code",
   "execution_count": 21,
   "id": "1b2cb0ee",
   "metadata": {},
   "outputs": [
    {
     "data": {
      "image/png": "[encoded data removed]",
      "text/plain": [
       "<IPython.core.display.Image object>"
      ]
     },
     "execution_count": 21,
     "metadata": {},
     "output_type": "execute_result"
    }
   ],
   "source": [
    "import tensorflow\n",
    "tensorflow.keras.utils.plot_model(model)"
   ]
  },
  {
   "cell_type": "code",
   "execution_count": 22,
   "id": "0f83abc2",
   "metadata": {},
   "outputs": [],
   "source": [
    "model.compile(loss=['categorical_crossentropy', 'categorical_crossentropy'], optimizer='adam', metrics=['accuracy'])"
   ]
  },
  {
   "cell_type": "code",
   "execution_count": 23,
   "id": "72c15ae5",
   "metadata": {},
   "outputs": [
    {
     "name": "stdout",
     "output_type": "stream",
     "text": [
      "Epoch 1/10\n"
     ]
    },
    {
     "name": "stderr",
     "output_type": "stream",
     "text": [
      "2022-02-22 19:02:52.118681: I tensorflow/stream_executor/cuda/cuda_dnn.cc:368] Loaded cuDNN version 8301\n"
     ]
    },
    {
     "name": "stdout",
     "output_type": "stream",
     "text": [
      " 6/40 [===>..........................] - ETA: 2s - loss: 3.0122 - sen_loss: 1.7622 - emp_loss: 1.2500 - sen_accuracy: 0.3765 - emp_accuracy: 0.7457WARNING:tensorflow:Callback method `on_train_batch_end` is slow compared to the batch time (batch time: 0.0325s vs `on_train_batch_end` time: 0.0424s). Check your callbacks.\n",
      "40/40 [==============================] - 6s 97ms/step - loss: 2.1149 - sen_loss: 1.4317 - emp_loss: 0.6832 - sen_accuracy: 0.4722 - emp_accuracy: 0.8507 - val_loss: 1.7583 - val_sen_loss: 1.2094 - val_emp_loss: 0.5489 - val_sen_accuracy: 0.5565 - val_emp_accuracy: 0.8697\n",
      "Epoch 2/10\n",
      "40/40 [==============================] - 3s 86ms/step - loss: 1.6218 - sen_loss: 1.0946 - emp_loss: 0.5273 - sen_accuracy: 0.6155 - emp_accuracy: 0.8712 - val_loss: 1.5001 - val_sen_loss: 0.9853 - val_emp_loss: 0.5148 - val_sen_accuracy: 0.6607 - val_emp_accuracy: 0.8744\n",
      "Epoch 3/10\n",
      "40/40 [==============================] - 3s 86ms/step - loss: 1.4073 - sen_loss: 0.9250 - emp_loss: 0.4823 - sen_accuracy: 0.6768 - emp_accuracy: 0.8776 - val_loss: 1.4184 - val_sen_loss: 0.9376 - val_emp_loss: 0.4808 - val_sen_accuracy: 0.6805 - val_emp_accuracy: 0.8757\n",
      "Epoch 4/10\n",
      "40/40 [==============================] - 3s 86ms/step - loss: 1.2996 - sen_loss: 0.8517 - emp_loss: 0.4479 - sen_accuracy: 0.7047 - emp_accuracy: 0.8824 - val_loss: 1.3842 - val_sen_loss: 0.9206 - val_emp_loss: 0.4636 - val_sen_accuracy: 0.6826 - val_emp_accuracy: 0.8822\n",
      "Epoch 5/10\n",
      "40/40 [==============================] - 3s 86ms/step - loss: 1.2386 - sen_loss: 0.8112 - emp_loss: 0.4274 - sen_accuracy: 0.7183 - emp_accuracy: 0.8860 - val_loss: 1.3757 - val_sen_loss: 0.9189 - val_emp_loss: 0.4568 - val_sen_accuracy: 0.6814 - val_emp_accuracy: 0.8820\n",
      "Epoch 6/10\n",
      "40/40 [==============================] - 3s 86ms/step - loss: 1.1870 - sen_loss: 0.7782 - emp_loss: 0.4088 - sen_accuracy: 0.7304 - emp_accuracy: 0.8896 - val_loss: 1.3996 - val_sen_loss: 0.9412 - val_emp_loss: 0.4584 - val_sen_accuracy: 0.6683 - val_emp_accuracy: 0.8826\n",
      "Epoch 7/10\n",
      "40/40 [==============================] - 3s 87ms/step - loss: 1.1536 - sen_loss: 0.7618 - emp_loss: 0.3919 - sen_accuracy: 0.7349 - emp_accuracy: 0.8917 - val_loss: 1.3841 - val_sen_loss: 0.9159 - val_emp_loss: 0.4683 - val_sen_accuracy: 0.6916 - val_emp_accuracy: 0.8792\n",
      "Epoch 8/10\n",
      "40/40 [==============================] - 3s 88ms/step - loss: 1.1205 - sen_loss: 0.7394 - emp_loss: 0.3811 - sen_accuracy: 0.7414 - emp_accuracy: 0.8935 - val_loss: 1.3987 - val_sen_loss: 0.9281 - val_emp_loss: 0.4706 - val_sen_accuracy: 0.6907 - val_emp_accuracy: 0.8768\n"
     ]
    }
   ],
   "source": [
    "history = model.fit(X_train, [ y_sen_train, y_emp_train ], \\\n",
    "                    batch_size=config.batch_size, verbose=1, \\\n",
    "                    validation_data=(X_test, [y_sen_test, y_emp_test]), \\\n",
    "                    epochs=config.epochs, \\\n",
    "                    callbacks=[EarlyStopping(monitor='val_loss', patience=3,restore_best_weights=True),\n",
    "                               WandbCallback(save_model=False)])"
   ]
  },
  {
   "cell_type": "code",
   "execution_count": 24,
   "id": "2ad8f858",
   "metadata": {},
   "outputs": [
    {
     "data": {
      "text/plain": [
       "[array([[0.61334467, 0.00332635, 0.12112863, 0.00230656, 0.00063413,\n",
       "         0.09990674, 0.15935293]], dtype=float32),\n",
       " array([[3.7938692e-02, 9.3248487e-01, 1.4072924e-03, 1.5941833e-03,\n",
       "         1.8252142e-02, 8.1350068e-03, 1.8780280e-04]], dtype=float32)]"
      ]
     },
     "execution_count": 24,
     "metadata": {},
     "output_type": "execute_result"
    }
   ],
   "source": [
    "new_title = \"Junior Research Scientist\"\n",
    "new_title = [clean_text(new_title)]\n",
    "seq = tokenizer.texts_to_sequences(new_title)\n",
    "padded = pad_sequences(seq, maxlen=config.MAX_SEQUENCE_LENGTH)\n",
    "pred = model.predict(padded)\n",
    "pred"
   ]
  },
  {
   "cell_type": "code",
   "execution_count": 28,
   "id": "eb32e3a0",
   "metadata": {},
   "outputs": [
    {
     "name": "stdout",
     "output_type": "stream",
     "text": [
      "0\n",
      "1\n"
     ]
    }
   ],
   "source": [
    "for row in pred:\n",
    "    print(row.argmax())"
   ]
  }
 ],
 "metadata": {
  "kernelspec": {
   "display_name": "Python 3 (ipykernel)",
   "language": "python",
   "name": "python3"
  },
  "language_info": {
   "codemirror_mode": {
    "name": "ipython",
    "version": 3
   },
   "file_extension": ".py",
   "mimetype": "text/x-python",
   "name": "python",
   "nbconvert_exporter": "python",
   "pygments_lexer": "ipython3",
   "version": "3.10.0"
  }
 },
 "nbformat": 4,
 "nbformat_minor": 5
}
