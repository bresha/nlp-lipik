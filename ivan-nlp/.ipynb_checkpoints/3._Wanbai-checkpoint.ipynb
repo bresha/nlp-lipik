{
 "cells": [
  {
   "cell_type": "code",
   "execution_count": 2,
   "metadata": {
    "colab": {
     "base_uri": "https://localhost:8080/"
    },
    "executionInfo": {
     "elapsed": 14605,
     "status": "ok",
     "timestamp": 1645525689926,
     "user": {
      "displayName": "Ivan Zidov",
      "photoUrl": "https://lh3.googleusercontent.com/a-/AOh14Gjahm8hyrECD6kPTVfV6aJTjtTwGoMFuzaGECbz2w=s64",
      "userId": "17601732119024015981"
     },
     "user_tz": -60
    },
    "id": "w582wbcUNcTB",
    "outputId": "aeb96c4a-95d7-4985-c670-8ab349adfa11"
   },
   "outputs": [
    {
     "name": "stdout",
     "output_type": "stream",
     "text": [
      "Collecting wandb\n",
      "  Downloading wandb-0.12.10-py2.py3-none-any.whl (1.7 MB)\n",
      "\u001b[K     |████████████████████████████████| 1.7 MB 4.4 MB/s \n",
      "\u001b[?25hRequirement already satisfied: promise<3,>=2.0 in /usr/local/lib/python3.7/dist-packages (from wandb) (2.3)\n",
      "Requirement already satisfied: requests<3,>=2.0.0 in /usr/local/lib/python3.7/dist-packages (from wandb) (2.23.0)\n",
      "Collecting shortuuid>=0.5.0\n",
      "  Downloading shortuuid-1.0.8-py3-none-any.whl (9.5 kB)\n",
      "Collecting yaspin>=1.0.0\n",
      "  Downloading yaspin-2.1.0-py3-none-any.whl (18 kB)\n",
      "Requirement already satisfied: six>=1.13.0 in /usr/local/lib/python3.7/dist-packages (from wandb) (1.15.0)\n",
      "Requirement already satisfied: PyYAML in /usr/local/lib/python3.7/dist-packages (from wandb) (3.13)\n",
      "Collecting GitPython>=1.0.0\n",
      "  Downloading GitPython-3.1.27-py3-none-any.whl (181 kB)\n",
      "\u001b[K     |████████████████████████████████| 181 kB 6.2 MB/s \n",
      "\u001b[?25hRequirement already satisfied: protobuf>=3.12.0 in /usr/local/lib/python3.7/dist-packages (from wandb) (3.17.3)\n",
      "Collecting docker-pycreds>=0.4.0\n",
      "  Downloading docker_pycreds-0.4.0-py2.py3-none-any.whl (9.0 kB)\n",
      "Collecting sentry-sdk>=1.0.0\n",
      "  Downloading sentry_sdk-1.5.5-py2.py3-none-any.whl (144 kB)\n",
      "\u001b[K     |████████████████████████████████| 144 kB 57.6 MB/s \n",
      "\u001b[?25hRequirement already satisfied: Click!=8.0.0,>=7.0 in /usr/local/lib/python3.7/dist-packages (from wandb) (7.1.2)\n",
      "Requirement already satisfied: psutil>=5.0.0 in /usr/local/lib/python3.7/dist-packages (from wandb) (5.4.8)\n",
      "Collecting pathtools\n",
      "  Downloading pathtools-0.1.2.tar.gz (11 kB)\n",
      "Requirement already satisfied: python-dateutil>=2.6.1 in /usr/local/lib/python3.7/dist-packages (from wandb) (2.8.2)\n",
      "Requirement already satisfied: typing-extensions>=3.7.4.3 in /usr/local/lib/python3.7/dist-packages (from GitPython>=1.0.0->wandb) (3.10.0.2)\n",
      "Collecting gitdb<5,>=4.0.1\n",
      "  Downloading gitdb-4.0.9-py3-none-any.whl (63 kB)\n",
      "\u001b[K     |████████████████████████████████| 63 kB 1.6 MB/s \n",
      "\u001b[?25hCollecting smmap<6,>=3.0.1\n",
      "  Downloading smmap-5.0.0-py3-none-any.whl (24 kB)\n",
      "Requirement already satisfied: chardet<4,>=3.0.2 in /usr/local/lib/python3.7/dist-packages (from requests<3,>=2.0.0->wandb) (3.0.4)\n",
      "Requirement already satisfied: certifi>=2017.4.17 in /usr/local/lib/python3.7/dist-packages (from requests<3,>=2.0.0->wandb) (2021.10.8)\n",
      "Requirement already satisfied: urllib3!=1.25.0,!=1.25.1,<1.26,>=1.21.1 in /usr/local/lib/python3.7/dist-packages (from requests<3,>=2.0.0->wandb) (1.24.3)\n",
      "Requirement already satisfied: idna<3,>=2.5 in /usr/local/lib/python3.7/dist-packages (from requests<3,>=2.0.0->wandb) (2.10)\n",
      "Requirement already satisfied: termcolor<2.0.0,>=1.1.0 in /usr/local/lib/python3.7/dist-packages (from yaspin>=1.0.0->wandb) (1.1.0)\n",
      "Building wheels for collected packages: pathtools\n",
      "  Building wheel for pathtools (setup.py) ... \u001b[?25l\u001b[?25hdone\n",
      "  Created wheel for pathtools: filename=pathtools-0.1.2-py3-none-any.whl size=8806 sha256=a095ca0f7e571e3c0c8598aa9ebe25dc55a2dd5aadbe35fae3c89889c38b6c00\n",
      "  Stored in directory: /root/.cache/pip/wheels/3e/31/09/fa59cef12cdcfecc627b3d24273699f390e71828921b2cbba2\n",
      "Successfully built pathtools\n",
      "Installing collected packages: smmap, gitdb, yaspin, shortuuid, sentry-sdk, pathtools, GitPython, docker-pycreds, wandb\n",
      "Successfully installed GitPython-3.1.27 docker-pycreds-0.4.0 gitdb-4.0.9 pathtools-0.1.2 sentry-sdk-1.5.5 shortuuid-1.0.8 smmap-5.0.0 wandb-0.12.10 yaspin-2.1.0\n"
     ]
    }
   ],
   "source": [
    "!pip install wandb"
   ]
  },
  {
   "cell_type": "code",
   "execution_count": 3,
   "metadata": {
    "colab": {
     "base_uri": "https://localhost:8080/"
    },
    "executionInfo": {
     "elapsed": 11463,
     "status": "ok",
     "timestamp": 1645525701383,
     "user": {
      "displayName": "Ivan Zidov",
      "photoUrl": "https://lh3.googleusercontent.com/a-/AOh14Gjahm8hyrECD6kPTVfV6aJTjtTwGoMFuzaGECbz2w=s64",
      "userId": "17601732119024015981"
     },
     "user_tz": -60
    },
    "id": "2klIfb6YNuDb",
    "outputId": "3e827cfe-1d80-4438-8f97-9db2adbdac34"
   },
   "outputs": [
    {
     "name": "stdout",
     "output_type": "stream",
     "text": [
      "\u001b[34m\u001b[1mwandb\u001b[0m: You can find your API key in your browser here: https://wandb.ai/authorize\n",
      "\u001b[34m\u001b[1mwandb\u001b[0m: Paste an API key from your profile and hit enter, or press ctrl+c to quit: \n",
      "\u001b[34m\u001b[1mwandb\u001b[0m: Appending key for api.wandb.ai to your netrc file: /root/.netrc\n"
     ]
    }
   ],
   "source": [
    "!wandb login"
   ]
  },
  {
   "cell_type": "markdown",
   "metadata": {
    "id": "Or9NG-GbhKIv"
   },
   "source": [
    "# Učitavanje datoteka"
   ]
  },
  {
   "cell_type": "code",
   "execution_count": 4,
   "metadata": {
    "executionInfo": {
     "elapsed": 3,
     "status": "ok",
     "timestamp": 1645525704734,
     "user": {
      "displayName": "Ivan Zidov",
      "photoUrl": "https://lh3.googleusercontent.com/a-/AOh14Gjahm8hyrECD6kPTVfV6aJTjtTwGoMFuzaGECbz2w=s64",
      "userId": "17601732119024015981"
     },
     "user_tz": -60
    },
    "id": "NG0MHhtzk4TA"
   },
   "outputs": [],
   "source": [
    "import pandas as pd"
   ]
  },
  {
   "cell_type": "code",
   "execution_count": 5,
   "metadata": {
    "executionInfo": {
     "elapsed": 2,
     "status": "ok",
     "timestamp": 1645525704983,
     "user": {
      "displayName": "Ivan Zidov",
      "photoUrl": "https://lh3.googleusercontent.com/a-/AOh14Gjahm8hyrECD6kPTVfV6aJTjtTwGoMFuzaGECbz2w=s64",
      "userId": "17601732119024015981"
     },
     "user_tz": -60
    },
    "id": "7-Gm5Y5KlB47"
   },
   "outputs": [],
   "source": [
    "download_url = \"https://drive.google.com/uc?id=1qXq6k2rNR_dgG9XA4uMjAeuzUYkGx7HZ\""
   ]
  },
  {
   "cell_type": "code",
   "execution_count": 6,
   "metadata": {
    "colab": {
     "base_uri": "https://localhost:8080/",
     "height": 461
    },
    "executionInfo": {
     "elapsed": 5214,
     "status": "ok",
     "timestamp": 1645525710438,
     "user": {
      "displayName": "Ivan Zidov",
      "photoUrl": "https://lh3.googleusercontent.com/a-/AOh14Gjahm8hyrECD6kPTVfV6aJTjtTwGoMFuzaGECbz2w=s64",
      "userId": "17601732119024015981"
     },
     "user_tz": -60
    },
    "id": "8DzNvMGslPB5",
    "outputId": "08b38612-4289-4770-dfc6-f84d48b4d307"
   },
   "outputs": [
    {
     "data": {
      "text/html": [
       "\n",
       "  <div id=\"df-35f8c098-6ade-422a-bb24-ec0fdba95b35\">\n",
       "    <div class=\"colab-df-container\">\n",
       "      <div>\n",
       "<style scoped>\n",
       "    .dataframe tbody tr th:only-of-type {\n",
       "        vertical-align: middle;\n",
       "    }\n",
       "\n",
       "    .dataframe tbody tr th {\n",
       "        vertical-align: top;\n",
       "    }\n",
       "\n",
       "    .dataframe thead th {\n",
       "        text-align: right;\n",
       "    }\n",
       "</style>\n",
       "<table border=\"1\" class=\"dataframe\">\n",
       "  <thead>\n",
       "    <tr style=\"text-align: right;\">\n",
       "      <th></th>\n",
       "      <th>job_title</th>\n",
       "      <th>seniority_level</th>\n",
       "      <th>employment_type</th>\n",
       "      <th>industries</th>\n",
       "      <th>job_functions</th>\n",
       "    </tr>\n",
       "  </thead>\n",
       "  <tbody>\n",
       "    <tr>\n",
       "      <th>0</th>\n",
       "      <td>Manual Tester</td>\n",
       "      <td>Entry level</td>\n",
       "      <td>Full-time</td>\n",
       "      <td>[Information Technology and Services]</td>\n",
       "      <td>[Engineering, Information Technology]</td>\n",
       "    </tr>\n",
       "    <tr>\n",
       "      <th>1</th>\n",
       "      <td>Field Marketing Representative</td>\n",
       "      <td>Entry level</td>\n",
       "      <td>Full-time</td>\n",
       "      <td>[Food &amp; Beverages, Wholesale, Retail]</td>\n",
       "      <td>[Marketing, Sales]</td>\n",
       "    </tr>\n",
       "    <tr>\n",
       "      <th>2</th>\n",
       "      <td>Consumer Relations Representative</td>\n",
       "      <td>Associate</td>\n",
       "      <td>Full-time</td>\n",
       "      <td>[Marketing and Advertising, Food &amp; Beverages, ...</td>\n",
       "      <td>[Other]</td>\n",
       "    </tr>\n",
       "    <tr>\n",
       "      <th>3</th>\n",
       "      <td>Software Engineer In Test</td>\n",
       "      <td>Mid-Senior level</td>\n",
       "      <td>Full-time</td>\n",
       "      <td>[Information Technology and Services, Computer...</td>\n",
       "      <td>[Information Technology, Quality Assurance]</td>\n",
       "    </tr>\n",
       "    <tr>\n",
       "      <th>4</th>\n",
       "      <td>Electrician</td>\n",
       "      <td>Entry level</td>\n",
       "      <td>Full-time</td>\n",
       "      <td>[Electrical/Electronic Manufacturing, Construc...</td>\n",
       "      <td>[Management, Manufacturing]</td>\n",
       "    </tr>\n",
       "  </tbody>\n",
       "</table>\n",
       "</div>\n",
       "      <button class=\"colab-df-convert\" onclick=\"convertToInteractive('df-35f8c098-6ade-422a-bb24-ec0fdba95b35')\"\n",
       "              title=\"Convert this dataframe to an interactive table.\"\n",
       "              style=\"display:none;\">\n",
       "        \n",
       "  <svg xmlns=\"http://www.w3.org/2000/svg\" height=\"24px\"viewBox=\"0 0 24 24\"\n",
       "       width=\"24px\">\n",
       "    <path d=\"M0 0h24v24H0V0z\" fill=\"none\"/>\n",
       "    <path d=\"M18.56 5.44l.94 2.06.94-2.06 2.06-.94-2.06-.94-.94-2.06-.94 2.06-2.06.94zm-11 1L8.5 8.5l.94-2.06 2.06-.94-2.06-.94L8.5 2.5l-.94 2.06-2.06.94zm10 10l.94 2.06.94-2.06 2.06-.94-2.06-.94-.94-2.06-.94 2.06-2.06.94z\"/><path d=\"M17.41 7.96l-1.37-1.37c-.4-.4-.92-.59-1.43-.59-.52 0-1.04.2-1.43.59L10.3 9.45l-7.72 7.72c-.78.78-.78 2.05 0 2.83L4 21.41c.39.39.9.59 1.41.59.51 0 1.02-.2 1.41-.59l7.78-7.78 2.81-2.81c.8-.78.8-2.07 0-2.86zM5.41 20L4 18.59l7.72-7.72 1.47 1.35L5.41 20z\"/>\n",
       "  </svg>\n",
       "      </button>\n",
       "      \n",
       "  <style>\n",
       "    .colab-df-container {\n",
       "      display:flex;\n",
       "      flex-wrap:wrap;\n",
       "      gap: 12px;\n",
       "    }\n",
       "\n",
       "    .colab-df-convert {\n",
       "      background-color: #E8F0FE;\n",
       "      border: none;\n",
       "      border-radius: 50%;\n",
       "      cursor: pointer;\n",
       "      display: none;\n",
       "      fill: #1967D2;\n",
       "      height: 32px;\n",
       "      padding: 0 0 0 0;\n",
       "      width: 32px;\n",
       "    }\n",
       "\n",
       "    .colab-df-convert:hover {\n",
       "      background-color: #E2EBFA;\n",
       "      box-shadow: 0px 1px 2px rgba(60, 64, 67, 0.3), 0px 1px 3px 1px rgba(60, 64, 67, 0.15);\n",
       "      fill: #174EA6;\n",
       "    }\n",
       "\n",
       "    [theme=dark] .colab-df-convert {\n",
       "      background-color: #3B4455;\n",
       "      fill: #D2E3FC;\n",
       "    }\n",
       "\n",
       "    [theme=dark] .colab-df-convert:hover {\n",
       "      background-color: #434B5C;\n",
       "      box-shadow: 0px 1px 3px 1px rgba(0, 0, 0, 0.15);\n",
       "      filter: drop-shadow(0px 1px 2px rgba(0, 0, 0, 0.3));\n",
       "      fill: #FFFFFF;\n",
       "    }\n",
       "  </style>\n",
       "\n",
       "      <script>\n",
       "        const buttonEl =\n",
       "          document.querySelector('#df-35f8c098-6ade-422a-bb24-ec0fdba95b35 button.colab-df-convert');\n",
       "        buttonEl.style.display =\n",
       "          google.colab.kernel.accessAllowed ? 'block' : 'none';\n",
       "\n",
       "        async function convertToInteractive(key) {\n",
       "          const element = document.querySelector('#df-35f8c098-6ade-422a-bb24-ec0fdba95b35');\n",
       "          const dataTable =\n",
       "            await google.colab.kernel.invokeFunction('convertToInteractive',\n",
       "                                                     [key], {});\n",
       "          if (!dataTable) return;\n",
       "\n",
       "          const docLinkHtml = 'Like what you see? Visit the ' +\n",
       "            '<a target=\"_blank\" href=https://colab.research.google.com/notebooks/data_table.ipynb>data table notebook</a>'\n",
       "            + ' to learn more about interactive tables.';\n",
       "          element.innerHTML = '';\n",
       "          dataTable['output_type'] = 'display_data';\n",
       "          await google.colab.output.renderOutput(dataTable, element);\n",
       "          const docLink = document.createElement('div');\n",
       "          docLink.innerHTML = docLinkHtml;\n",
       "          element.appendChild(docLink);\n",
       "        }\n",
       "      </script>\n",
       "    </div>\n",
       "  </div>\n",
       "  "
      ],
      "text/plain": [
       "                           job_title  ...                                job_functions\n",
       "0                      Manual Tester  ...        [Engineering, Information Technology]\n",
       "1     Field Marketing Representative  ...                           [Marketing, Sales]\n",
       "2  Consumer Relations Representative  ...                                      [Other]\n",
       "3          Software Engineer In Test  ...  [Information Technology, Quality Assurance]\n",
       "4                        Electrician  ...                  [Management, Manufacturing]\n",
       "\n",
       "[5 rows x 5 columns]"
      ]
     },
     "execution_count": 6,
     "metadata": {},
     "output_type": "execute_result"
    }
   ],
   "source": [
    "train = pd.read_csv(download_url)\n",
    "train.job_functions = train.job_functions.apply(eval)\n",
    "train.industries = train.industries.apply(eval)\n",
    "\n",
    "train.head()"
   ]
  },
  {
   "cell_type": "markdown",
   "metadata": {
    "id": "PT-Yc4Ja6_UP"
   },
   "source": [
    "https://github.com/susanli2016/NLP-with-Python/blob/master/Multi-Class%20Text%20Classification%20LSTM%20Consumer%20complaints.ipynb"
   ]
  },
  {
   "cell_type": "code",
   "execution_count": 7,
   "metadata": {
    "colab": {
     "base_uri": "https://localhost:8080/"
    },
    "executionInfo": {
     "elapsed": 7328,
     "status": "ok",
     "timestamp": 1645525717763,
     "user": {
      "displayName": "Ivan Zidov",
      "photoUrl": "https://lh3.googleusercontent.com/a-/AOh14Gjahm8hyrECD6kPTVfV6aJTjtTwGoMFuzaGECbz2w=s64",
      "userId": "17601732119024015981"
     },
     "user_tz": -60
    },
    "id": "SfUvH2vJj5j2",
    "outputId": "15002f91-de53-4cdb-d16d-0c5acfb89b04"
   },
   "outputs": [
    {
     "name": "stdout",
     "output_type": "stream",
     "text": [
      "[nltk_data] Downloading package stopwords to /root/nltk_data...\n",
      "[nltk_data]   Unzipping corpora/stopwords.zip.\n"
     ]
    }
   ],
   "source": [
    "import nltk\n",
    "nltk.download('stopwords')\n",
    "from nltk.corpus import stopwords\n",
    "import re\n",
    "\n",
    "from tensorflow.keras.preprocessing.text import Tokenizer\n",
    "import numpy as np\n",
    "from tensorflow.keras.preprocessing.text import Tokenizer\n",
    "from tensorflow.keras.preprocessing.sequence import pad_sequences\n",
    "from tensorflow.keras.models import Sequential\n",
    "from tensorflow.keras.layers import Dense, Embedding, LSTM, SpatialDropout1D, GRU\n",
    "from sklearn.model_selection import train_test_split\n",
    "from tensorflow.keras.utils import to_categorical\n",
    "from tensorflow.keras.callbacks import EarlyStopping\n",
    "from tensorflow.keras.layers import Dropout"
   ]
  },
  {
   "cell_type": "code",
   "execution_count": 24,
   "metadata": {
    "colab": {
     "base_uri": "https://localhost:8080/",
     "height": 383,
     "referenced_widgets": [
      "a25245a670314b55a68943e0616741e9",
      "dfbc2879b7cb4ac4b1ebb19459a35b97",
      "f9555097ca924e08ab9a8eb78a5d88ca",
      "6285025602324a8dbefaafc19be38e44",
      "7637f3fd3bd04e858e65e2b05c89605c",
      "c44dbedd26c7477d8131baa90a7c48e6",
      "c02ee9d9917d4dd990700e7e3a6d3941",
      "20b96d7b2d17483087f9e824ef085997"
     ]
    },
    "executionInfo": {
     "elapsed": 7600,
     "status": "ok",
     "timestamp": 1645526227200,
     "user": {
      "displayName": "Ivan Zidov",
      "photoUrl": "https://lh3.googleusercontent.com/a-/AOh14Gjahm8hyrECD6kPTVfV6aJTjtTwGoMFuzaGECbz2w=s64",
      "userId": "17601732119024015981"
     },
     "user_tz": -60
    },
    "id": "W7gWlN-2N3_n",
    "outputId": "d76c759d-7a35-4a49-fbc9-ed930554b897"
   },
   "outputs": [
    {
     "data": {
      "text/html": [
       "Finishing last run (ID:3px45r2l) before initializing another..."
      ],
      "text/plain": [
       "<IPython.core.display.HTML object>"
      ]
     },
     "metadata": {},
     "output_type": "display_data"
    },
    {
     "data": {
      "text/html": [
       "<br/>Waiting for W&B process to finish, PID 240... <strong style=\"color:green\">(success).</strong>"
      ],
      "text/plain": [
       "<IPython.core.display.HTML object>"
      ]
     },
     "metadata": {},
     "output_type": "display_data"
    },
    {
     "data": {
      "application/vnd.jupyter.widget-view+json": {
       "model_id": "a25245a670314b55a68943e0616741e9",
       "version_major": 2,
       "version_minor": 0
      },
      "text/plain": [
       "VBox(children=(Label(value=' 0.00MB of 0.00MB uploaded (0.00MB deduped)\\r'), FloatProgress(value=1.0, max=1.0)…"
      ]
     },
     "metadata": {},
     "output_type": "display_data"
    },
    {
     "data": {
      "text/html": [
       "<style>\n",
       "    table.wandb td:nth-child(1) { padding: 0 10px; text-align: right }\n",
       "    .wandb-row { display: flex; flex-direction: row; flex-wrap: wrap; width: 100% }\n",
       "    .wandb-col { display: flex; flex-direction: column; flex-basis: 100%; flex: 1; padding: 10px; }\n",
       "    </style>\n",
       "<div class=\"wandb-row\"><div class=\"wandb-col\">\n",
       "<h3>Run history:</h3><br/><table class=\"wandb\"><tr><td>accuracy</td><td>▁▅▆▇██</td></tr><tr><td>epoch</td><td>▁▂▄▅▇█</td></tr><tr><td>loss</td><td>█▄▃▂▁▁</td></tr><tr><td>val_accuracy</td><td>▁▆████</td></tr><tr><td>val_loss</td><td>█▃▁▁▁▁</td></tr></table><br/></div><div class=\"wandb-col\">\n",
       "<h3>Run summary:</h3><br/><table class=\"wandb\"><tr><td>accuracy</td><td>0.73806</td></tr><tr><td>best_epoch</td><td>3</td></tr><tr><td>best_val_loss</td><td>0.93162</td></tr><tr><td>epoch</td><td>5</td></tr><tr><td>loss</td><td>0.76781</td></tr><tr><td>val_accuracy</td><td>0.67525</td></tr><tr><td>val_loss</td><td>0.94624</td></tr></table>\n",
       "</div></div>\n",
       "Synced 5 W&B file(s), 2 media file(s), 0 artifact file(s) and 0 other file(s)\n",
       "<br/>Synced <strong style=\"color:#cdcd00\">morning-cloud-5</strong>: <a href=\"https://wandb.ai/ivanzidov/lipik/runs/3px45r2l\" target=\"_blank\">https://wandb.ai/ivanzidov/lipik/runs/3px45r2l</a><br/>\n",
       "Find logs at: <code>./wandb/run-20220222_102853-3px45r2l/logs</code><br/>\n"
      ],
      "text/plain": [
       "<IPython.core.display.HTML object>"
      ]
     },
     "metadata": {},
     "output_type": "display_data"
    },
    {
     "data": {
      "text/html": [
       "Successfully finished last run (ID:3px45r2l). Initializing new run:<br/>"
      ],
      "text/plain": [
       "<IPython.core.display.HTML object>"
      ]
     },
     "metadata": {},
     "output_type": "display_data"
    },
    {
     "data": {
      "text/html": [
       "\n",
       "                    Syncing run <strong><a href=\"https://wandb.ai/ivanzidov/lipik/runs/2xy8gvbw\" target=\"_blank\">kind-morning-6</a></strong> to <a href=\"https://wandb.ai/ivanzidov/lipik\" target=\"_blank\">Weights & Biases</a> (<a href=\"https://docs.wandb.com/integrations/jupyter.html\" target=\"_blank\">docs</a>).<br/>\n",
       "\n",
       "                "
      ],
      "text/plain": [
       "<IPython.core.display.HTML object>"
      ]
     },
     "metadata": {},
     "output_type": "display_data"
    }
   ],
   "source": [
    "import wandb\n",
    "from wandb.keras import WandbCallback\n",
    "\n",
    "# 1. Start a new run\n",
    "wandb.init(project='lipik', entity='ivanzidov')\n",
    "\n",
    "# 2. Save model inputs and hyperparameters\n",
    "config = wandb.config\n",
    "config.learning_rate = 0.01\n",
    "config.lower_case = False\n",
    "config.optimizer = \"adam\"\n",
    "config.batch_size = 2048\n",
    "config.dropout = 0.5\n",
    "config.r_dropout = 0.5\n",
    "config.lstm = 256\n",
    "config.MAX_NB_WORDS = 20000\n",
    "config.MAX_SEQUENCE_LENGTH = 16\n",
    "config.EMBEDDING_DIM = 512\n",
    "config.rnn_dim = 256\n",
    "config.rnn_type = \"gru\"\n"
   ]
  },
  {
   "cell_type": "code",
   "execution_count": 25,
   "metadata": {
    "executionInfo": {
     "elapsed": 388,
     "status": "ok",
     "timestamp": 1645526227578,
     "user": {
      "displayName": "Ivan Zidov",
      "photoUrl": "https://lh3.googleusercontent.com/a-/AOh14Gjahm8hyrECD6kPTVfV6aJTjtTwGoMFuzaGECbz2w=s64",
      "userId": "17601732119024015981"
     },
     "user_tz": -60
    },
    "id": "s_qhOvzRi3IP"
   },
   "outputs": [],
   "source": [
    "REPLACE_BY_SPACE_RE = re.compile('[/(){}\\[\\]\\|@,;]')\n",
    "BAD_SYMBOLS_RE = re.compile('[^0-9a-z #+_]')\n",
    "STOPWORDS = set(stopwords.words('english'))\n",
    "\n",
    "def clean_text(text):\n",
    "\n",
    "    if config.lower_case:\n",
    "        text = text.lower() # lowercase text\n",
    "    text = REPLACE_BY_SPACE_RE.sub(' ', text) # replace REPLACE_BY_SPACE_RE symbols by space in text. substitute the matched string in REPLACE_BY_SPACE_RE with space.\n",
    "    #text = BAD_SYMBOLS_RE.sub('', text) # remove symbols which are in BAD_SYMBOLS_RE from text. substitute the matched string in BAD_SYMBOLS_RE with nothing. \n",
    "    #text = text.replace('x', '')\n",
    "    #text = re.sub(r'\\W+', '', text)\n",
    "    text = ' '.join(word for word in text.split() if word not in STOPWORDS) # remove stopwors from text\n",
    "    return text\n",
    "\n",
    "train.job_title = train.job_title.apply(clean_text)"
   ]
  },
  {
   "cell_type": "code",
   "execution_count": 39,
   "metadata": {
    "colab": {
     "base_uri": "https://localhost:8080/"
    },
    "executionInfo": {
     "elapsed": 47962,
     "status": "ok",
     "timestamp": 1645527046909,
     "user": {
      "displayName": "Ivan Zidov",
      "photoUrl": "https://lh3.googleusercontent.com/a-/AOh14Gjahm8hyrECD6kPTVfV6aJTjtTwGoMFuzaGECbz2w=s64",
      "userId": "17601732119024015981"
     },
     "user_tz": -60
    },
    "id": "EGjvVduzjza0",
    "outputId": "fab0dee2-45b5-418d-98d1-0b5906ae8b06"
   },
   "outputs": [
    {
     "data": {
      "text/plain": [
       "0                              Manual Tester\n",
       "1             Field Marketing Representative\n",
       "2          Consumer Relations Representative\n",
       "3                  Software Engineer In Test\n",
       "4                                Electrician\n",
       "                        ...                 \n",
       "99995                    Roof Loader Striker\n",
       "99996       Quality Assurance Representative\n",
       "99997         Paratransit shuttle Bus Driver\n",
       "99998    Apprenticeship trained Patternmaker\n",
       "99999                      Bridge Inspectors\n",
       "Name: job_title, Length: 100000, dtype: object"
      ]
     },
     "execution_count": 39,
     "metadata": {},
     "output_type": "execute_result"
    }
   ],
   "source": [
    "train.job_title"
   ]
  },
  {
   "cell_type": "code",
   "execution_count": 13,
   "metadata": {
    "executionInfo": {
     "elapsed": 5,
     "status": "ok",
     "timestamp": 1645523098629,
     "user": {
      "displayName": "Ivan Zidov",
      "photoUrl": "https://lh3.googleusercontent.com/a-/AOh14Gjahm8hyrECD6kPTVfV6aJTjtTwGoMFuzaGECbz2w=s64",
      "userId": "17601732119024015981"
     },
     "user_tz": -60
    },
    "id": "zeZz3iPSkKv6"
   },
   "outputs": [],
   "source": [
    "#train.job_title.apply(lambda x: x.split(\" \"))"
   ]
  },
  {
   "cell_type": "code",
   "execution_count": 13,
   "metadata": {
    "executionInfo": {
     "elapsed": 4,
     "status": "ok",
     "timestamp": 1645523098629,
     "user": {
      "displayName": "Ivan Zidov",
      "photoUrl": "https://lh3.googleusercontent.com/a-/AOh14Gjahm8hyrECD6kPTVfV6aJTjtTwGoMFuzaGECbz2w=s64",
      "userId": "17601732119024015981"
     },
     "user_tz": -60
    },
    "id": "ibnMVDM4kh_Q"
   },
   "outputs": [],
   "source": []
  },
  {
   "cell_type": "code",
   "execution_count": 26,
   "metadata": {
    "colab": {
     "base_uri": "https://localhost:8080/"
    },
    "executionInfo": {
     "elapsed": 789,
     "status": "ok",
     "timestamp": 1645526230920,
     "user": {
      "displayName": "Ivan Zidov",
      "photoUrl": "https://lh3.googleusercontent.com/a-/AOh14Gjahm8hyrECD6kPTVfV6aJTjtTwGoMFuzaGECbz2w=s64",
      "userId": "17601732119024015981"
     },
     "user_tz": -60
    },
    "id": "rVu-DYaCkJuj",
    "outputId": "842ebdc8-f250-4d93-b25c-31986f08af6c"
   },
   "outputs": [
    {
     "name": "stdout",
     "output_type": "stream",
     "text": [
      "Found 30405 unique tokens.\n"
     ]
    }
   ],
   "source": [
    "# The maximum number of words to be used. (most frequent)\n",
    "MAX_NB_WORDS = config.MAX_NB_WORDS\n",
    "# Max number of words in each complaint.\n",
    "MAX_SEQUENCE_LENGTH = config.MAX_SEQUENCE_LENGTH\n",
    "# This is fixed.\n",
    "EMBEDDING_DIM = config.EMBEDDING_DIM\n",
    "\n",
    "\n",
    "tokenizer = Tokenizer(num_words=MAX_NB_WORDS, filters='', lower=config.lower_case)\n",
    "tokenizer.fit_on_texts(train.job_title.values)\n",
    "word_index = tokenizer.word_index\n",
    "print('Found %s unique tokens.' % len(word_index))"
   ]
  },
  {
   "cell_type": "code",
   "execution_count": 28,
   "metadata": {
    "colab": {
     "base_uri": "https://localhost:8080/"
    },
    "executionInfo": {
     "elapsed": 222,
     "status": "ok",
     "timestamp": 1645526252507,
     "user": {
      "displayName": "Ivan Zidov",
      "photoUrl": "https://lh3.googleusercontent.com/a-/AOh14Gjahm8hyrECD6kPTVfV6aJTjtTwGoMFuzaGECbz2w=s64",
      "userId": "17601732119024015981"
     },
     "user_tz": -60
    },
    "id": "ZgA2LM9PlVSx",
    "outputId": "820f7dec-2873-4c73-f241-c5d186551cd1"
   },
   "outputs": [
    {
     "data": {
      "text/plain": [
       "0.9716223661028414"
      ]
     },
     "execution_count": 28,
     "metadata": {},
     "output_type": "execute_result"
    }
   ],
   "source": [
    "broj_ponavljanja_rijeci = list(tokenizer.word_counts.values())\n",
    "sum(pd.Series(broj_ponavljanja_rijeci).sort_values(ascending=False)[:20000])/sum(broj_ponavljanja_rijeci)"
   ]
  },
  {
   "cell_type": "code",
   "execution_count": 29,
   "metadata": {
    "colab": {
     "base_uri": "https://localhost:8080/"
    },
    "executionInfo": {
     "elapsed": 1136,
     "status": "ok",
     "timestamp": 1645526263962,
     "user": {
      "displayName": "Ivan Zidov",
      "photoUrl": "https://lh3.googleusercontent.com/a-/AOh14Gjahm8hyrECD6kPTVfV6aJTjtTwGoMFuzaGECbz2w=s64",
      "userId": "17601732119024015981"
     },
     "user_tz": -60
    },
    "id": "IRfgMaB4mQDL",
    "outputId": "3621c2a3-4a2a-4dbd-b1f6-cc7a62f3a5c8"
   },
   "outputs": [
    {
     "name": "stdout",
     "output_type": "stream",
     "text": [
      "Shape of data tensor: (100000, 16)\n"
     ]
    }
   ],
   "source": [
    "X = tokenizer.texts_to_sequences(train.job_title.values)\n",
    "X = pad_sequences(X, maxlen=MAX_SEQUENCE_LENGTH)\n",
    "print('Shape of data tensor:', X.shape)"
   ]
  },
  {
   "cell_type": "code",
   "execution_count": 30,
   "metadata": {
    "colab": {
     "base_uri": "https://localhost:8080/"
    },
    "executionInfo": {
     "elapsed": 4,
     "status": "ok",
     "timestamp": 1645526264254,
     "user": {
      "displayName": "Ivan Zidov",
      "photoUrl": "https://lh3.googleusercontent.com/a-/AOh14Gjahm8hyrECD6kPTVfV6aJTjtTwGoMFuzaGECbz2w=s64",
      "userId": "17601732119024015981"
     },
     "user_tz": -60
    },
    "id": "DAvuUkpMkdKu",
    "outputId": "33587ee7-5c3e-44b9-b924-975352c13629"
   },
   "outputs": [
    {
     "name": "stdout",
     "output_type": "stream",
     "text": [
      "Shape of label tensor: (100000, 7)\n"
     ]
    }
   ],
   "source": [
    "Y = pd.get_dummies(train.seniority_level).values\n",
    "print('Shape of label tensor:', Y.shape)"
   ]
  },
  {
   "cell_type": "code",
   "execution_count": 31,
   "metadata": {
    "colab": {
     "base_uri": "https://localhost:8080/",
     "height": 502
    },
    "executionInfo": {
     "elapsed": 4,
     "status": "ok",
     "timestamp": 1645526264255,
     "user": {
      "displayName": "Ivan Zidov",
      "photoUrl": "https://lh3.googleusercontent.com/a-/AOh14Gjahm8hyrECD6kPTVfV6aJTjtTwGoMFuzaGECbz2w=s64",
      "userId": "17601732119024015981"
     },
     "user_tz": -60
    },
    "id": "qAigVrhntp_U",
    "outputId": "26e667f2-fa53-4730-a39a-c7cf294b7e1b"
   },
   "outputs": [
    {
     "data": {
      "text/html": [
       "\n",
       "  <div id=\"df-f7e9ab80-c46f-48ca-91c4-18b70d73387a\">\n",
       "    <div class=\"colab-df-container\">\n",
       "      <div>\n",
       "<style scoped>\n",
       "    .dataframe tbody tr th:only-of-type {\n",
       "        vertical-align: middle;\n",
       "    }\n",
       "\n",
       "    .dataframe tbody tr th {\n",
       "        vertical-align: top;\n",
       "    }\n",
       "\n",
       "    .dataframe thead th {\n",
       "        text-align: right;\n",
       "    }\n",
       "</style>\n",
       "<table border=\"1\" class=\"dataframe\">\n",
       "  <thead>\n",
       "    <tr style=\"text-align: right;\">\n",
       "      <th></th>\n",
       "      <th>Associate</th>\n",
       "      <th>Director</th>\n",
       "      <th>Entry level</th>\n",
       "      <th>Executive</th>\n",
       "      <th>Internship</th>\n",
       "      <th>Mid-Senior level</th>\n",
       "      <th>Not Applicable</th>\n",
       "    </tr>\n",
       "  </thead>\n",
       "  <tbody>\n",
       "    <tr>\n",
       "      <th>0</th>\n",
       "      <td>0</td>\n",
       "      <td>0</td>\n",
       "      <td>1</td>\n",
       "      <td>0</td>\n",
       "      <td>0</td>\n",
       "      <td>0</td>\n",
       "      <td>0</td>\n",
       "    </tr>\n",
       "    <tr>\n",
       "      <th>1</th>\n",
       "      <td>0</td>\n",
       "      <td>0</td>\n",
       "      <td>1</td>\n",
       "      <td>0</td>\n",
       "      <td>0</td>\n",
       "      <td>0</td>\n",
       "      <td>0</td>\n",
       "    </tr>\n",
       "    <tr>\n",
       "      <th>2</th>\n",
       "      <td>1</td>\n",
       "      <td>0</td>\n",
       "      <td>0</td>\n",
       "      <td>0</td>\n",
       "      <td>0</td>\n",
       "      <td>0</td>\n",
       "      <td>0</td>\n",
       "    </tr>\n",
       "    <tr>\n",
       "      <th>3</th>\n",
       "      <td>0</td>\n",
       "      <td>0</td>\n",
       "      <td>0</td>\n",
       "      <td>0</td>\n",
       "      <td>0</td>\n",
       "      <td>1</td>\n",
       "      <td>0</td>\n",
       "    </tr>\n",
       "    <tr>\n",
       "      <th>4</th>\n",
       "      <td>0</td>\n",
       "      <td>0</td>\n",
       "      <td>1</td>\n",
       "      <td>0</td>\n",
       "      <td>0</td>\n",
       "      <td>0</td>\n",
       "      <td>0</td>\n",
       "    </tr>\n",
       "    <tr>\n",
       "      <th>...</th>\n",
       "      <td>...</td>\n",
       "      <td>...</td>\n",
       "      <td>...</td>\n",
       "      <td>...</td>\n",
       "      <td>...</td>\n",
       "      <td>...</td>\n",
       "      <td>...</td>\n",
       "    </tr>\n",
       "    <tr>\n",
       "      <th>99995</th>\n",
       "      <td>0</td>\n",
       "      <td>0</td>\n",
       "      <td>1</td>\n",
       "      <td>0</td>\n",
       "      <td>0</td>\n",
       "      <td>0</td>\n",
       "      <td>0</td>\n",
       "    </tr>\n",
       "    <tr>\n",
       "      <th>99996</th>\n",
       "      <td>0</td>\n",
       "      <td>0</td>\n",
       "      <td>0</td>\n",
       "      <td>0</td>\n",
       "      <td>0</td>\n",
       "      <td>0</td>\n",
       "      <td>1</td>\n",
       "    </tr>\n",
       "    <tr>\n",
       "      <th>99997</th>\n",
       "      <td>0</td>\n",
       "      <td>0</td>\n",
       "      <td>1</td>\n",
       "      <td>0</td>\n",
       "      <td>0</td>\n",
       "      <td>0</td>\n",
       "      <td>0</td>\n",
       "    </tr>\n",
       "    <tr>\n",
       "      <th>99998</th>\n",
       "      <td>0</td>\n",
       "      <td>0</td>\n",
       "      <td>0</td>\n",
       "      <td>0</td>\n",
       "      <td>1</td>\n",
       "      <td>0</td>\n",
       "      <td>0</td>\n",
       "    </tr>\n",
       "    <tr>\n",
       "      <th>99999</th>\n",
       "      <td>0</td>\n",
       "      <td>0</td>\n",
       "      <td>1</td>\n",
       "      <td>0</td>\n",
       "      <td>0</td>\n",
       "      <td>0</td>\n",
       "      <td>0</td>\n",
       "    </tr>\n",
       "  </tbody>\n",
       "</table>\n",
       "<p>100000 rows × 7 columns</p>\n",
       "</div>\n",
       "      <button class=\"colab-df-convert\" onclick=\"convertToInteractive('df-f7e9ab80-c46f-48ca-91c4-18b70d73387a')\"\n",
       "              title=\"Convert this dataframe to an interactive table.\"\n",
       "              style=\"display:none;\">\n",
       "        \n",
       "  <svg xmlns=\"http://www.w3.org/2000/svg\" height=\"24px\"viewBox=\"0 0 24 24\"\n",
       "       width=\"24px\">\n",
       "    <path d=\"M0 0h24v24H0V0z\" fill=\"none\"/>\n",
       "    <path d=\"M18.56 5.44l.94 2.06.94-2.06 2.06-.94-2.06-.94-.94-2.06-.94 2.06-2.06.94zm-11 1L8.5 8.5l.94-2.06 2.06-.94-2.06-.94L8.5 2.5l-.94 2.06-2.06.94zm10 10l.94 2.06.94-2.06 2.06-.94-2.06-.94-.94-2.06-.94 2.06-2.06.94z\"/><path d=\"M17.41 7.96l-1.37-1.37c-.4-.4-.92-.59-1.43-.59-.52 0-1.04.2-1.43.59L10.3 9.45l-7.72 7.72c-.78.78-.78 2.05 0 2.83L4 21.41c.39.39.9.59 1.41.59.51 0 1.02-.2 1.41-.59l7.78-7.78 2.81-2.81c.8-.78.8-2.07 0-2.86zM5.41 20L4 18.59l7.72-7.72 1.47 1.35L5.41 20z\"/>\n",
       "  </svg>\n",
       "      </button>\n",
       "      \n",
       "  <style>\n",
       "    .colab-df-container {\n",
       "      display:flex;\n",
       "      flex-wrap:wrap;\n",
       "      gap: 12px;\n",
       "    }\n",
       "\n",
       "    .colab-df-convert {\n",
       "      background-color: #E8F0FE;\n",
       "      border: none;\n",
       "      border-radius: 50%;\n",
       "      cursor: pointer;\n",
       "      display: none;\n",
       "      fill: #1967D2;\n",
       "      height: 32px;\n",
       "      padding: 0 0 0 0;\n",
       "      width: 32px;\n",
       "    }\n",
       "\n",
       "    .colab-df-convert:hover {\n",
       "      background-color: #E2EBFA;\n",
       "      box-shadow: 0px 1px 2px rgba(60, 64, 67, 0.3), 0px 1px 3px 1px rgba(60, 64, 67, 0.15);\n",
       "      fill: #174EA6;\n",
       "    }\n",
       "\n",
       "    [theme=dark] .colab-df-convert {\n",
       "      background-color: #3B4455;\n",
       "      fill: #D2E3FC;\n",
       "    }\n",
       "\n",
       "    [theme=dark] .colab-df-convert:hover {\n",
       "      background-color: #434B5C;\n",
       "      box-shadow: 0px 1px 3px 1px rgba(0, 0, 0, 0.15);\n",
       "      filter: drop-shadow(0px 1px 2px rgba(0, 0, 0, 0.3));\n",
       "      fill: #FFFFFF;\n",
       "    }\n",
       "  </style>\n",
       "\n",
       "      <script>\n",
       "        const buttonEl =\n",
       "          document.querySelector('#df-f7e9ab80-c46f-48ca-91c4-18b70d73387a button.colab-df-convert');\n",
       "        buttonEl.style.display =\n",
       "          google.colab.kernel.accessAllowed ? 'block' : 'none';\n",
       "\n",
       "        async function convertToInteractive(key) {\n",
       "          const element = document.querySelector('#df-f7e9ab80-c46f-48ca-91c4-18b70d73387a');\n",
       "          const dataTable =\n",
       "            await google.colab.kernel.invokeFunction('convertToInteractive',\n",
       "                                                     [key], {});\n",
       "          if (!dataTable) return;\n",
       "\n",
       "          const docLinkHtml = 'Like what you see? Visit the ' +\n",
       "            '<a target=\"_blank\" href=https://colab.research.google.com/notebooks/data_table.ipynb>data table notebook</a>'\n",
       "            + ' to learn more about interactive tables.';\n",
       "          element.innerHTML = '';\n",
       "          dataTable['output_type'] = 'display_data';\n",
       "          await google.colab.output.renderOutput(dataTable, element);\n",
       "          const docLink = document.createElement('div');\n",
       "          docLink.innerHTML = docLinkHtml;\n",
       "          element.appendChild(docLink);\n",
       "        }\n",
       "      </script>\n",
       "    </div>\n",
       "  </div>\n",
       "  "
      ],
      "text/plain": [
       "       Associate  Director  ...  Mid-Senior level  Not Applicable\n",
       "0              0         0  ...                 0               0\n",
       "1              0         0  ...                 0               0\n",
       "2              1         0  ...                 0               0\n",
       "3              0         0  ...                 1               0\n",
       "4              0         0  ...                 0               0\n",
       "...          ...       ...  ...               ...             ...\n",
       "99995          0         0  ...                 0               0\n",
       "99996          0         0  ...                 0               1\n",
       "99997          0         0  ...                 0               0\n",
       "99998          0         0  ...                 0               0\n",
       "99999          0         0  ...                 0               0\n",
       "\n",
       "[100000 rows x 7 columns]"
      ]
     },
     "execution_count": 31,
     "metadata": {},
     "output_type": "execute_result"
    }
   ],
   "source": [
    "pd.get_dummies(train.seniority_level)"
   ]
  },
  {
   "cell_type": "code",
   "execution_count": 32,
   "metadata": {
    "colab": {
     "base_uri": "https://localhost:8080/"
    },
    "executionInfo": {
     "elapsed": 216,
     "status": "ok",
     "timestamp": 1645526265399,
     "user": {
      "displayName": "Ivan Zidov",
      "photoUrl": "https://lh3.googleusercontent.com/a-/AOh14Gjahm8hyrECD6kPTVfV6aJTjtTwGoMFuzaGECbz2w=s64",
      "userId": "17601732119024015981"
     },
     "user_tz": -60
    },
    "id": "56usVI2-nwas",
    "outputId": "90ca76e2-332e-4e63-cb34-fa4a873de222"
   },
   "outputs": [
    {
     "name": "stdout",
     "output_type": "stream",
     "text": [
      "(80000, 16) (80000, 7)\n",
      "(20000, 16) (20000, 7)\n"
     ]
    }
   ],
   "source": [
    "X_train, X_test, Y_train, Y_test = train_test_split(X,Y, test_size = 0.20, random_state = 42)\n",
    "print(X_train.shape,Y_train.shape)\n",
    "print(X_test.shape,Y_test.shape)"
   ]
  },
  {
   "cell_type": "code",
   "execution_count": 33,
   "metadata": {
    "colab": {
     "base_uri": "https://localhost:8080/"
    },
    "executionInfo": {
     "elapsed": 2,
     "status": "ok",
     "timestamp": 1645526265706,
     "user": {
      "displayName": "Ivan Zidov",
      "photoUrl": "https://lh3.googleusercontent.com/a-/AOh14Gjahm8hyrECD6kPTVfV6aJTjtTwGoMFuzaGECbz2w=s64",
      "userId": "17601732119024015981"
     },
     "user_tz": -60
    },
    "id": "15X4UPjsMriA",
    "outputId": "6ffbdcf1-61c8-49aa-d12a-b1122c99e4e4"
   },
   "outputs": [
    {
     "name": "stdout",
     "output_type": "stream",
     "text": [
      "(64000, 16) (64000, 7)\n",
      "(16000, 16) (16000, 7)\n"
     ]
    }
   ],
   "source": [
    "X_train, X_val, Y_train, Y_val = train_test_split(X_train,Y_train, test_size = 0.20, random_state = 30)\n",
    "print(X_train.shape,Y_train.shape)\n",
    "print(X_val.shape,Y_val.shape)"
   ]
  },
  {
   "cell_type": "code",
   "execution_count": 34,
   "metadata": {
    "executionInfo": {
     "elapsed": 219,
     "status": "ok",
     "timestamp": 1645526269780,
     "user": {
      "displayName": "Ivan Zidov",
      "photoUrl": "https://lh3.googleusercontent.com/a-/AOh14Gjahm8hyrECD6kPTVfV6aJTjtTwGoMFuzaGECbz2w=s64",
      "userId": "17601732119024015981"
     },
     "user_tz": -60
    },
    "id": "TY-5__IF-2Hq"
   },
   "outputs": [],
   "source": [
    "from tensorflow.keras.layers import *"
   ]
  },
  {
   "cell_type": "code",
   "execution_count": 37,
   "metadata": {
    "colab": {
     "base_uri": "https://localhost:8080/"
    },
    "executionInfo": {
     "elapsed": 2041,
     "status": "ok",
     "timestamp": 1645526712815,
     "user": {
      "displayName": "Ivan Zidov",
      "photoUrl": "https://lh3.googleusercontent.com/a-/AOh14Gjahm8hyrECD6kPTVfV6aJTjtTwGoMFuzaGECbz2w=s64",
      "userId": "17601732119024015981"
     },
     "user_tz": -60
    },
    "id": "DwD2h0PXnzvk",
    "outputId": "598d0ed8-3200-44fc-9550-ea6bb7d3e417"
   },
   "outputs": [
    {
     "name": "stdout",
     "output_type": "stream",
     "text": [
      "Model: \"sequential_3\"\n",
      "_________________________________________________________________\n",
      " Layer (type)                Output Shape              Param #   \n",
      "=================================================================\n",
      " embedding_3 (Embedding)     (None, 16, 512)           10240000  \n",
      "                                                                 \n",
      " spatial_dropout1d_3 (Spatia  (None, 16, 512)          0         \n",
      " lDropout1D)                                                     \n",
      "                                                                 \n",
      " bidirectional_6 (Bidirectio  (None, 16, 256)          656384    \n",
      " nal)                                                            \n",
      "                                                                 \n",
      " bidirectional_7 (Bidirectio  (None, 128)              123648    \n",
      " nal)                                                            \n",
      "                                                                 \n",
      " dense_3 (Dense)             (None, 7)                 903       \n",
      "                                                                 \n",
      "=================================================================\n",
      "Total params: 11,020,935\n",
      "Trainable params: 11,020,935\n",
      "Non-trainable params: 0\n",
      "_________________________________________________________________\n",
      "None\n"
     ]
    }
   ],
   "source": [
    "model = Sequential()\n",
    "model.add(Embedding(MAX_NB_WORDS, EMBEDDING_DIM, input_length=X.shape[1]))\n",
    "model.add(SpatialDropout1D(0.2))\n",
    "model.add(Bidirectional(LSTM(128, dropout=config.dropout,return_sequences=True)))\n",
    "model.add(Bidirectional(GRU(64, dropout=config.dropout)))\n",
    "model.add(Dense(7, activation='softmax'))\n",
    "model.compile(loss='categorical_crossentropy', optimizer=\"nadam\", metrics=['accuracy'])\n",
    "print(model.summary())"
   ]
  },
  {
   "cell_type": "code",
   "execution_count": 38,
   "metadata": {
    "colab": {
     "base_uri": "https://localhost:8080/"
    },
    "executionInfo": {
     "elapsed": 31650,
     "status": "ok",
     "timestamp": 1645526748605,
     "user": {
      "displayName": "Ivan Zidov",
      "photoUrl": "https://lh3.googleusercontent.com/a-/AOh14Gjahm8hyrECD6kPTVfV6aJTjtTwGoMFuzaGECbz2w=s64",
      "userId": "17601732119024015981"
     },
     "user_tz": -60
    },
    "id": "Aei53s_Gn8XE",
    "outputId": "5c2efd1b-b74b-449c-962a-156b677bbfac"
   },
   "outputs": [
    {
     "name": "stdout",
     "output_type": "stream",
     "text": [
      "Epoch 1/50\n",
      "63/63 [==============================] - 15s 76ms/step - loss: 1.2978 - accuracy: 0.5255 - val_loss: 1.0453 - val_accuracy: 0.6357\n",
      "Epoch 2/50\n",
      "63/63 [==============================] - 3s 52ms/step - loss: 0.9856 - accuracy: 0.6537 - val_loss: 0.9891 - val_accuracy: 0.6566\n",
      "Epoch 3/50\n",
      "63/63 [==============================] - 3s 52ms/step - loss: 0.8869 - accuracy: 0.6927 - val_loss: 0.9251 - val_accuracy: 0.6806\n",
      "Epoch 4/50\n",
      "63/63 [==============================] - 3s 52ms/step - loss: 0.8237 - accuracy: 0.7177 - val_loss: 0.9213 - val_accuracy: 0.6834\n",
      "Epoch 5/50\n",
      "63/63 [==============================] - 3s 52ms/step - loss: 0.7776 - accuracy: 0.7337 - val_loss: 0.9241 - val_accuracy: 0.6837\n",
      "Epoch 6/50\n",
      "63/63 [==============================] - 3s 52ms/step - loss: 0.7417 - accuracy: 0.7452 - val_loss: 0.9398 - val_accuracy: 0.6812\n"
     ]
    }
   ],
   "source": [
    "epochs = 50\n",
    "batch_size = 1024\n",
    "\n",
    "history = model.fit(X_train, Y_train, epochs=epochs, batch_size=batch_size,validation_data=(X_val,Y_val),\n",
    "                    callbacks=[EarlyStopping(monitor='val_loss', patience=2,restore_best_weights=True),\n",
    "                               WandbCallback(save_model=False)])"
   ]
  },
  {
   "cell_type": "code",
   "execution_count": 40,
   "metadata": {
    "colab": {
     "base_uri": "https://localhost:8080/"
    },
    "executionInfo": {
     "elapsed": 5483,
     "status": "ok",
     "timestamp": 1645527178580,
     "user": {
      "displayName": "Ivan Zidov",
      "photoUrl": "https://lh3.googleusercontent.com/a-/AOh14Gjahm8hyrECD6kPTVfV6aJTjtTwGoMFuzaGECbz2w=s64",
      "userId": "17601732119024015981"
     },
     "user_tz": -60
    },
    "id": "VOUR2j4spDQv",
    "outputId": "9a63558b-e617-4e87-d5b8-bd5a1efb09d3"
   },
   "outputs": [
    {
     "name": "stdout",
     "output_type": "stream",
     "text": [
      "625/625 [==============================] - 5s 6ms/step - loss: 0.9141 - accuracy: 0.6838\n",
      "Test set\n",
      "  Loss: 0.914\n",
      "  Accuracy: 0.684\n"
     ]
    }
   ],
   "source": [
    "accr = model.evaluate(X_test,Y_test)\n",
    "print('Test set\\n  Loss: {:0.3f}\\n  Accuracy: {:0.3f}'.format(accr[0],accr[1]))"
   ]
  },
  {
   "cell_type": "code",
   "execution_count": 48,
   "metadata": {
    "colab": {
     "base_uri": "https://localhost:8080/"
    },
    "executionInfo": {
     "elapsed": 219,
     "status": "ok",
     "timestamp": 1645527614015,
     "user": {
      "displayName": "Ivan Zidov",
      "photoUrl": "https://lh3.googleusercontent.com/a-/AOh14Gjahm8hyrECD6kPTVfV6aJTjtTwGoMFuzaGECbz2w=s64",
      "userId": "17601732119024015981"
     },
     "user_tz": -60
    },
    "id": "QC_tn7g_FDs-",
    "outputId": "f21042f2-edab-4ad8-a2d3-ecfbdbe900ba"
   },
   "outputs": [
    {
     "data": {
      "text/plain": [
       "array([[  0,   0,   0,   0,   0,   0,   0,   0,   0,   0,   0,   0, 349,\n",
       "         68, 194,   6]], dtype=int32)"
      ]
     },
     "execution_count": 48,
     "metadata": {},
     "output_type": "execute_result"
    }
   ],
   "source": [
    "new_title = \"Expert Machine Learning Engineer\"\n",
    "new_title = [clean_text(new_title)]\n",
    "seq = tokenizer.texts_to_sequences(new_title)\n",
    "padded = pad_sequences(seq, maxlen=MAX_SEQUENCE_LENGTH)\n",
    "padded"
   ]
  },
  {
   "cell_type": "code",
   "execution_count": 49,
   "metadata": {
    "colab": {
     "base_uri": "https://localhost:8080/"
    },
    "executionInfo": {
     "elapsed": 225,
     "status": "ok",
     "timestamp": 1645527618174,
     "user": {
      "displayName": "Ivan Zidov",
      "photoUrl": "https://lh3.googleusercontent.com/a-/AOh14Gjahm8hyrECD6kPTVfV6aJTjtTwGoMFuzaGECbz2w=s64",
      "userId": "17601732119024015981"
     },
     "user_tz": -60
    },
    "id": "Wt86twtxFhhq",
    "outputId": "b2dad109-7200-47a9-fedd-7290f28973ef"
   },
   "outputs": [
    {
     "data": {
      "text/plain": [
       "array([[0.18349935, 0.0025292 , 0.3245596 , 0.00402707, 0.00080688,\n",
       "        0.19039497, 0.29418296]], dtype=float32)"
      ]
     },
     "execution_count": 49,
     "metadata": {},
     "output_type": "execute_result"
    }
   ],
   "source": [
    "model.predict(padded)"
   ]
  },
  {
   "cell_type": "code",
   "execution_count": 53,
   "metadata": {
    "colab": {
     "base_uri": "https://localhost:8080/"
    },
    "executionInfo": {
     "elapsed": 254,
     "status": "ok",
     "timestamp": 1645527696869,
     "user": {
      "displayName": "Ivan Zidov",
      "photoUrl": "https://lh3.googleusercontent.com/a-/AOh14Gjahm8hyrECD6kPTVfV6aJTjtTwGoMFuzaGECbz2w=s64",
      "userId": "17601732119024015981"
     },
     "user_tz": -60
    },
    "id": "f4EkhTesF7SW",
    "outputId": "06b285fa-032b-4558-c34f-3d28f67bc196"
   },
   "outputs": [
    {
     "data": {
      "text/plain": [
       "Index(['Associate', 'Director', 'Entry level', 'Executive', 'Internship',\n",
       "       'Mid-Senior level', 'Not Applicable'],\n",
       "      dtype='object')"
      ]
     },
     "execution_count": 53,
     "metadata": {},
     "output_type": "execute_result"
    }
   ],
   "source": [
    "pd.get_dummies(train.seniority_level).columns"
   ]
  },
  {
   "cell_type": "code",
   "execution_count": 50,
   "metadata": {
    "executionInfo": {
     "elapsed": 237,
     "status": "ok",
     "timestamp": 1645527671486,
     "user": {
      "displayName": "Ivan Zidov",
      "photoUrl": "https://lh3.googleusercontent.com/a-/AOh14Gjahm8hyrECD6kPTVfV6aJTjtTwGoMFuzaGECbz2w=s64",
      "userId": "17601732119024015981"
     },
     "user_tz": -60
    },
    "id": "a1WKscEiF4Ym"
   },
   "outputs": [],
   "source": [
    "labels = list(pd.get_dummies(train.seniority_level).columns)"
   ]
  },
  {
   "cell_type": "code",
   "execution_count": 58,
   "metadata": {
    "executionInfo": {
     "elapsed": 236,
     "status": "ok",
     "timestamp": 1645527802637,
     "user": {
      "displayName": "Ivan Zidov",
      "photoUrl": "https://lh3.googleusercontent.com/a-/AOh14Gjahm8hyrECD6kPTVfV6aJTjtTwGoMFuzaGECbz2w=s64",
      "userId": "17601732119024015981"
     },
     "user_tz": -60
    },
    "id": "k-OmdK0xGQkr"
   },
   "outputs": [],
   "source": [
    "def predict_label(new_title):\n",
    "  new_title = [clean_text(new_title)]\n",
    "  seq = tokenizer.texts_to_sequences(new_title)\n",
    "  padded = pad_sequences(seq, maxlen=MAX_SEQUENCE_LENGTH)\n",
    "  pred = model.predict(padded)\n",
    "  #labels = ['Credit reporting, credit repair services, or other personal consumer reports', 'Debt collection', 'Mortgage', 'Credit card or prepaid card', 'Student loan', 'Bank account or service', 'Checking or savings account', 'Consumer Loan', 'Payday loan, title loan, or personal loan', 'Vehicle loan or lease', 'Money transfer, virtual currency, or money service', 'Money transfers', 'Prepaid card']\n",
    "  labels = list(pd.get_dummies(train.seniority_level).columns)\n",
    "  return labels[np.argmax(pred)]"
   ]
  },
  {
   "cell_type": "code",
   "execution_count": 59,
   "metadata": {
    "colab": {
     "base_uri": "https://localhost:8080/",
     "height": 36
    },
    "executionInfo": {
     "elapsed": 238,
     "status": "ok",
     "timestamp": 1645527813802,
     "user": {
      "displayName": "Ivan Zidov",
      "photoUrl": "https://lh3.googleusercontent.com/a-/AOh14Gjahm8hyrECD6kPTVfV6aJTjtTwGoMFuzaGECbz2w=s64",
      "userId": "17601732119024015981"
     },
     "user_tz": -60
    },
    "id": "gtyNJ03UvuYr",
    "outputId": "f2be47bc-3e8d-4e37-f58f-f6bc20e8effe"
   },
   "outputs": [
    {
     "data": {
      "application/vnd.google.colaboratory.intrinsic+json": {
       "type": "string"
      },
      "text/plain": [
       "'Internship'"
      ]
     },
     "execution_count": 59,
     "metadata": {},
     "output_type": "execute_result"
    }
   ],
   "source": [
    "predict_label(\"Intern\")"
   ]
  },
  {
   "cell_type": "code",
   "execution_count": 63,
   "metadata": {
    "colab": {
     "base_uri": "https://localhost:8080/"
    },
    "executionInfo": {
     "elapsed": 224,
     "status": "ok",
     "timestamp": 1645527853700,
     "user": {
      "displayName": "Ivan Zidov",
      "photoUrl": "https://lh3.googleusercontent.com/a-/AOh14Gjahm8hyrECD6kPTVfV6aJTjtTwGoMFuzaGECbz2w=s64",
      "userId": "17601732119024015981"
     },
     "user_tz": -60
    },
    "id": "ErC6JgQ8y6gu",
    "outputId": "e6439abb-8023-41bb-966c-716b419b891c"
   },
   "outputs": [
    {
     "name": "stdout",
     "output_type": "stream",
     "text": [
      "Associate\n",
      "[[0.46950844 0.00327721 0.29798684 0.00201656 0.00072411 0.09468381\n",
      "  0.13180302]]\n"
     ]
    }
   ],
   "source": [
    "#@title Enter new title { run: \"auto\", vertical-output: true }\n",
    "\n",
    "new_title = \"Junior Research Scientist\"  #@param\n",
    "new_title = [clean_text(new_title)]\n",
    "seq = tokenizer.texts_to_sequences(new_title)\n",
    "padded = pad_sequences(seq, maxlen=MAX_SEQUENCE_LENGTH)\n",
    "pred = model.predict(padded)\n",
    "#labels = ['Credit reporting, credit repair services, or other personal consumer reports', 'Debt collection', 'Mortgage', 'Credit card or prepaid card', 'Student loan', 'Bank account or service', 'Checking or savings account', 'Consumer Loan', 'Payday loan, title loan, or personal loan', 'Vehicle loan or lease', 'Money transfer, virtual currency, or money service', 'Money transfers', 'Prepaid card']\n",
    "labels = list(pd.get_dummies(train.seniority_level).columns)\n",
    "print( labels[np.argmax(pred)])\n",
    "print((pred))\n"
   ]
  },
  {
   "cell_type": "code",
   "execution_count": null,
   "metadata": {
    "colab": {
     "base_uri": "https://localhost:8080/"
    },
    "executionInfo": {
     "elapsed": 456,
     "status": "ok",
     "timestamp": 1645299965579,
     "user": {
      "displayName": "Ivan Zidov",
      "photoUrl": "https://lh3.googleusercontent.com/a-/AOh14Gjahm8hyrECD6kPTVfV6aJTjtTwGoMFuzaGECbz2w=s64",
      "userId": "17601732119024015981"
     },
     "user_tz": -60
    },
    "id": "gLVXMENwwI23",
    "outputId": "7ae95677-e803-4c35-9214-564820440e67"
   },
   "outputs": [
    {
     "data": {
      "text/plain": [
       "['Entry level',\n",
       " 'Associate',\n",
       " 'Mid-Senior level',\n",
       " 'Not Applicable',\n",
       " 'Director',\n",
       " 'Internship',\n",
       " 'Executive']"
      ]
     },
     "execution_count": 25,
     "metadata": {},
     "output_type": "execute_result"
    }
   ],
   "source": [
    "list(train.seniority_level.value_counts().index)"
   ]
  },
  {
   "cell_type": "code",
   "execution_count": null,
   "metadata": {
    "colab": {
     "base_uri": "https://localhost:8080/"
    },
    "executionInfo": {
     "elapsed": 2,
     "status": "ok",
     "timestamp": 1645299966107,
     "user": {
      "displayName": "Ivan Zidov",
      "photoUrl": "https://lh3.googleusercontent.com/a-/AOh14Gjahm8hyrECD6kPTVfV6aJTjtTwGoMFuzaGECbz2w=s64",
      "userId": "17601732119024015981"
     },
     "user_tz": -60
    },
    "id": "RIeaeDxlv6mC",
    "outputId": "bc073018-1b7d-46bb-f7f4-414597d210cf"
   },
   "outputs": [
    {
     "data": {
      "text/plain": [
       "Index(['Associate', 'Director', 'Entry level', 'Executive', 'Internship',\n",
       "       'Mid-Senior level', 'Not Applicable'],\n",
       "      dtype='object')"
      ]
     },
     "execution_count": 26,
     "metadata": {},
     "output_type": "execute_result"
    }
   ],
   "source": [
    "pd.get_dummies(train.seniority_level).columns"
   ]
  },
  {
   "cell_type": "code",
   "execution_count": null,
   "metadata": {
    "colab": {
     "base_uri": "https://localhost:8080/"
    },
    "executionInfo": {
     "elapsed": 3,
     "status": "ok",
     "timestamp": 1645299966650,
     "user": {
      "displayName": "Ivan Zidov",
      "photoUrl": "https://lh3.googleusercontent.com/a-/AOh14Gjahm8hyrECD6kPTVfV6aJTjtTwGoMFuzaGECbz2w=s64",
      "userId": "17601732119024015981"
     },
     "user_tz": -60
    },
    "id": "A77alJjzZnK-",
    "outputId": "dcf683f8-4db7-4672-8a24-47551800996d"
   },
   "outputs": [
    {
     "name": "stdout",
     "output_type": "stream",
     "text": [
      "{'learning_rate': 0.01, 'lower_case': True, 'optimizer': 'adam', 'batch_size': 2048, 'dropout': 0.2, 'r_dropout': 0.2, 'lstm': 128, 'MAX_NB_WORDS': 10000, 'MAX_SEQUENCE_LENGTH': 16, 'EMBEDDING_DIM': 512, 'rnn_dim': 128, 'rnn_type': 'gru'}\n"
     ]
    }
   ],
   "source": [
    "print(config)"
   ]
  },
  {
   "cell_type": "markdown",
   "metadata": {
    "id": "Kb3wPvZuZI5m"
   },
   "source": [
    "## Sweep"
   ]
  },
  {
   "cell_type": "code",
   "execution_count": null,
   "metadata": {
    "id": "_mgUSVp0ZYGF"
   },
   "outputs": [],
   "source": [
    "def train():\n",
    "    config_defaults = {\n",
    "        'learning_rate': 0.01, \n",
    "        'lower_case': True, \n",
    "        'optimizer': 'adam', \n",
    "        'batch_size': 2048, \n",
    "        'dropout': 0.2, \n",
    "        'r_dropout': 0.2, \n",
    "        'rnn_dim': 128, \n",
    "        'rnn_type': \"gru\",\n",
    "        'MAX_NB_WORDS': 10000, \n",
    "        'MAX_SEQUENCE_LENGTH': 16, \n",
    "        'EMBEDDING_DIM': 512\n",
    "        }\n",
    "\n",
    "\n",
    "    wandb.init(project='lipik', entity='ivanzidov',config=config_defaults)\n",
    "\n",
    "    model = Sequential()\n",
    "    model.add(Embedding(MAX_NB_WORDS, EMBEDDING_DIM, input_length=X.shape[1]))\n",
    "    model.add(SpatialDropout1D(0.2))\n",
    "    if config.rnn_type==\"lstm\":\n",
    "        model.add(LSTM(config.rnn_dim, dropout=config.dropout, recurrent_dropout=config.r_dropout))\n",
    "    else:\n",
    "        model.add(GRU(config.rnn_dim, dropout=config.dropout, recurrent_dropout=config.r_dropout))\n",
    "    model.add(Dense(7, activation='softmax'))\n",
    "    model.compile(loss='categorical_crossentropy', optimizer=config.optimizer, metrics=['accuracy'])\n",
    "\n",
    "    print(model.summary())\n",
    "\n",
    "    epochs = 50\n",
    "    batch_size = config.batch_size\n",
    "\n",
    "    history = model.fit(X_train, Y_train, epochs=epochs, batch_size=batch_size,validation_data=(X_val,Y_val),\n",
    "                        callbacks=[EarlyStopping(monitor='val_loss', patience=2,restore_best_weights=True),WandbCallback(save_model=False)])\n"
   ]
  },
  {
   "cell_type": "code",
   "execution_count": null,
   "metadata": {
    "id": "P_HsimWaZKFX"
   },
   "outputs": [],
   "source": [
    "sweep_config = {\n",
    "    'method': 'grid', #grid, random\n",
    "    'metric': {\n",
    "      'name': 'val_loss',\n",
    "      'goal': 'minimize'   \n",
    "    },\n",
    "    'parameters': {\n",
    "        'batch_size': {\n",
    "            'values': [2048, 128]\n",
    "        },\n",
    "        'rnn_type':{\n",
    "            'values':[\"gru\",\"lstm\"]\n",
    "        },\n",
    "        'rnn_dim':{\n",
    "            'values':[64,256]\n",
    "        },\n",
    "        'optimizer': {\n",
    "            'values': ['adam', 'RMSprop']\n",
    "        },\n",
    "    }\n",
    "}"
   ]
  },
  {
   "cell_type": "code",
   "execution_count": null,
   "metadata": {
    "colab": {
     "base_uri": "https://localhost:8080/"
    },
    "executionInfo": {
     "elapsed": 577,
     "status": "ok",
     "timestamp": 1620737145992,
     "user": {
      "displayName": "Ivan Zidov",
      "photoUrl": "https://lh3.googleusercontent.com/a-/AOh14Gh9xrosmJK-Ei5q5MdZW8wDJQWd8ViPpIlL3HqU1a05ohc8Kp_u0uIJ34hewQR_ezifHmvrudvM5Fx8KjzlxP1deZZZo24ZTqgfMxRpv2hb6I7HGBnTg8_Y_kWD2l12VnEZk145zA6JEB1seULFUybqVpAGBJgKCzUZRjCnQQ5fWBUMByAQgyBU6gD8shqyVh_DhRkzJOiSsa3ApWUqMvn0xnrla7_x23s8ZxYfhqcXwXqB-VCl55_oUJe9MrdItnkzFXC8ZLZFIoilO_mWQirC1OFm3QARsXL9hLjeSJ-MJHgLWlikgA_YnKcA4tVplMHAVGE46elznz6UaLMD1zcXw_3PlYvimnXWfTiMUf3vc45Z08uMwLt5BrWBaRPjOdc4oIcfKkWOtWAezduOAP2fMo8oOwafVm_vmSD0FM66Ni3A9zpqmW_HlH8-zfWDe1f4JZ7g5HTKvylgsOd40s3HNJjEcc1D3ElrQJDTpd6pCQeioOULUL6waChz-m1U5VVlwJPSRyRvtwelWpg3ez2-SADLz2-fl5_lUAYpJMoiqQiQBLcf9aptZon_SYPcyQJ0r8WCRxsXFrDqP-t_WFqBV40mARbUDTAW0yJJwPtTqx10mgbLbrVxZlC1BX9QLFcKwXZnPB-M5Kij4HAlP3lO7XoElYM67NBbqwT5w04eDfEMuNlk5Hj80TNklDhu4XGcFAwM5HZxVRDcIGbrTTpgE_0oBmbshjqEN5PcRUYJaJAU_CayjGPmFBZe5VjVRxAuag=s64",
      "userId": "12021439012864123870"
     },
     "user_tz": -120
    },
    "id": "HV5L87CZa-67",
    "outputId": "b3eb292c-171f-47da-fcf1-07fc754a9819"
   },
   "outputs": [
    {
     "name": "stderr",
     "output_type": "stream",
     "text": [
      "\u001b[34m\u001b[1mwandb\u001b[0m: \u001b[33mWARNING\u001b[0m Calling wandb.login() after wandb.init() has no effect.\n"
     ]
    },
    {
     "name": "stdout",
     "output_type": "stream",
     "text": [
      "Create sweep with ID: th0hf6xo\n",
      "Sweep URL: https://wandb.ai/ivanzidov/lipik/sweeps/th0hf6xo\n"
     ]
    }
   ],
   "source": [
    "sweep_id = wandb.sweep(sweep_config, project='lipik', entity='ivanzidov')"
   ]
  },
  {
   "cell_type": "code",
   "execution_count": null,
   "metadata": {
    "colab": {
     "base_uri": "https://localhost:8080/",
     "height": 739
    },
    "id": "PlJ9xoHmbCCx",
    "outputId": "659f85be-43f3-4229-c572-e22fcc6f19dd"
   },
   "outputs": [
    {
     "name": "stderr",
     "output_type": "stream",
     "text": [
      "\u001b[34m\u001b[1mwandb\u001b[0m: Agent Starting Run: lp56hvem with config:\n",
      "\u001b[34m\u001b[1mwandb\u001b[0m: \tbatch_size: 2048\n",
      "\u001b[34m\u001b[1mwandb\u001b[0m: \toptimizer: adam\n",
      "\u001b[34m\u001b[1mwandb\u001b[0m: \trnn_dim: 64\n",
      "\u001b[34m\u001b[1mwandb\u001b[0m: \trnn_type: gru\n",
      "\u001b[34m\u001b[1mwandb\u001b[0m: \u001b[33mWARNING\u001b[0m Ignored wandb.init() arg project when running a sweep\n",
      "\u001b[34m\u001b[1mwandb\u001b[0m: \u001b[33mWARNING\u001b[0m Ignored wandb.init() arg entity when running a sweep\n"
     ]
    },
    {
     "data": {
      "text/html": [
       "\n",
       "                Tracking run with wandb version 0.10.30<br/>\n",
       "                Syncing run <strong style=\"color:#cdcd00\">northern-sweep-1</strong> to <a href=\"https://wandb.ai\" target=\"_blank\">Weights & Biases</a> <a href=\"https://docs.wandb.com/integrations/jupyter.html\" target=\"_blank\">(Documentation)</a>.<br/>\n",
       "                Project page: <a href=\"https://wandb.ai/ivanzidov/lipik\" target=\"_blank\">https://wandb.ai/ivanzidov/lipik</a><br/>\n",
       "                Sweep page: <a href=\"https://wandb.ai/ivanzidov/lipik/sweeps/th0hf6xo\" target=\"_blank\">https://wandb.ai/ivanzidov/lipik/sweeps/th0hf6xo</a><br/>\n",
       "Run page: <a href=\"https://wandb.ai/ivanzidov/lipik/runs/lp56hvem\" target=\"_blank\">https://wandb.ai/ivanzidov/lipik/runs/lp56hvem</a><br/>\n",
       "                Run data is saved locally in <code>/content/wandb/run-20210511_124549-lp56hvem</code><br/><br/>\n",
       "            "
      ],
      "text/plain": [
       "<IPython.core.display.HTML object>"
      ]
     },
     "metadata": {
      "tags": []
     },
     "output_type": "display_data"
    },
    {
     "name": "stdout",
     "output_type": "stream",
     "text": [
      "Model: \"sequential\"\n",
      "_________________________________________________________________\n",
      "Layer (type)                 Output Shape              Param #   \n",
      "=================================================================\n",
      "embedding (Embedding)        (None, 16, 512)           5120000   \n",
      "_________________________________________________________________\n",
      "spatial_dropout1d (SpatialDr (None, 16, 512)           0         \n",
      "_________________________________________________________________\n",
      "gru (GRU)                    (None, 128)               246528    \n",
      "_________________________________________________________________\n",
      "dense (Dense)                (None, 7)                 903       \n",
      "=================================================================\n",
      "Total params: 5,367,431\n",
      "Trainable params: 5,367,431\n",
      "Non-trainable params: 0\n",
      "_________________________________________________________________\n",
      "None\n",
      "Epoch 1/50\n",
      "32/32 [==============================] - 56s 2s/step - loss: 1.6265 - accuracy: 0.4372 - val_loss: 1.1523 - val_accuracy: 0.5863\n",
      "Epoch 2/50\n",
      "32/32 [==============================] - 53s 2s/step - loss: 1.0765 - accuracy: 0.6192 - val_loss: 0.9835 - val_accuracy: 0.6556\n",
      "Epoch 3/50\n",
      "32/32 [==============================] - 53s 2s/step - loss: 0.9107 - accuracy: 0.6814 - val_loss: 0.9392 - val_accuracy: 0.6768\n",
      "Epoch 4/50\n",
      "32/32 [==============================] - 53s 2s/step - loss: 0.8360 - accuracy: 0.7074 - val_loss: 0.9265 - val_accuracy: 0.6805\n",
      "Epoch 5/50\n",
      "32/32 [==============================] - 52s 2s/step - loss: 0.7892 - accuracy: 0.7253 - val_loss: 0.9291 - val_accuracy: 0.6793\n",
      "Epoch 6/50\n",
      "31/32 [============================>.] - ETA: 1s - loss: 0.7573 - accuracy: 0.7356"
     ]
    }
   ],
   "source": [
    "wandb.agent(sweep_id, train)"
   ]
  },
  {
   "cell_type": "code",
   "execution_count": null,
   "metadata": {
    "id": "2UQqgyVVbGGo"
   },
   "outputs": [],
   "source": []
  }
 ],
 "metadata": {
  "accelerator": "GPU",
  "colab": {
   "collapsed_sections": [],
   "name": "3. Wanbai.ipynb",
   "provenance": []
  },
  "kernelspec": {
   "display_name": "Python 3 (ipykernel)",
   "language": "python",
   "name": "python3"
  },
  "language_info": {
   "codemirror_mode": {
    "name": "ipython",
    "version": 3
   },
   "file_extension": ".py",
   "mimetype": "text/x-python",
   "name": "python",
   "nbconvert_exporter": "python",
   "pygments_lexer": "ipython3",
   "version": "3.10.0"
  },
  "widgets": {
   "application/vnd.jupyter.widget-state+json": {
    "20b96d7b2d17483087f9e824ef085997": {
     "model_module": "@jupyter-widgets/base",
     "model_module_version": "1.2.0",
     "model_name": "LayoutModel",
     "state": {
      "_model_module": "@jupyter-widgets/base",
      "_model_module_version": "1.2.0",
      "_model_name": "LayoutModel",
      "_view_count": null,
      "_view_module": "@jupyter-widgets/base",
      "_view_module_version": "1.2.0",
      "_view_name": "LayoutView",
      "align_content": null,
      "align_items": null,
      "align_self": null,
      "border": null,
      "bottom": null,
      "display": null,
      "flex": null,
      "flex_flow": null,
      "grid_area": null,
      "grid_auto_columns": null,
      "grid_auto_flow": null,
      "grid_auto_rows": null,
      "grid_column": null,
      "grid_gap": null,
      "grid_row": null,
      "grid_template_areas": null,
      "grid_template_columns": null,
      "grid_template_rows": null,
      "height": null,
      "justify_content": null,
      "justify_items": null,
      "left": null,
      "margin": null,
      "max_height": null,
      "max_width": null,
      "min_height": null,
      "min_width": null,
      "object_fit": null,
      "object_position": null,
      "order": null,
      "overflow": null,
      "overflow_x": null,
      "overflow_y": null,
      "padding": null,
      "right": null,
      "top": null,
      "visibility": null,
      "width": null
     }
    },
    "6285025602324a8dbefaafc19be38e44": {
     "model_module": "@jupyter-widgets/controls",
     "model_module_version": "1.5.0",
     "model_name": "FloatProgressModel",
     "state": {
      "_dom_classes": [],
      "_model_module": "@jupyter-widgets/controls",
      "_model_module_version": "1.5.0",
      "_model_name": "FloatProgressModel",
      "_view_count": null,
      "_view_module": "@jupyter-widgets/controls",
      "_view_module_version": "1.5.0",
      "_view_name": "ProgressView",
      "bar_style": "",
      "description": "",
      "description_tooltip": null,
      "layout": "IPY_MODEL_20b96d7b2d17483087f9e824ef085997",
      "max": 1,
      "min": 0,
      "orientation": "horizontal",
      "style": "IPY_MODEL_c02ee9d9917d4dd990700e7e3a6d3941",
      "value": 1
     }
    },
    "7637f3fd3bd04e858e65e2b05c89605c": {
     "model_module": "@jupyter-widgets/controls",
     "model_module_version": "1.5.0",
     "model_name": "DescriptionStyleModel",
     "state": {
      "_model_module": "@jupyter-widgets/controls",
      "_model_module_version": "1.5.0",
      "_model_name": "DescriptionStyleModel",
      "_view_count": null,
      "_view_module": "@jupyter-widgets/base",
      "_view_module_version": "1.2.0",
      "_view_name": "StyleView",
      "description_width": ""
     }
    },
    "a25245a670314b55a68943e0616741e9": {
     "model_module": "@jupyter-widgets/controls",
     "model_module_version": "1.5.0",
     "model_name": "VBoxModel",
     "state": {
      "_dom_classes": [],
      "_model_module": "@jupyter-widgets/controls",
      "_model_module_version": "1.5.0",
      "_model_name": "VBoxModel",
      "_view_count": null,
      "_view_module": "@jupyter-widgets/controls",
      "_view_module_version": "1.5.0",
      "_view_name": "VBoxView",
      "box_style": "",
      "children": [
       "IPY_MODEL_f9555097ca924e08ab9a8eb78a5d88ca",
       "IPY_MODEL_6285025602324a8dbefaafc19be38e44"
      ],
      "layout": "IPY_MODEL_dfbc2879b7cb4ac4b1ebb19459a35b97"
     }
    },
    "c02ee9d9917d4dd990700e7e3a6d3941": {
     "model_module": "@jupyter-widgets/controls",
     "model_module_version": "1.5.0",
     "model_name": "ProgressStyleModel",
     "state": {
      "_model_module": "@jupyter-widgets/controls",
      "_model_module_version": "1.5.0",
      "_model_name": "ProgressStyleModel",
      "_view_count": null,
      "_view_module": "@jupyter-widgets/base",
      "_view_module_version": "1.2.0",
      "_view_name": "StyleView",
      "bar_color": null,
      "description_width": ""
     }
    },
    "c44dbedd26c7477d8131baa90a7c48e6": {
     "model_module": "@jupyter-widgets/base",
     "model_module_version": "1.2.0",
     "model_name": "LayoutModel",
     "state": {
      "_model_module": "@jupyter-widgets/base",
      "_model_module_version": "1.2.0",
      "_model_name": "LayoutModel",
      "_view_count": null,
      "_view_module": "@jupyter-widgets/base",
      "_view_module_version": "1.2.0",
      "_view_name": "LayoutView",
      "align_content": null,
      "align_items": null,
      "align_self": null,
      "border": null,
      "bottom": null,
      "display": null,
      "flex": null,
      "flex_flow": null,
      "grid_area": null,
      "grid_auto_columns": null,
      "grid_auto_flow": null,
      "grid_auto_rows": null,
      "grid_column": null,
      "grid_gap": null,
      "grid_row": null,
      "grid_template_areas": null,
      "grid_template_columns": null,
      "grid_template_rows": null,
      "height": null,
      "justify_content": null,
      "justify_items": null,
      "left": null,
      "margin": null,
      "max_height": null,
      "max_width": null,
      "min_height": null,
      "min_width": null,
      "object_fit": null,
      "object_position": null,
      "order": null,
      "overflow": null,
      "overflow_x": null,
      "overflow_y": null,
      "padding": null,
      "right": null,
      "top": null,
      "visibility": null,
      "width": null
     }
    },
    "dfbc2879b7cb4ac4b1ebb19459a35b97": {
     "model_module": "@jupyter-widgets/base",
     "model_module_version": "1.2.0",
     "model_name": "LayoutModel",
     "state": {
      "_model_module": "@jupyter-widgets/base",
      "_model_module_version": "1.2.0",
      "_model_name": "LayoutModel",
      "_view_count": null,
      "_view_module": "@jupyter-widgets/base",
      "_view_module_version": "1.2.0",
      "_view_name": "LayoutView",
      "align_content": null,
      "align_items": null,
      "align_self": null,
      "border": null,
      "bottom": null,
      "display": null,
      "flex": null,
      "flex_flow": null,
      "grid_area": null,
      "grid_auto_columns": null,
      "grid_auto_flow": null,
      "grid_auto_rows": null,
      "grid_column": null,
      "grid_gap": null,
      "grid_row": null,
      "grid_template_areas": null,
      "grid_template_columns": null,
      "grid_template_rows": null,
      "height": null,
      "justify_content": null,
      "justify_items": null,
      "left": null,
      "margin": null,
      "max_height": null,
      "max_width": null,
      "min_height": null,
      "min_width": null,
      "object_fit": null,
      "object_position": null,
      "order": null,
      "overflow": null,
      "overflow_x": null,
      "overflow_y": null,
      "padding": null,
      "right": null,
      "top": null,
      "visibility": null,
      "width": null
     }
    },
    "f9555097ca924e08ab9a8eb78a5d88ca": {
     "model_module": "@jupyter-widgets/controls",
     "model_module_version": "1.5.0",
     "model_name": "LabelModel",
     "state": {
      "_dom_classes": [],
      "_model_module": "@jupyter-widgets/controls",
      "_model_module_version": "1.5.0",
      "_model_name": "LabelModel",
      "_view_count": null,
      "_view_module": "@jupyter-widgets/controls",
      "_view_module_version": "1.5.0",
      "_view_name": "LabelView",
      "description": "",
      "description_tooltip": null,
      "layout": "IPY_MODEL_c44dbedd26c7477d8131baa90a7c48e6",
      "placeholder": "​",
      "style": "IPY_MODEL_7637f3fd3bd04e858e65e2b05c89605c",
      "value": " 0.02MB of 0.02MB uploaded (0.00MB deduped)\r"
     }
    }
   }
  }
 },
 "nbformat": 4,
 "nbformat_minor": 1
}
