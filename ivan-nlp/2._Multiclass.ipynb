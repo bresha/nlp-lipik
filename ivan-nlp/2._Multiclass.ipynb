{
 "cells": [
  {
   "cell_type": "markdown",
   "metadata": {
    "id": "Or9NG-GbhKIv"
   },
   "source": [
    "# Učitavanje datoteka"
   ]
  },
  {
   "cell_type": "code",
   "execution_count": 1,
   "metadata": {},
   "outputs": [
    {
     "name": "stderr",
     "output_type": "stream",
     "text": [
      "\u001b[34m\u001b[1mwandb\u001b[0m: Currently logged in as: \u001b[33mbresha\u001b[0m (use `wandb login --relogin` to force relogin)\n"
     ]
    },
    {
     "data": {
      "text/html": [
       "\n",
       "                    Syncing run <strong><a href=\"https://wandb.ai/bresha/my-test-project/runs/2sin0dkb\" target=\"_blank\">avid-sky-10</a></strong> to <a href=\"https://wandb.ai/bresha/my-test-project\" target=\"_blank\">Weights & Biases</a> (<a href=\"https://docs.wandb.com/integrations/jupyter.html\" target=\"_blank\">docs</a>).<br/>\n",
       "\n",
       "                "
      ],
      "text/plain": [
       "<IPython.core.display.HTML object>"
      ]
     },
     "metadata": {},
     "output_type": "display_data"
    },
    {
     "data": {
      "text/html": [
       "<button onClick=\"this.nextSibling.style.display='block';this.style.display='none';\">Display W&B run</button><iframe src=\"https://wandb.ai/bresha/my-test-project/runs/2sin0dkb?jupyter=true\" style=\"border:none;width:100%;height:420px;display:none;\"></iframe>"
      ],
      "text/plain": [
       "<wandb.sdk.wandb_run.Run at 0x7f6eb2101420>"
      ]
     },
     "execution_count": 1,
     "metadata": {},
     "output_type": "execute_result"
    }
   ],
   "source": [
    "import wandb\n",
    "from wandb.keras import WandbCallback\n",
    "\n",
    "wandb.init(project=\"my-test-project\", entity=\"bresha\")"
   ]
  },
  {
   "cell_type": "code",
   "execution_count": 2,
   "metadata": {
    "executionInfo": {
     "elapsed": 5,
     "status": "ok",
     "timestamp": 1645299491620,
     "user": {
      "displayName": "Ivan Zidov",
      "photoUrl": "https://lh3.googleusercontent.com/a-/AOh14Gjahm8hyrECD6kPTVfV6aJTjtTwGoMFuzaGECbz2w=s64",
      "userId": "17601732119024015981"
     },
     "user_tz": -60
    },
    "id": "NG0MHhtzk4TA"
   },
   "outputs": [],
   "source": [
    "import pandas as pd"
   ]
  },
  {
   "cell_type": "code",
   "execution_count": 3,
   "metadata": {
    "executionInfo": {
     "elapsed": 5,
     "status": "ok",
     "timestamp": 1645299491620,
     "user": {
      "displayName": "Ivan Zidov",
      "photoUrl": "https://lh3.googleusercontent.com/a-/AOh14Gjahm8hyrECD6kPTVfV6aJTjtTwGoMFuzaGECbz2w=s64",
      "userId": "17601732119024015981"
     },
     "user_tz": -60
    },
    "id": "7-Gm5Y5KlB47"
   },
   "outputs": [],
   "source": [
    "download_url = \"train.csv\""
   ]
  },
  {
   "cell_type": "code",
   "execution_count": 4,
   "metadata": {
    "colab": {
     "base_uri": "https://localhost:8080/",
     "height": 206
    },
    "executionInfo": {
     "elapsed": 4880,
     "status": "ok",
     "timestamp": 1645299496496,
     "user": {
      "displayName": "Ivan Zidov",
      "photoUrl": "https://lh3.googleusercontent.com/a-/AOh14Gjahm8hyrECD6kPTVfV6aJTjtTwGoMFuzaGECbz2w=s64",
      "userId": "17601732119024015981"
     },
     "user_tz": -60
    },
    "id": "8DzNvMGslPB5",
    "outputId": "d46adc37-d523-4f5f-c5bd-9a2f9c131495"
   },
   "outputs": [
    {
     "data": {
      "text/html": [
       "<div>\n",
       "<style scoped>\n",
       "    .dataframe tbody tr th:only-of-type {\n",
       "        vertical-align: middle;\n",
       "    }\n",
       "\n",
       "    .dataframe tbody tr th {\n",
       "        vertical-align: top;\n",
       "    }\n",
       "\n",
       "    .dataframe thead th {\n",
       "        text-align: right;\n",
       "    }\n",
       "</style>\n",
       "<table border=\"1\" class=\"dataframe\">\n",
       "  <thead>\n",
       "    <tr style=\"text-align: right;\">\n",
       "      <th></th>\n",
       "      <th>job_title</th>\n",
       "      <th>seniority_level</th>\n",
       "      <th>employment_type</th>\n",
       "      <th>industries</th>\n",
       "      <th>job_functions</th>\n",
       "    </tr>\n",
       "  </thead>\n",
       "  <tbody>\n",
       "    <tr>\n",
       "      <th>0</th>\n",
       "      <td>Manual Tester</td>\n",
       "      <td>Entry level</td>\n",
       "      <td>Full-time</td>\n",
       "      <td>[Information Technology and Services]</td>\n",
       "      <td>[Engineering, Information Technology]</td>\n",
       "    </tr>\n",
       "    <tr>\n",
       "      <th>1</th>\n",
       "      <td>Field Marketing Representative</td>\n",
       "      <td>Entry level</td>\n",
       "      <td>Full-time</td>\n",
       "      <td>[Food &amp; Beverages, Wholesale, Retail]</td>\n",
       "      <td>[Marketing, Sales]</td>\n",
       "    </tr>\n",
       "    <tr>\n",
       "      <th>2</th>\n",
       "      <td>Consumer Relations Representative</td>\n",
       "      <td>Associate</td>\n",
       "      <td>Full-time</td>\n",
       "      <td>[Marketing and Advertising, Food &amp; Beverages, ...</td>\n",
       "      <td>[Other]</td>\n",
       "    </tr>\n",
       "    <tr>\n",
       "      <th>3</th>\n",
       "      <td>Software Engineer In Test</td>\n",
       "      <td>Mid-Senior level</td>\n",
       "      <td>Full-time</td>\n",
       "      <td>[Information Technology and Services, Computer...</td>\n",
       "      <td>[Information Technology, Quality Assurance]</td>\n",
       "    </tr>\n",
       "    <tr>\n",
       "      <th>4</th>\n",
       "      <td>Electrician</td>\n",
       "      <td>Entry level</td>\n",
       "      <td>Full-time</td>\n",
       "      <td>[Electrical/Electronic Manufacturing, Construc...</td>\n",
       "      <td>[Management, Manufacturing]</td>\n",
       "    </tr>\n",
       "  </tbody>\n",
       "</table>\n",
       "</div>"
      ],
      "text/plain": [
       "                           job_title   seniority_level employment_type  \\\n",
       "0                      Manual Tester       Entry level       Full-time   \n",
       "1     Field Marketing Representative       Entry level       Full-time   \n",
       "2  Consumer Relations Representative         Associate       Full-time   \n",
       "3          Software Engineer In Test  Mid-Senior level       Full-time   \n",
       "4                        Electrician       Entry level       Full-time   \n",
       "\n",
       "                                          industries  \\\n",
       "0              [Information Technology and Services]   \n",
       "1              [Food & Beverages, Wholesale, Retail]   \n",
       "2  [Marketing and Advertising, Food & Beverages, ...   \n",
       "3  [Information Technology and Services, Computer...   \n",
       "4  [Electrical/Electronic Manufacturing, Construc...   \n",
       "\n",
       "                                 job_functions  \n",
       "0        [Engineering, Information Technology]  \n",
       "1                           [Marketing, Sales]  \n",
       "2                                      [Other]  \n",
       "3  [Information Technology, Quality Assurance]  \n",
       "4                  [Management, Manufacturing]  "
      ]
     },
     "execution_count": 4,
     "metadata": {},
     "output_type": "execute_result"
    }
   ],
   "source": [
    "df = pd.read_csv(download_url)\n",
    "df.job_functions = df.job_functions.apply(eval)\n",
    "df.industries = df.industries.apply(eval)\n",
    "\n",
    "df.head()"
   ]
  },
  {
   "cell_type": "code",
   "execution_count": 5,
   "metadata": {
    "colab": {
     "base_uri": "https://localhost:8080/",
     "height": 206
    },
    "executionInfo": {
     "elapsed": 2059,
     "status": "ok",
     "timestamp": 1645299498552,
     "user": {
      "displayName": "Ivan Zidov",
      "photoUrl": "https://lh3.googleusercontent.com/a-/AOh14Gjahm8hyrECD6kPTVfV6aJTjtTwGoMFuzaGECbz2w=s64",
      "userId": "17601732119024015981"
     },
     "user_tz": -60
    },
    "id": "SXE9ev1YlaNS",
    "outputId": "0aeae14d-ad75-48c8-fb0d-6cc0a3634a08"
   },
   "outputs": [
    {
     "data": {
      "text/html": [
       "<div>\n",
       "<style scoped>\n",
       "    .dataframe tbody tr th:only-of-type {\n",
       "        vertical-align: middle;\n",
       "    }\n",
       "\n",
       "    .dataframe tbody tr th {\n",
       "        vertical-align: top;\n",
       "    }\n",
       "\n",
       "    .dataframe thead th {\n",
       "        text-align: right;\n",
       "    }\n",
       "</style>\n",
       "<table border=\"1\" class=\"dataframe\">\n",
       "  <thead>\n",
       "    <tr style=\"text-align: right;\">\n",
       "      <th></th>\n",
       "      <th>job_title</th>\n",
       "      <th>seniority_level</th>\n",
       "      <th>employment_type</th>\n",
       "      <th>industries</th>\n",
       "      <th>job_functions</th>\n",
       "    </tr>\n",
       "  </thead>\n",
       "  <tbody>\n",
       "    <tr>\n",
       "      <th>0</th>\n",
       "      <td>CAD Drafter - Dallas, TX</td>\n",
       "      <td>Not Applicable</td>\n",
       "      <td>Full-time</td>\n",
       "      <td>[Construction, Civil Engineering, Real Estate]</td>\n",
       "      <td>[Design, Art/Creative, Information Technology]</td>\n",
       "    </tr>\n",
       "    <tr>\n",
       "      <th>1</th>\n",
       "      <td>COMPUTER ANALYST NOC-2171</td>\n",
       "      <td>Entry level</td>\n",
       "      <td>Full-time</td>\n",
       "      <td>[Information Technology and Services, Computer...</td>\n",
       "      <td>[Information Technology]</td>\n",
       "    </tr>\n",
       "    <tr>\n",
       "      <th>2</th>\n",
       "      <td>Videographer</td>\n",
       "      <td>Entry level</td>\n",
       "      <td>Full-time</td>\n",
       "      <td>[Marketing and Advertising, Internet, Financia...</td>\n",
       "      <td>[Design, Art/Creative, Information Technology]</td>\n",
       "    </tr>\n",
       "    <tr>\n",
       "      <th>3</th>\n",
       "      <td>Sales Representative</td>\n",
       "      <td>Entry level</td>\n",
       "      <td>Full-time</td>\n",
       "      <td>[Building Materials, Machinery, Mechanical or ...</td>\n",
       "      <td>[Sales, Business Development]</td>\n",
       "    </tr>\n",
       "    <tr>\n",
       "      <th>4</th>\n",
       "      <td>Open job positions for all employees</td>\n",
       "      <td>Entry level</td>\n",
       "      <td>Full-time</td>\n",
       "      <td>[Electrical/Electronic Manufacturing, Construc...</td>\n",
       "      <td>[Other]</td>\n",
       "    </tr>\n",
       "  </tbody>\n",
       "</table>\n",
       "</div>"
      ],
      "text/plain": [
       "                              job_title seniority_level employment_type  \\\n",
       "0              CAD Drafter - Dallas, TX  Not Applicable       Full-time   \n",
       "1             COMPUTER ANALYST NOC-2171     Entry level       Full-time   \n",
       "2                          Videographer     Entry level       Full-time   \n",
       "3                  Sales Representative     Entry level       Full-time   \n",
       "4  Open job positions for all employees     Entry level       Full-time   \n",
       "\n",
       "                                          industries  \\\n",
       "0     [Construction, Civil Engineering, Real Estate]   \n",
       "1  [Information Technology and Services, Computer...   \n",
       "2  [Marketing and Advertising, Internet, Financia...   \n",
       "3  [Building Materials, Machinery, Mechanical or ...   \n",
       "4  [Electrical/Electronic Manufacturing, Construc...   \n",
       "\n",
       "                                    job_functions  \n",
       "0  [Design, Art/Creative, Information Technology]  \n",
       "1                        [Information Technology]  \n",
       "2  [Design, Art/Creative, Information Technology]  \n",
       "3                   [Sales, Business Development]  \n",
       "4                                         [Other]  "
      ]
     },
     "execution_count": 5,
     "metadata": {},
     "output_type": "execute_result"
    }
   ],
   "source": [
    "download_url = \"test.csv\"\n",
    "test = pd.read_csv(download_url)\n",
    "test.job_functions = test.job_functions.apply(eval)\n",
    "test.industries = test.industries.apply(eval)\n",
    "\n",
    "test.head()"
   ]
  },
  {
   "cell_type": "markdown",
   "metadata": {
    "id": "VRY4JWHd4bNm"
   },
   "source": [
    "## Model za predikciju iskustva iz naslova posla"
   ]
  },
  {
   "cell_type": "markdown",
   "metadata": {
    "id": "nfji43rm5smh"
   },
   "source": [
    "Ulaz:\n",
    "Tekst koji čistimo i pretvaramo u matricu. Maksimalna duljina je 10 riječi i maximalni broj riječi u rječniku je 10 000.\n",
    "\n",
    "Izlas:\n",
    "Jedna od 7 kategorija"
   ]
  },
  {
   "cell_type": "code",
   "execution_count": 6,
   "metadata": {
    "colab": {
     "base_uri": "https://localhost:8080/"
    },
    "executionInfo": {
     "elapsed": 1387,
     "status": "ok",
     "timestamp": 1645299540482,
     "user": {
      "displayName": "Ivan Zidov",
      "photoUrl": "https://lh3.googleusercontent.com/a-/AOh14Gjahm8hyrECD6kPTVfV6aJTjtTwGoMFuzaGECbz2w=s64",
      "userId": "17601732119024015981"
     },
     "user_tz": -60
    },
    "id": "FT4YCogmCFEv",
    "outputId": "5d856e0b-3253-485b-af8c-83cc3bf3f49a"
   },
   "outputs": [
    {
     "name": "stderr",
     "output_type": "stream",
     "text": [
      "[nltk_data] Downloading package stopwords to /home/hrvoje/nltk_data...\n",
      "[nltk_data]   Package stopwords is already up-to-date!\n"
     ]
    }
   ],
   "source": [
    "from nltk.corpus import stopwords\n",
    "import nltk\n",
    "from nltk import word_tokenize\n",
    "nltk.download('stopwords')\n",
    "STOPWORDS = set(stopwords.words('english'))"
   ]
  },
  {
   "cell_type": "markdown",
   "metadata": {
    "id": "CiaDwULQDJkO"
   },
   "source": [
    "### Predprocesiranje"
   ]
  },
  {
   "cell_type": "code",
   "execution_count": 7,
   "metadata": {
    "colab": {
     "base_uri": "https://localhost:8080/"
    },
    "executionInfo": {
     "elapsed": 382,
     "status": "ok",
     "timestamp": 1645299551117,
     "user": {
      "displayName": "Ivan Zidov",
      "photoUrl": "https://lh3.googleusercontent.com/a-/AOh14Gjahm8hyrECD6kPTVfV6aJTjtTwGoMFuzaGECbz2w=s64",
      "userId": "17601732119024015981"
     },
     "user_tz": -60
    },
    "id": "hzUMuhht0Tul",
    "outputId": "fb86f863-4023-4c62-9ae3-31f5a377cb9a"
   },
   "outputs": [
    {
     "name": "stderr",
     "output_type": "stream",
     "text": [
      "/tmp/ipykernel_2527/2466140119.py:22: FutureWarning: The default value of regex will change from True to False in a future version.\n",
      "  df.job_title = df.job_title.str.replace('\\d+', '')\n"
     ]
    }
   ],
   "source": [
    "import re\n",
    "#REPLACE_BY_SPACE_RE = re.compile('[/(){}\\[\\]\\|@,;]')\n",
    "#BAD_SYMBOLS_RE = re.compile('[^0-9a-z #+_]')\n",
    "STOPWORDS = set(stopwords.words('english'))\n",
    "\n",
    "def clean_text(text):\n",
    "    \"\"\"\n",
    "        text: a string\n",
    "        \n",
    "        return: modified initial string\n",
    "    \"\"\"\n",
    "    text = text.lower() # lowercase text\n",
    "    #text = REPLACE_BY_SPACE_RE.sub(' ', text) # replace REPLACE_BY_SPACE_RE symbols by space in text. substitute the matched string in REPLACE_BY_SPACE_RE with space.\n",
    "    #text = BAD_SYMBOLS_RE.sub('', text) # remove symbols which are in BAD_SYMBOLS_RE from text. substitute the matched string in BAD_SYMBOLS_RE with nothing. \n",
    "    #text = text.replace('x', '')\n",
    "    #text = re.sub(r'\\W+', '', text)\n",
    "    text = ' '.join(word for word in text.split() if word not in STOPWORDS) # remove stopwors from text\n",
    "    return text\n",
    "\n",
    "\n",
    "df.job_title = df.job_title.apply(clean_text)\n",
    "df.job_title = df.job_title.str.replace('\\d+', '')\n"
   ]
  },
  {
   "cell_type": "markdown",
   "metadata": {
    "id": "glH0fomrDL39"
   },
   "source": [
    "### Parameters"
   ]
  },
  {
   "cell_type": "code",
   "execution_count": 8,
   "metadata": {},
   "outputs": [],
   "source": [
    "config = wandb.config\n",
    "config.learning_rate = 0.01\n",
    "config.lower_case = True\n",
    "config.optimizer = \"adam\"\n",
    "config.batch_size = 2048\n",
    "config.dropout = 0.2\n",
    "config.lstm = 512\n",
    "config.epochs = 10\n",
    "config.MAX_NB_WORDS = 10000\n",
    "config.MAX_SEQUENCE_LENGTH = 16\n",
    "config.EMBEDDING_DIM = 512"
   ]
  },
  {
   "cell_type": "markdown",
   "metadata": {},
   "source": [
    "### Tokenizacija"
   ]
  },
  {
   "cell_type": "code",
   "execution_count": 9,
   "metadata": {
    "executionInfo": {
     "elapsed": 2509,
     "status": "ok",
     "timestamp": 1645299557447,
     "user": {
      "displayName": "Ivan Zidov",
      "photoUrl": "https://lh3.googleusercontent.com/a-/AOh14Gjahm8hyrECD6kPTVfV6aJTjtTwGoMFuzaGECbz2w=s64",
      "userId": "17601732119024015981"
     },
     "user_tz": -60
    },
    "id": "LMDyyw97DPgG"
   },
   "outputs": [],
   "source": [
    "from tensorflow.keras.preprocessing.text import Tokenizer"
   ]
  },
  {
   "cell_type": "code",
   "execution_count": 10,
   "metadata": {
    "colab": {
     "base_uri": "https://localhost:8080/"
    },
    "executionInfo": {
     "elapsed": 1407,
     "status": "ok",
     "timestamp": 1645299561614,
     "user": {
      "displayName": "Ivan Zidov",
      "photoUrl": "https://lh3.googleusercontent.com/a-/AOh14Gjahm8hyrECD6kPTVfV6aJTjtTwGoMFuzaGECbz2w=s64",
      "userId": "17601732119024015981"
     },
     "user_tz": -60
    },
    "id": "WO6lDp-aB90C",
    "outputId": "ec383d1a-44bd-4265-cb93-6f86bf4ca5ee"
   },
   "outputs": [
    {
     "name": "stdout",
     "output_type": "stream",
     "text": [
      "Found 17893 unique tokens.\n"
     ]
    }
   ],
   "source": [
    "tokenizer = Tokenizer(\n",
    "    num_words=config.MAX_NB_WORDS, \n",
    "    filters='!\"#$%&()*+,-./:;<=>?@[\\]^_`{|}~', \n",
    "    lower=config.lower_case)\n",
    "\n",
    "tokenizer.fit_on_texts(df.job_title.values)\n",
    "word_index = tokenizer.word_index\n",
    "print('Found %s unique tokens.' % len(word_index))"
   ]
  },
  {
   "cell_type": "code",
   "execution_count": 11,
   "metadata": {
    "executionInfo": {
     "elapsed": 900,
     "status": "ok",
     "timestamp": 1645299563839,
     "user": {
      "displayName": "Ivan Zidov",
      "photoUrl": "https://lh3.googleusercontent.com/a-/AOh14Gjahm8hyrECD6kPTVfV6aJTjtTwGoMFuzaGECbz2w=s64",
      "userId": "17601732119024015981"
     },
     "user_tz": -60
    },
    "id": "iGKFYHR6Eaee"
   },
   "outputs": [],
   "source": [
    "X = tokenizer.texts_to_sequences(df.job_title.values)\n"
   ]
  },
  {
   "cell_type": "code",
   "execution_count": 12,
   "metadata": {
    "colab": {
     "base_uri": "https://localhost:8080/",
     "height": 35
    },
    "executionInfo": {
     "elapsed": 289,
     "status": "ok",
     "timestamp": 1645299568191,
     "user": {
      "displayName": "Ivan Zidov",
      "photoUrl": "https://lh3.googleusercontent.com/a-/AOh14Gjahm8hyrECD6kPTVfV6aJTjtTwGoMFuzaGECbz2w=s64",
      "userId": "17601732119024015981"
     },
     "user_tz": -60
    },
    "id": "8sLSO_XkEvfm",
    "outputId": "16228d81-1fcf-4f74-87b9-12475d130637"
   },
   "outputs": [
    {
     "data": {
      "text/plain": [
       "'manual tester'"
      ]
     },
     "execution_count": 12,
     "metadata": {},
     "output_type": "execute_result"
    }
   ],
   "source": [
    "df.job_title[0]"
   ]
  },
  {
   "cell_type": "code",
   "execution_count": 13,
   "metadata": {
    "colab": {
     "base_uri": "https://localhost:8080/"
    },
    "executionInfo": {
     "elapsed": 2,
     "status": "ok",
     "timestamp": 1645299568506,
     "user": {
      "displayName": "Ivan Zidov",
      "photoUrl": "https://lh3.googleusercontent.com/a-/AOh14Gjahm8hyrECD6kPTVfV6aJTjtTwGoMFuzaGECbz2w=s64",
      "userId": "17601732119024015981"
     },
     "user_tz": -60
    },
    "id": "Knd78hF2ErFB",
    "outputId": "787e23ba-10e2-4619-99f8-96c4c06546bc"
   },
   "outputs": [
    {
     "data": {
      "text/plain": [
       "[593, 287]"
      ]
     },
     "execution_count": 13,
     "metadata": {},
     "output_type": "execute_result"
    }
   ],
   "source": [
    "X[0]"
   ]
  },
  {
   "cell_type": "code",
   "execution_count": 14,
   "metadata": {
    "executionInfo": {
     "elapsed": 1,
     "status": "ok",
     "timestamp": 1645299569843,
     "user": {
      "displayName": "Ivan Zidov",
      "photoUrl": "https://lh3.googleusercontent.com/a-/AOh14Gjahm8hyrECD6kPTVfV6aJTjtTwGoMFuzaGECbz2w=s64",
      "userId": "17601732119024015981"
     },
     "user_tz": -60
    },
    "id": "E4awYxbiE9lJ"
   },
   "outputs": [],
   "source": [
    "from tensorflow.keras.preprocessing.sequence import pad_sequences"
   ]
  },
  {
   "cell_type": "code",
   "execution_count": 15,
   "metadata": {
    "colab": {
     "base_uri": "https://localhost:8080/"
    },
    "executionInfo": {
     "elapsed": 669,
     "status": "ok",
     "timestamp": 1645299571534,
     "user": {
      "displayName": "Ivan Zidov",
      "photoUrl": "https://lh3.googleusercontent.com/a-/AOh14Gjahm8hyrECD6kPTVfV6aJTjtTwGoMFuzaGECbz2w=s64",
      "userId": "17601732119024015981"
     },
     "user_tz": -60
    },
    "id": "Hb6ZTGBKE6Bk",
    "outputId": "a1f07ccd-69ba-410a-d1d6-3a0f23683def"
   },
   "outputs": [
    {
     "name": "stdout",
     "output_type": "stream",
     "text": [
      "Shape of data tensor: (100000, 16)\n"
     ]
    }
   ],
   "source": [
    "X = pad_sequences(X, maxlen=config.MAX_SEQUENCE_LENGTH)\n",
    "print('Shape of data tensor:', X.shape)"
   ]
  },
  {
   "cell_type": "code",
   "execution_count": 16,
   "metadata": {
    "colab": {
     "base_uri": "https://localhost:8080/"
    },
    "executionInfo": {
     "elapsed": 279,
     "status": "ok",
     "timestamp": 1645299572958,
     "user": {
      "displayName": "Ivan Zidov",
      "photoUrl": "https://lh3.googleusercontent.com/a-/AOh14Gjahm8hyrECD6kPTVfV6aJTjtTwGoMFuzaGECbz2w=s64",
      "userId": "17601732119024015981"
     },
     "user_tz": -60
    },
    "id": "Qcu39E2wE_MK",
    "outputId": "af14780d-070a-4153-b4d1-68f63089f431"
   },
   "outputs": [
    {
     "name": "stdout",
     "output_type": "stream",
     "text": [
      "Shape of label tensor: (100000, 7)\n"
     ]
    }
   ],
   "source": [
    "Y = pd.get_dummies(df.seniority_level).values\n",
    "print('Shape of label tensor:', Y.shape)\n",
    "NUMBER_OF_CLASSES = Y.shape[1]"
   ]
  },
  {
   "cell_type": "markdown",
   "metadata": {
    "id": "kowdv5wnFq2g"
   },
   "source": [
    "### Gradnja modela"
   ]
  },
  {
   "cell_type": "code",
   "execution_count": 17,
   "metadata": {
    "executionInfo": {
     "elapsed": 276,
     "status": "ok",
     "timestamp": 1645299575444,
     "user": {
      "displayName": "Ivan Zidov",
      "photoUrl": "https://lh3.googleusercontent.com/a-/AOh14Gjahm8hyrECD6kPTVfV6aJTjtTwGoMFuzaGECbz2w=s64",
      "userId": "17601732119024015981"
     },
     "user_tz": -60
    },
    "id": "Z2gtdJelFseY"
   },
   "outputs": [],
   "source": [
    "from tensorflow.keras.models import Sequential\n",
    "from tensorflow.keras.layers import Dense, Embedding, LSTM, SpatialDropout1D\n",
    "from sklearn.model_selection import train_test_split\n",
    "from tensorflow.keras.callbacks import EarlyStopping\n",
    "from tensorflow.keras.layers import Dropout"
   ]
  },
  {
   "cell_type": "code",
   "execution_count": 18,
   "metadata": {
    "colab": {
     "base_uri": "https://localhost:8080/"
    },
    "executionInfo": {
     "elapsed": 2,
     "status": "ok",
     "timestamp": 1645299576474,
     "user": {
      "displayName": "Ivan Zidov",
      "photoUrl": "https://lh3.googleusercontent.com/a-/AOh14Gjahm8hyrECD6kPTVfV6aJTjtTwGoMFuzaGECbz2w=s64",
      "userId": "17601732119024015981"
     },
     "user_tz": -60
    },
    "id": "To0YlXxoGApI",
    "outputId": "c0fee64e-25ac-4480-d9a7-87900fd09bb9"
   },
   "outputs": [
    {
     "data": {
      "text/plain": [
       "(100000, 16)"
      ]
     },
     "execution_count": 18,
     "metadata": {},
     "output_type": "execute_result"
    }
   ],
   "source": [
    "X.shape"
   ]
  },
  {
   "cell_type": "code",
   "execution_count": 19,
   "metadata": {
    "colab": {
     "base_uri": "https://localhost:8080/"
    },
    "executionInfo": {
     "elapsed": 3,
     "status": "ok",
     "timestamp": 1645299577448,
     "user": {
      "displayName": "Ivan Zidov",
      "photoUrl": "https://lh3.googleusercontent.com/a-/AOh14Gjahm8hyrECD6kPTVfV6aJTjtTwGoMFuzaGECbz2w=s64",
      "userId": "17601732119024015981"
     },
     "user_tz": -60
    },
    "id": "1CH7KbdWGP9a",
    "outputId": "0d5eb19d-332d-469d-ea07-18255bee372f"
   },
   "outputs": [
    {
     "data": {
      "text/plain": [
       "(100000, 7)"
      ]
     },
     "execution_count": 19,
     "metadata": {},
     "output_type": "execute_result"
    }
   ],
   "source": [
    "Y.shape"
   ]
  },
  {
   "cell_type": "code",
   "execution_count": 20,
   "metadata": {
    "executionInfo": {
     "elapsed": 3632,
     "status": "ok",
     "timestamp": 1645299581734,
     "user": {
      "displayName": "Ivan Zidov",
      "photoUrl": "https://lh3.googleusercontent.com/a-/AOh14Gjahm8hyrECD6kPTVfV6aJTjtTwGoMFuzaGECbz2w=s64",
      "userId": "17601732119024015981"
     },
     "user_tz": -60
    },
    "id": "2Zzoaj6yFeso"
   },
   "outputs": [
    {
     "name": "stderr",
     "output_type": "stream",
     "text": [
      "2022-02-22 18:45:15.157344: I tensorflow/stream_executor/cuda/cuda_gpu_executor.cc:936] successful NUMA node read from SysFS had negative value (-1), but there must be at least one NUMA node, so returning NUMA node zero\n",
      "2022-02-22 18:45:15.194121: I tensorflow/stream_executor/cuda/cuda_gpu_executor.cc:936] successful NUMA node read from SysFS had negative value (-1), but there must be at least one NUMA node, so returning NUMA node zero\n",
      "2022-02-22 18:45:15.194322: I tensorflow/stream_executor/cuda/cuda_gpu_executor.cc:936] successful NUMA node read from SysFS had negative value (-1), but there must be at least one NUMA node, so returning NUMA node zero\n",
      "2022-02-22 18:45:15.195395: I tensorflow/core/platform/cpu_feature_guard.cc:151] This TensorFlow binary is optimized with oneAPI Deep Neural Network Library (oneDNN) to use the following CPU instructions in performance-critical operations:  AVX2 FMA\n",
      "To enable them in other operations, rebuild TensorFlow with the appropriate compiler flags.\n",
      "2022-02-22 18:45:15.195992: I tensorflow/stream_executor/cuda/cuda_gpu_executor.cc:936] successful NUMA node read from SysFS had negative value (-1), but there must be at least one NUMA node, so returning NUMA node zero\n",
      "2022-02-22 18:45:15.196160: I tensorflow/stream_executor/cuda/cuda_gpu_executor.cc:936] successful NUMA node read from SysFS had negative value (-1), but there must be at least one NUMA node, so returning NUMA node zero\n",
      "2022-02-22 18:45:15.196309: I tensorflow/stream_executor/cuda/cuda_gpu_executor.cc:936] successful NUMA node read from SysFS had negative value (-1), but there must be at least one NUMA node, so returning NUMA node zero\n",
      "2022-02-22 18:45:15.589384: I tensorflow/stream_executor/cuda/cuda_gpu_executor.cc:936] successful NUMA node read from SysFS had negative value (-1), but there must be at least one NUMA node, so returning NUMA node zero\n",
      "2022-02-22 18:45:15.589564: I tensorflow/stream_executor/cuda/cuda_gpu_executor.cc:936] successful NUMA node read from SysFS had negative value (-1), but there must be at least one NUMA node, so returning NUMA node zero\n",
      "2022-02-22 18:45:15.589712: I tensorflow/stream_executor/cuda/cuda_gpu_executor.cc:936] successful NUMA node read from SysFS had negative value (-1), but there must be at least one NUMA node, so returning NUMA node zero\n",
      "2022-02-22 18:45:15.589836: I tensorflow/core/common_runtime/gpu/gpu_device.cc:1525] Created device /job:localhost/replica:0/task:0/device:GPU:0 with 6304 MB memory:  -> device: 0, name: NVIDIA GeForce RTX 2070, pci bus id: 0000:26:00.0, compute capability: 7.5\n"
     ]
    }
   ],
   "source": [
    "model = Sequential()\n",
    "model.add(Embedding(config.MAX_NB_WORDS, config.EMBEDDING_DIM, input_length=config.MAX_SEQUENCE_LENGTH))\n",
    "model.add(LSTM(config.lstm, dropout=config.dropout))\n",
    "model.add(Dense(NUMBER_OF_CLASSES, activation='softmax'))\n",
    "model.compile(loss='categorical_crossentropy', optimizer='adam', metrics=['accuracy'])"
   ]
  },
  {
   "cell_type": "code",
   "execution_count": 21,
   "metadata": {
    "colab": {
     "base_uri": "https://localhost:8080/"
    },
    "executionInfo": {
     "elapsed": 413,
     "status": "ok",
     "timestamp": 1645299582141,
     "user": {
      "displayName": "Ivan Zidov",
      "photoUrl": "https://lh3.googleusercontent.com/a-/AOh14Gjahm8hyrECD6kPTVfV6aJTjtTwGoMFuzaGECbz2w=s64",
      "userId": "17601732119024015981"
     },
     "user_tz": -60
    },
    "id": "w8O-X73-F2kn",
    "outputId": "f8a4f770-dcab-4938-dc30-a450f7e809aa"
   },
   "outputs": [
    {
     "name": "stdout",
     "output_type": "stream",
     "text": [
      "Model: \"sequential\"\n",
      "_________________________________________________________________\n",
      " Layer (type)                Output Shape              Param #   \n",
      "=================================================================\n",
      " embedding (Embedding)       (None, 16, 512)           5120000   \n",
      "                                                                 \n",
      " lstm (LSTM)                 (None, 512)               2099200   \n",
      "                                                                 \n",
      " dense (Dense)               (None, 7)                 3591      \n",
      "                                                                 \n",
      "=================================================================\n",
      "Total params: 7,222,791\n",
      "Trainable params: 7,222,791\n",
      "Non-trainable params: 0\n",
      "_________________________________________________________________\n",
      "None\n"
     ]
    }
   ],
   "source": [
    "print(model.summary())"
   ]
  },
  {
   "cell_type": "code",
   "execution_count": 22,
   "metadata": {
    "colab": {
     "base_uri": "https://localhost:8080/"
    },
    "executionInfo": {
     "elapsed": 16686,
     "status": "ok",
     "timestamp": 1645299600446,
     "user": {
      "displayName": "Ivan Zidov",
      "photoUrl": "https://lh3.googleusercontent.com/a-/AOh14Gjahm8hyrECD6kPTVfV6aJTjtTwGoMFuzaGECbz2w=s64",
      "userId": "17601732119024015981"
     },
     "user_tz": -60
    },
    "id": "QK7xGVOFGhCc",
    "outputId": "7f954796-f3b2-4d54-cb2f-a13600a87942"
   },
   "outputs": [
    {
     "name": "stdout",
     "output_type": "stream",
     "text": [
      "Epoch 1/10\n"
     ]
    },
    {
     "name": "stderr",
     "output_type": "stream",
     "text": [
      "2022-02-22 18:45:17.868140: I tensorflow/stream_executor/cuda/cuda_dnn.cc:368] Loaded cuDNN version 8301\n"
     ]
    },
    {
     "name": "stdout",
     "output_type": "stream",
     "text": [
      " 6/40 [===>..........................] - ETA: 3s - loss: 1.6468 - accuracy: 0.4132WARNING:tensorflow:Callback method `on_train_batch_end` is slow compared to the batch time (batch time: 0.0339s vs `on_train_batch_end` time: 0.0464s). Check your callbacks.\n",
      "40/40 [==============================] - 6s 100ms/step - loss: 1.3579 - accuracy: 0.4961 - val_loss: 1.1186 - val_accuracy: 0.6077\n",
      "Epoch 2/10\n",
      "40/40 [==============================] - 4s 102ms/step - loss: 0.9827 - accuracy: 0.6598 - val_loss: 0.9594 - val_accuracy: 0.6708\n",
      "Epoch 3/10\n",
      "40/40 [==============================] - 4s 102ms/step - loss: 0.8633 - accuracy: 0.7016 - val_loss: 0.9546 - val_accuracy: 0.6791\n",
      "Epoch 4/10\n",
      "40/40 [==============================] - 4s 100ms/step - loss: 0.8088 - accuracy: 0.7203 - val_loss: 0.9208 - val_accuracy: 0.6813\n",
      "Epoch 5/10\n",
      "40/40 [==============================] - 4s 101ms/step - loss: 0.7740 - accuracy: 0.7321 - val_loss: 0.9193 - val_accuracy: 0.6869\n",
      "Epoch 6/10\n",
      "40/40 [==============================] - 4s 88ms/step - loss: 0.7476 - accuracy: 0.7401 - val_loss: 0.9215 - val_accuracy: 0.6834\n",
      "Epoch 7/10\n",
      "40/40 [==============================] - 4s 88ms/step - loss: 0.7276 - accuracy: 0.7458 - val_loss: 0.9657 - val_accuracy: 0.6740\n",
      "Epoch 8/10\n",
      "40/40 [==============================] - 4s 88ms/step - loss: 0.7134 - accuracy: 0.7500 - val_loss: 0.9477 - val_accuracy: 0.6817\n"
     ]
    }
   ],
   "source": [
    "history = model.fit(X, Y, epochs=config.epochs, batch_size=config.batch_size,\n",
    "                    validation_split=0.2, \n",
    "                    callbacks=[WandbCallback(), EarlyStopping(monitor=\"val_loss\", patience=3, restore_best_weights=True)]\n",
    "                   )"
   ]
  },
  {
   "cell_type": "code",
   "execution_count": 23,
   "metadata": {
    "executionInfo": {
     "elapsed": 263,
     "status": "ok",
     "timestamp": 1645299601971,
     "user": {
      "displayName": "Ivan Zidov",
      "photoUrl": "https://lh3.googleusercontent.com/a-/AOh14Gjahm8hyrECD6kPTVfV6aJTjtTwGoMFuzaGECbz2w=s64",
      "userId": "17601732119024015981"
     },
     "user_tz": -60
    },
    "id": "IRopFmHQJDUa"
   },
   "outputs": [],
   "source": [
    "import matplotlib.pyplot as plt"
   ]
  },
  {
   "cell_type": "code",
   "execution_count": 24,
   "metadata": {
    "colab": {
     "base_uri": "https://localhost:8080/",
     "height": 281
    },
    "executionInfo": {
     "elapsed": 562,
     "status": "ok",
     "timestamp": 1645299603318,
     "user": {
      "displayName": "Ivan Zidov",
      "photoUrl": "https://lh3.googleusercontent.com/a-/AOh14Gjahm8hyrECD6kPTVfV6aJTjtTwGoMFuzaGECbz2w=s64",
      "userId": "17601732119024015981"
     },
     "user_tz": -60
    },
    "id": "wsn3OfcXHPLD",
    "outputId": "b641193d-6a5d-4e9a-d8c9-686577cd58d4"
   },
   "outputs": [
    {
     "data": {
      "image/png": "[encoded data removed]",
      "text/plain": [
       "<Figure size 432x288 with 1 Axes>"
      ]
     },
     "metadata": {
      "needs_background": "light"
     },
     "output_type": "display_data"
    }
   ],
   "source": [
    "plt.title('Loss')\n",
    "plt.plot(history.history['loss'], label='train')\n",
    "plt.plot(history.history['val_loss'], label='test')\n",
    "plt.legend()\n",
    "plt.show();"
   ]
  },
  {
   "cell_type": "code",
   "execution_count": 25,
   "metadata": {
    "colab": {
     "base_uri": "https://localhost:8080/",
     "height": 281
    },
    "executionInfo": {
     "elapsed": 605,
     "status": "ok",
     "timestamp": 1645299604933,
     "user": {
      "displayName": "Ivan Zidov",
      "photoUrl": "https://lh3.googleusercontent.com/a-/AOh14Gjahm8hyrECD6kPTVfV6aJTjtTwGoMFuzaGECbz2w=s64",
      "userId": "17601732119024015981"
     },
     "user_tz": -60
    },
    "id": "SFojM9lzI5lN",
    "outputId": "e8be43b3-e3a5-4f9b-e1e4-256480793aa5"
   },
   "outputs": [
    {
     "data": {
      "image/png": "[encoded data removed]",
      "text/plain": [
       "<Figure size 432x288 with 1 Axes>"
      ]
     },
     "metadata": {
      "needs_background": "light"
     },
     "output_type": "display_data"
    }
   ],
   "source": [
    "plt.title('Accuracy')\n",
    "plt.plot(history.history['accuracy'], label='train')\n",
    "plt.plot(history.history['val_accuracy'], label='test')\n",
    "plt.legend()\n",
    "plt.show();"
   ]
  },
  {
   "cell_type": "code",
   "execution_count": null,
   "metadata": {
    "id": "P4xqgdBpJLaT"
   },
   "outputs": [],
   "source": []
  }
 ],
 "metadata": {
  "accelerator": "GPU",
  "colab": {
   "collapsed_sections": [],
   "name": "2. Multiclass.ipynb",
   "provenance": []
  },
  "kernelspec": {
   "display_name": "Python 3 (ipykernel)",
   "language": "python",
   "name": "python3"
  },
  "language_info": {
   "codemirror_mode": {
    "name": "ipython",
    "version": 3
   },
   "file_extension": ".py",
   "mimetype": "text/x-python",
   "name": "python",
   "nbconvert_exporter": "python",
   "pygments_lexer": "ipython3",
   "version": "3.10.0"
  }
 },
 "nbformat": 4,
 "nbformat_minor": 1
}
