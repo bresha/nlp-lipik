{
 "cells": [
  {
   "cell_type": "code",
   "execution_count": 1,
   "metadata": {
    "colab": {
     "base_uri": "https://localhost:8080/"
    },
    "executionInfo": {
     "elapsed": 14017,
     "status": "ok",
     "timestamp": 1645533383766,
     "user": {
      "displayName": "Ivan Zidov",
      "photoUrl": "https://lh3.googleusercontent.com/a-/AOh14Gjahm8hyrECD6kPTVfV6aJTjtTwGoMFuzaGECbz2w=s64",
      "userId": "17601732119024015981"
     },
     "user_tz": -60
    },
    "id": "w582wbcUNcTB",
    "outputId": "1658d426-15e1-4b77-8b84-da7915967c31"
   },
   "outputs": [
    {
     "name": "stdout",
     "output_type": "stream",
     "text": [
      "Collecting wandb\n",
      "  Downloading wandb-0.12.10-py2.py3-none-any.whl (1.7 MB)\n",
      "\u001b[K     |████████████████████████████████| 1.7 MB 5.0 MB/s \n",
      "\u001b[?25hRequirement already satisfied: protobuf>=3.12.0 in /usr/local/lib/python3.7/dist-packages (from wandb) (3.17.3)\n",
      "Collecting docker-pycreds>=0.4.0\n",
      "  Downloading docker_pycreds-0.4.0-py2.py3-none-any.whl (9.0 kB)\n",
      "Requirement already satisfied: promise<3,>=2.0 in /usr/local/lib/python3.7/dist-packages (from wandb) (2.3)\n",
      "Requirement already satisfied: python-dateutil>=2.6.1 in /usr/local/lib/python3.7/dist-packages (from wandb) (2.8.2)\n",
      "Collecting sentry-sdk>=1.0.0\n",
      "  Downloading sentry_sdk-1.5.5-py2.py3-none-any.whl (144 kB)\n",
      "\u001b[K     |████████████████████████████████| 144 kB 68.6 MB/s \n",
      "\u001b[?25hCollecting GitPython>=1.0.0\n",
      "  Downloading GitPython-3.1.27-py3-none-any.whl (181 kB)\n",
      "\u001b[K     |████████████████████████████████| 181 kB 49.7 MB/s \n",
      "\u001b[?25hRequirement already satisfied: psutil>=5.0.0 in /usr/local/lib/python3.7/dist-packages (from wandb) (5.4.8)\n",
      "Collecting shortuuid>=0.5.0\n",
      "  Downloading shortuuid-1.0.8-py3-none-any.whl (9.5 kB)\n",
      "Collecting pathtools\n",
      "  Downloading pathtools-0.1.2.tar.gz (11 kB)\n",
      "Requirement already satisfied: six>=1.13.0 in /usr/local/lib/python3.7/dist-packages (from wandb) (1.15.0)\n",
      "Requirement already satisfied: requests<3,>=2.0.0 in /usr/local/lib/python3.7/dist-packages (from wandb) (2.23.0)\n",
      "Requirement already satisfied: PyYAML in /usr/local/lib/python3.7/dist-packages (from wandb) (3.13)\n",
      "Collecting yaspin>=1.0.0\n",
      "  Downloading yaspin-2.1.0-py3-none-any.whl (18 kB)\n",
      "Requirement already satisfied: Click!=8.0.0,>=7.0 in /usr/local/lib/python3.7/dist-packages (from wandb) (7.1.2)\n",
      "Collecting gitdb<5,>=4.0.1\n",
      "  Downloading gitdb-4.0.9-py3-none-any.whl (63 kB)\n",
      "\u001b[K     |████████████████████████████████| 63 kB 1.3 MB/s \n",
      "\u001b[?25hRequirement already satisfied: typing-extensions>=3.7.4.3 in /usr/local/lib/python3.7/dist-packages (from GitPython>=1.0.0->wandb) (3.10.0.2)\n",
      "Collecting smmap<6,>=3.0.1\n",
      "  Downloading smmap-5.0.0-py3-none-any.whl (24 kB)\n",
      "Requirement already satisfied: idna<3,>=2.5 in /usr/local/lib/python3.7/dist-packages (from requests<3,>=2.0.0->wandb) (2.10)\n",
      "Requirement already satisfied: urllib3!=1.25.0,!=1.25.1,<1.26,>=1.21.1 in /usr/local/lib/python3.7/dist-packages (from requests<3,>=2.0.0->wandb) (1.24.3)\n",
      "Requirement already satisfied: chardet<4,>=3.0.2 in /usr/local/lib/python3.7/dist-packages (from requests<3,>=2.0.0->wandb) (3.0.4)\n",
      "Requirement already satisfied: certifi>=2017.4.17 in /usr/local/lib/python3.7/dist-packages (from requests<3,>=2.0.0->wandb) (2021.10.8)\n",
      "Requirement already satisfied: termcolor<2.0.0,>=1.1.0 in /usr/local/lib/python3.7/dist-packages (from yaspin>=1.0.0->wandb) (1.1.0)\n",
      "Building wheels for collected packages: pathtools\n",
      "  Building wheel for pathtools (setup.py) ... \u001b[?25l\u001b[?25hdone\n",
      "  Created wheel for pathtools: filename=pathtools-0.1.2-py3-none-any.whl size=8806 sha256=53d4ff7740607a99fcc471d0f4614e2cf03e26748a8ebe46a9d1b3bfada697a9\n",
      "  Stored in directory: /root/.cache/pip/wheels/3e/31/09/fa59cef12cdcfecc627b3d24273699f390e71828921b2cbba2\n",
      "Successfully built pathtools\n",
      "Installing collected packages: smmap, gitdb, yaspin, shortuuid, sentry-sdk, pathtools, GitPython, docker-pycreds, wandb\n",
      "Successfully installed GitPython-3.1.27 docker-pycreds-0.4.0 gitdb-4.0.9 pathtools-0.1.2 sentry-sdk-1.5.5 shortuuid-1.0.8 smmap-5.0.0 wandb-0.12.10 yaspin-2.1.0\n"
     ]
    }
   ],
   "source": [
    "!pip install wandb"
   ]
  },
  {
   "cell_type": "code",
   "execution_count": 2,
   "metadata": {
    "colab": {
     "base_uri": "https://localhost:8080/"
    },
    "executionInfo": {
     "elapsed": 9867,
     "status": "ok",
     "timestamp": 1645533393626,
     "user": {
      "displayName": "Ivan Zidov",
      "photoUrl": "https://lh3.googleusercontent.com/a-/AOh14Gjahm8hyrECD6kPTVfV6aJTjtTwGoMFuzaGECbz2w=s64",
      "userId": "17601732119024015981"
     },
     "user_tz": -60
    },
    "id": "2klIfb6YNuDb",
    "outputId": "d5b5f550-28a4-4492-eed3-df4da54726c3"
   },
   "outputs": [
    {
     "name": "stdout",
     "output_type": "stream",
     "text": [
      "\u001b[34m\u001b[1mwandb\u001b[0m: You can find your API key in your browser here: https://wandb.ai/authorize\n",
      "\u001b[34m\u001b[1mwandb\u001b[0m: Paste an API key from your profile and hit enter, or press ctrl+c to quit: \n",
      "\u001b[34m\u001b[1mwandb\u001b[0m: Appending key for api.wandb.ai to your netrc file: /root/.netrc\n"
     ]
    }
   ],
   "source": [
    "!wandb login"
   ]
  },
  {
   "cell_type": "markdown",
   "metadata": {
    "id": "Or9NG-GbhKIv"
   },
   "source": [
    "# Učitavanje datoteka"
   ]
  },
  {
   "cell_type": "code",
   "execution_count": 3,
   "metadata": {
    "executionInfo": {
     "elapsed": 5,
     "status": "ok",
     "timestamp": 1645533393627,
     "user": {
      "displayName": "Ivan Zidov",
      "photoUrl": "https://lh3.googleusercontent.com/a-/AOh14Gjahm8hyrECD6kPTVfV6aJTjtTwGoMFuzaGECbz2w=s64",
      "userId": "17601732119024015981"
     },
     "user_tz": -60
    },
    "id": "NG0MHhtzk4TA"
   },
   "outputs": [],
   "source": [
    "import pandas as pd"
   ]
  },
  {
   "cell_type": "code",
   "execution_count": 4,
   "metadata": {
    "executionInfo": {
     "elapsed": 4,
     "status": "ok",
     "timestamp": 1645533393627,
     "user": {
      "displayName": "Ivan Zidov",
      "photoUrl": "https://lh3.googleusercontent.com/a-/AOh14Gjahm8hyrECD6kPTVfV6aJTjtTwGoMFuzaGECbz2w=s64",
      "userId": "17601732119024015981"
     },
     "user_tz": -60
    },
    "id": "7-Gm5Y5KlB47"
   },
   "outputs": [],
   "source": [
    "download_url = \"https://drive.google.com/uc?id=1qXq6k2rNR_dgG9XA4uMjAeuzUYkGx7HZ\""
   ]
  },
  {
   "cell_type": "code",
   "execution_count": 5,
   "metadata": {
    "colab": {
     "base_uri": "https://localhost:8080/",
     "height": 206
    },
    "executionInfo": {
     "elapsed": 2679,
     "status": "ok",
     "timestamp": 1645533396302,
     "user": {
      "displayName": "Ivan Zidov",
      "photoUrl": "https://lh3.googleusercontent.com/a-/AOh14Gjahm8hyrECD6kPTVfV6aJTjtTwGoMFuzaGECbz2w=s64",
      "userId": "17601732119024015981"
     },
     "user_tz": -60
    },
    "id": "8DzNvMGslPB5",
    "outputId": "a6eaa311-6881-49f7-fc0d-36bc9f0040bc"
   },
   "outputs": [
    {
     "data": {
      "text/html": [
       "\n",
       "  <div id=\"df-0cc9ad39-eaed-45a2-8477-457c84ea2624\">\n",
       "    <div class=\"colab-df-container\">\n",
       "      <div>\n",
       "<style scoped>\n",
       "    .dataframe tbody tr th:only-of-type {\n",
       "        vertical-align: middle;\n",
       "    }\n",
       "\n",
       "    .dataframe tbody tr th {\n",
       "        vertical-align: top;\n",
       "    }\n",
       "\n",
       "    .dataframe thead th {\n",
       "        text-align: right;\n",
       "    }\n",
       "</style>\n",
       "<table border=\"1\" class=\"dataframe\">\n",
       "  <thead>\n",
       "    <tr style=\"text-align: right;\">\n",
       "      <th></th>\n",
       "      <th>job_title</th>\n",
       "      <th>seniority_level</th>\n",
       "      <th>employment_type</th>\n",
       "      <th>industries</th>\n",
       "      <th>job_functions</th>\n",
       "    </tr>\n",
       "  </thead>\n",
       "  <tbody>\n",
       "    <tr>\n",
       "      <th>0</th>\n",
       "      <td>Manual Tester</td>\n",
       "      <td>Entry level</td>\n",
       "      <td>Full-time</td>\n",
       "      <td>[Information Technology and Services]</td>\n",
       "      <td>[Engineering, Information Technology]</td>\n",
       "    </tr>\n",
       "    <tr>\n",
       "      <th>1</th>\n",
       "      <td>Field Marketing Representative</td>\n",
       "      <td>Entry level</td>\n",
       "      <td>Full-time</td>\n",
       "      <td>[Food &amp; Beverages, Wholesale, Retail]</td>\n",
       "      <td>[Marketing, Sales]</td>\n",
       "    </tr>\n",
       "    <tr>\n",
       "      <th>2</th>\n",
       "      <td>Consumer Relations Representative</td>\n",
       "      <td>Associate</td>\n",
       "      <td>Full-time</td>\n",
       "      <td>[Marketing and Advertising, Food &amp; Beverages, ...</td>\n",
       "      <td>[Other]</td>\n",
       "    </tr>\n",
       "    <tr>\n",
       "      <th>3</th>\n",
       "      <td>Software Engineer In Test</td>\n",
       "      <td>Mid-Senior level</td>\n",
       "      <td>Full-time</td>\n",
       "      <td>[Information Technology and Services, Computer...</td>\n",
       "      <td>[Information Technology, Quality Assurance]</td>\n",
       "    </tr>\n",
       "    <tr>\n",
       "      <th>4</th>\n",
       "      <td>Electrician</td>\n",
       "      <td>Entry level</td>\n",
       "      <td>Full-time</td>\n",
       "      <td>[Electrical/Electronic Manufacturing, Construc...</td>\n",
       "      <td>[Management, Manufacturing]</td>\n",
       "    </tr>\n",
       "  </tbody>\n",
       "</table>\n",
       "</div>\n",
       "      <button class=\"colab-df-convert\" onclick=\"convertToInteractive('df-0cc9ad39-eaed-45a2-8477-457c84ea2624')\"\n",
       "              title=\"Convert this dataframe to an interactive table.\"\n",
       "              style=\"display:none;\">\n",
       "        \n",
       "  <svg xmlns=\"http://www.w3.org/2000/svg\" height=\"24px\"viewBox=\"0 0 24 24\"\n",
       "       width=\"24px\">\n",
       "    <path d=\"M0 0h24v24H0V0z\" fill=\"none\"/>\n",
       "    <path d=\"M18.56 5.44l.94 2.06.94-2.06 2.06-.94-2.06-.94-.94-2.06-.94 2.06-2.06.94zm-11 1L8.5 8.5l.94-2.06 2.06-.94-2.06-.94L8.5 2.5l-.94 2.06-2.06.94zm10 10l.94 2.06.94-2.06 2.06-.94-2.06-.94-.94-2.06-.94 2.06-2.06.94z\"/><path d=\"M17.41 7.96l-1.37-1.37c-.4-.4-.92-.59-1.43-.59-.52 0-1.04.2-1.43.59L10.3 9.45l-7.72 7.72c-.78.78-.78 2.05 0 2.83L4 21.41c.39.39.9.59 1.41.59.51 0 1.02-.2 1.41-.59l7.78-7.78 2.81-2.81c.8-.78.8-2.07 0-2.86zM5.41 20L4 18.59l7.72-7.72 1.47 1.35L5.41 20z\"/>\n",
       "  </svg>\n",
       "      </button>\n",
       "      \n",
       "  <style>\n",
       "    .colab-df-container {\n",
       "      display:flex;\n",
       "      flex-wrap:wrap;\n",
       "      gap: 12px;\n",
       "    }\n",
       "\n",
       "    .colab-df-convert {\n",
       "      background-color: #E8F0FE;\n",
       "      border: none;\n",
       "      border-radius: 50%;\n",
       "      cursor: pointer;\n",
       "      display: none;\n",
       "      fill: #1967D2;\n",
       "      height: 32px;\n",
       "      padding: 0 0 0 0;\n",
       "      width: 32px;\n",
       "    }\n",
       "\n",
       "    .colab-df-convert:hover {\n",
       "      background-color: #E2EBFA;\n",
       "      box-shadow: 0px 1px 2px rgba(60, 64, 67, 0.3), 0px 1px 3px 1px rgba(60, 64, 67, 0.15);\n",
       "      fill: #174EA6;\n",
       "    }\n",
       "\n",
       "    [theme=dark] .colab-df-convert {\n",
       "      background-color: #3B4455;\n",
       "      fill: #D2E3FC;\n",
       "    }\n",
       "\n",
       "    [theme=dark] .colab-df-convert:hover {\n",
       "      background-color: #434B5C;\n",
       "      box-shadow: 0px 1px 3px 1px rgba(0, 0, 0, 0.15);\n",
       "      filter: drop-shadow(0px 1px 2px rgba(0, 0, 0, 0.3));\n",
       "      fill: #FFFFFF;\n",
       "    }\n",
       "  </style>\n",
       "\n",
       "      <script>\n",
       "        const buttonEl =\n",
       "          document.querySelector('#df-0cc9ad39-eaed-45a2-8477-457c84ea2624 button.colab-df-convert');\n",
       "        buttonEl.style.display =\n",
       "          google.colab.kernel.accessAllowed ? 'block' : 'none';\n",
       "\n",
       "        async function convertToInteractive(key) {\n",
       "          const element = document.querySelector('#df-0cc9ad39-eaed-45a2-8477-457c84ea2624');\n",
       "          const dataTable =\n",
       "            await google.colab.kernel.invokeFunction('convertToInteractive',\n",
       "                                                     [key], {});\n",
       "          if (!dataTable) return;\n",
       "\n",
       "          const docLinkHtml = 'Like what you see? Visit the ' +\n",
       "            '<a target=\"_blank\" href=https://colab.research.google.com/notebooks/data_table.ipynb>data table notebook</a>'\n",
       "            + ' to learn more about interactive tables.';\n",
       "          element.innerHTML = '';\n",
       "          dataTable['output_type'] = 'display_data';\n",
       "          await google.colab.output.renderOutput(dataTable, element);\n",
       "          const docLink = document.createElement('div');\n",
       "          docLink.innerHTML = docLinkHtml;\n",
       "          element.appendChild(docLink);\n",
       "        }\n",
       "      </script>\n",
       "    </div>\n",
       "  </div>\n",
       "  "
      ],
      "text/plain": [
       "                           job_title  ...                                job_functions\n",
       "0                      Manual Tester  ...        [Engineering, Information Technology]\n",
       "1     Field Marketing Representative  ...                           [Marketing, Sales]\n",
       "2  Consumer Relations Representative  ...                                      [Other]\n",
       "3          Software Engineer In Test  ...  [Information Technology, Quality Assurance]\n",
       "4                        Electrician  ...                  [Management, Manufacturing]\n",
       "\n",
       "[5 rows x 5 columns]"
      ]
     },
     "execution_count": 5,
     "metadata": {},
     "output_type": "execute_result"
    }
   ],
   "source": [
    "train = pd.read_csv(download_url)\n",
    "train.job_functions = train.job_functions.apply(eval)\n",
    "train.industries = train.industries.apply(eval)\n",
    "\n",
    "train.head()"
   ]
  },
  {
   "cell_type": "markdown",
   "metadata": {
    "id": "PT-Yc4Ja6_UP"
   },
   "source": [
    "https://github.com/susanli2016/NLP-with-Python/blob/master/Multi-Class%20Text%20Classification%20LSTM%20Consumer%20complaints.ipynb"
   ]
  },
  {
   "cell_type": "code",
   "execution_count": 6,
   "metadata": {
    "colab": {
     "base_uri": "https://localhost:8080/"
    },
    "executionInfo": {
     "elapsed": 6550,
     "status": "ok",
     "timestamp": 1645533406149,
     "user": {
      "displayName": "Ivan Zidov",
      "photoUrl": "https://lh3.googleusercontent.com/a-/AOh14Gjahm8hyrECD6kPTVfV6aJTjtTwGoMFuzaGECbz2w=s64",
      "userId": "17601732119024015981"
     },
     "user_tz": -60
    },
    "id": "SfUvH2vJj5j2",
    "outputId": "2d410cda-57bb-45c0-949e-5bd8956c5d19"
   },
   "outputs": [
    {
     "name": "stdout",
     "output_type": "stream",
     "text": [
      "[nltk_data] Downloading package stopwords to /root/nltk_data...\n",
      "[nltk_data]   Unzipping corpora/stopwords.zip.\n"
     ]
    }
   ],
   "source": [
    "import nltk\n",
    "nltk.download('stopwords')\n",
    "from nltk.corpus import stopwords\n",
    "import re\n",
    "\n",
    "from tensorflow.keras.preprocessing.text import Tokenizer\n",
    "import numpy as np\n",
    "from tensorflow.keras.preprocessing.text import Tokenizer\n",
    "from tensorflow.keras.preprocessing.sequence import pad_sequences\n",
    "from tensorflow.keras.models import Sequential\n",
    "from tensorflow.keras.layers import Dense, Embedding, LSTM, SpatialDropout1D, GRU\n",
    "from sklearn.model_selection import train_test_split\n",
    "from tensorflow.keras.utils import to_categorical\n",
    "from tensorflow.keras.callbacks import EarlyStopping\n",
    "from tensorflow.keras.layers import Dropout"
   ]
  },
  {
   "cell_type": "code",
   "execution_count": 20,
   "metadata": {
    "colab": {
     "base_uri": "https://localhost:8080/",
     "height": 176,
     "referenced_widgets": [
      "e71d04c922d444969b6e38487ae0fda4",
      "6fceebda0a5e493baae532f0b1b125c2",
      "411db19853c54adfa8e2f3fb94dd4175",
      "afaadd6cc8494bd0a089cc15cfa7eb2b",
      "fa5ab8559c3b456ebf8704f1a5e649bd",
      "baf3406fe8514cea8896a44352a3b839",
      "e7d03b022a604f3a9d1ac634ef14e979",
      "783d4a76fd5449f9a1b2da5f61eaf6f7"
     ]
    },
    "executionInfo": {
     "elapsed": 7700,
     "status": "ok",
     "timestamp": 1645533798650,
     "user": {
      "displayName": "Ivan Zidov",
      "photoUrl": "https://lh3.googleusercontent.com/a-/AOh14Gjahm8hyrECD6kPTVfV6aJTjtTwGoMFuzaGECbz2w=s64",
      "userId": "17601732119024015981"
     },
     "user_tz": -60
    },
    "id": "W7gWlN-2N3_n",
    "outputId": "97ee6e19-3742-4290-fd75-5feb64f773f5"
   },
   "outputs": [
    {
     "data": {
      "text/html": [
       "Finishing last run (ID:6qqxt0w8) before initializing another..."
      ],
      "text/plain": [
       "<IPython.core.display.HTML object>"
      ]
     },
     "metadata": {},
     "output_type": "display_data"
    },
    {
     "data": {
      "text/html": [
       "<br/>Waiting for W&B process to finish, PID 200... <strong style=\"color:green\">(success).</strong>"
      ],
      "text/plain": [
       "<IPython.core.display.HTML object>"
      ]
     },
     "metadata": {},
     "output_type": "display_data"
    },
    {
     "data": {
      "application/vnd.jupyter.widget-view+json": {
       "model_id": "e71d04c922d444969b6e38487ae0fda4",
       "version_major": 2,
       "version_minor": 0
      },
      "text/plain": [
       "VBox(children=(Label(value=' 0.00MB of 0.00MB uploaded (0.00MB deduped)\\r'), FloatProgress(value=1.0, max=1.0)…"
      ]
     },
     "metadata": {},
     "output_type": "display_data"
    },
    {
     "data": {
      "text/html": [
       "<style>\n",
       "    table.wandb td:nth-child(1) { padding: 0 10px; text-align: right }\n",
       "    .wandb-row { display: flex; flex-direction: row; flex-wrap: wrap; width: 100% }\n",
       "    .wandb-col { display: flex; flex-direction: column; flex-basis: 100%; flex: 1; padding: 10px; }\n",
       "    </style>\n",
       "<div class=\"wandb-row\"><div class=\"wandb-col\">\n",
       "</div><div class=\"wandb-col\">\n",
       "</div></div>\n",
       "Synced 5 W&B file(s), 0 media file(s), 0 artifact file(s) and 0 other file(s)\n",
       "<br/>Synced <strong style=\"color:#cdcd00\">tough-deluge-7</strong>: <a href=\"https://wandb.ai/ivanzidov/lipik/runs/6qqxt0w8\" target=\"_blank\">https://wandb.ai/ivanzidov/lipik/runs/6qqxt0w8</a><br/>\n",
       "Find logs at: <code>./wandb/run-20220222_123646-6qqxt0w8/logs</code><br/>\n"
      ],
      "text/plain": [
       "<IPython.core.display.HTML object>"
      ]
     },
     "metadata": {},
     "output_type": "display_data"
    },
    {
     "data": {
      "text/html": [
       "Successfully finished last run (ID:6qqxt0w8). Initializing new run:<br/>"
      ],
      "text/plain": [
       "<IPython.core.display.HTML object>"
      ]
     },
     "metadata": {},
     "output_type": "display_data"
    },
    {
     "data": {
      "text/html": [
       "\n",
       "                    Syncing run <strong><a href=\"https://wandb.ai/ivanzidov/lipik/runs/2jxzrzgi\" target=\"_blank\">radiant-bee-8</a></strong> to <a href=\"https://wandb.ai/ivanzidov/lipik\" target=\"_blank\">Weights & Biases</a> (<a href=\"https://docs.wandb.com/integrations/jupyter.html\" target=\"_blank\">docs</a>).<br/>\n",
       "\n",
       "                "
      ],
      "text/plain": [
       "<IPython.core.display.HTML object>"
      ]
     },
     "metadata": {},
     "output_type": "display_data"
    }
   ],
   "source": [
    "import wandb\n",
    "from wandb.keras import WandbCallback\n",
    "\n",
    "# 1. Start a new run\n",
    "wandb.init(project='lipik', entity='ivanzidov')\n",
    "\n",
    "# 2. Save model inputs and hyperparameters\n",
    "config = wandb.config\n",
    "config.learning_rate = 0.01\n",
    "config.lower_case = False\n",
    "config.optimizer = \"adam\"\n",
    "config.batch_size = 2048\n",
    "config.dropout = 0.5\n",
    "config.r_dropout = 0.5\n",
    "config.lstm = 256\n",
    "config.MAX_NB_WORDS = 20000\n",
    "config.MAX_SEQUENCE_LENGTH = 16\n",
    "config.EMBEDDING_DIM = 512\n",
    "config.rnn_dim = 256\n",
    "config.rnn_type = \"gru\"\n"
   ]
  },
  {
   "cell_type": "code",
   "execution_count": 21,
   "metadata": {
    "executionInfo": {
     "elapsed": 363,
     "status": "ok",
     "timestamp": 1645533799008,
     "user": {
      "displayName": "Ivan Zidov",
      "photoUrl": "https://lh3.googleusercontent.com/a-/AOh14Gjahm8hyrECD6kPTVfV6aJTjtTwGoMFuzaGECbz2w=s64",
      "userId": "17601732119024015981"
     },
     "user_tz": -60
    },
    "id": "s_qhOvzRi3IP"
   },
   "outputs": [],
   "source": [
    "REPLACE_BY_SPACE_RE = re.compile('[/(){}\\[\\]\\|@,;]')\n",
    "BAD_SYMBOLS_RE = re.compile('[^0-9a-z #+_]')\n",
    "STOPWORDS = set(stopwords.words('english'))\n",
    "\n",
    "def clean_text(text):\n",
    "\n",
    "    if config.lower_case:\n",
    "        text = text.lower() # lowercase text\n",
    "    text = REPLACE_BY_SPACE_RE.sub(' ', text) # replace REPLACE_BY_SPACE_RE symbols by space in text. substitute the matched string in REPLACE_BY_SPACE_RE with space.\n",
    "    #text = BAD_SYMBOLS_RE.sub('', text) # remove symbols which are in BAD_SYMBOLS_RE from text. substitute the matched string in BAD_SYMBOLS_RE with nothing. \n",
    "    #text = text.replace('x', '')\n",
    "    #text = re.sub(r'\\W+', '', text)\n",
    "    text = ' '.join(word for word in text.split() if word not in STOPWORDS) # remove stopwors from text\n",
    "    return text\n",
    "\n",
    "train.job_title = train.job_title.apply(clean_text)"
   ]
  },
  {
   "cell_type": "code",
   "execution_count": 22,
   "metadata": {
    "colab": {
     "base_uri": "https://localhost:8080/"
    },
    "executionInfo": {
     "elapsed": 4,
     "status": "ok",
     "timestamp": 1645533799008,
     "user": {
      "displayName": "Ivan Zidov",
      "photoUrl": "https://lh3.googleusercontent.com/a-/AOh14Gjahm8hyrECD6kPTVfV6aJTjtTwGoMFuzaGECbz2w=s64",
      "userId": "17601732119024015981"
     },
     "user_tz": -60
    },
    "id": "EGjvVduzjza0",
    "outputId": "e17e7f9e-fc3e-483c-9499-27adb7f158aa"
   },
   "outputs": [
    {
     "data": {
      "text/plain": [
       "0                              Manual Tester\n",
       "1             Field Marketing Representative\n",
       "2          Consumer Relations Representative\n",
       "3                  Software Engineer In Test\n",
       "4                                Electrician\n",
       "                        ...                 \n",
       "99995                    Roof Loader Striker\n",
       "99996       Quality Assurance Representative\n",
       "99997         Paratransit shuttle Bus Driver\n",
       "99998    Apprenticeship trained Patternmaker\n",
       "99999                      Bridge Inspectors\n",
       "Name: job_title, Length: 100000, dtype: object"
      ]
     },
     "execution_count": 22,
     "metadata": {},
     "output_type": "execute_result"
    }
   ],
   "source": [
    "train.job_title"
   ]
  },
  {
   "cell_type": "code",
   "execution_count": 23,
   "metadata": {
    "executionInfo": {
     "elapsed": 3,
     "status": "ok",
     "timestamp": 1645533799008,
     "user": {
      "displayName": "Ivan Zidov",
      "photoUrl": "https://lh3.googleusercontent.com/a-/AOh14Gjahm8hyrECD6kPTVfV6aJTjtTwGoMFuzaGECbz2w=s64",
      "userId": "17601732119024015981"
     },
     "user_tz": -60
    },
    "id": "zeZz3iPSkKv6"
   },
   "outputs": [],
   "source": [
    "#train.job_title.apply(lambda x: x.split(\" \"))"
   ]
  },
  {
   "cell_type": "code",
   "execution_count": 23,
   "metadata": {
    "executionInfo": {
     "elapsed": 4,
     "status": "ok",
     "timestamp": 1645533799009,
     "user": {
      "displayName": "Ivan Zidov",
      "photoUrl": "https://lh3.googleusercontent.com/a-/AOh14Gjahm8hyrECD6kPTVfV6aJTjtTwGoMFuzaGECbz2w=s64",
      "userId": "17601732119024015981"
     },
     "user_tz": -60
    },
    "id": "ibnMVDM4kh_Q"
   },
   "outputs": [],
   "source": []
  },
  {
   "cell_type": "code",
   "execution_count": 24,
   "metadata": {
    "colab": {
     "base_uri": "https://localhost:8080/"
    },
    "executionInfo": {
     "elapsed": 534,
     "status": "ok",
     "timestamp": 1645533799540,
     "user": {
      "displayName": "Ivan Zidov",
      "photoUrl": "https://lh3.googleusercontent.com/a-/AOh14Gjahm8hyrECD6kPTVfV6aJTjtTwGoMFuzaGECbz2w=s64",
      "userId": "17601732119024015981"
     },
     "user_tz": -60
    },
    "id": "rVu-DYaCkJuj",
    "outputId": "b5bb59da-db80-45b0-9b36-6c2eb42fb9c4"
   },
   "outputs": [
    {
     "name": "stdout",
     "output_type": "stream",
     "text": [
      "Found 30405 unique tokens.\n"
     ]
    }
   ],
   "source": [
    "# The maximum number of words to be used. (most frequent)\n",
    "MAX_NB_WORDS = config.MAX_NB_WORDS\n",
    "# Max number of words in each complaint.\n",
    "MAX_SEQUENCE_LENGTH = config.MAX_SEQUENCE_LENGTH\n",
    "# This is fixed.\n",
    "EMBEDDING_DIM = config.EMBEDDING_DIM\n",
    "\n",
    "\n",
    "tokenizer = Tokenizer(num_words=MAX_NB_WORDS, filters='', lower=config.lower_case)\n",
    "tokenizer.fit_on_texts(train.job_title.values)\n",
    "word_index = tokenizer.word_index\n",
    "print('Found %s unique tokens.' % len(word_index))"
   ]
  },
  {
   "cell_type": "code",
   "execution_count": 25,
   "metadata": {
    "colab": {
     "base_uri": "https://localhost:8080/"
    },
    "executionInfo": {
     "elapsed": 5,
     "status": "ok",
     "timestamp": 1645533799541,
     "user": {
      "displayName": "Ivan Zidov",
      "photoUrl": "https://lh3.googleusercontent.com/a-/AOh14Gjahm8hyrECD6kPTVfV6aJTjtTwGoMFuzaGECbz2w=s64",
      "userId": "17601732119024015981"
     },
     "user_tz": -60
    },
    "id": "ZgA2LM9PlVSx",
    "outputId": "3abf2b3d-57b5-4922-95f5-7922d948ef2e"
   },
   "outputs": [
    {
     "data": {
      "text/plain": [
       "0.9716223661028414"
      ]
     },
     "execution_count": 25,
     "metadata": {},
     "output_type": "execute_result"
    }
   ],
   "source": [
    "broj_ponavljanja_rijeci = list(tokenizer.word_counts.values())\n",
    "sum(pd.Series(broj_ponavljanja_rijeci).sort_values(ascending=False)[:20000])/sum(broj_ponavljanja_rijeci)"
   ]
  },
  {
   "cell_type": "code",
   "execution_count": 26,
   "metadata": {
    "colab": {
     "base_uri": "https://localhost:8080/"
    },
    "executionInfo": {
     "elapsed": 650,
     "status": "ok",
     "timestamp": 1645533800188,
     "user": {
      "displayName": "Ivan Zidov",
      "photoUrl": "https://lh3.googleusercontent.com/a-/AOh14Gjahm8hyrECD6kPTVfV6aJTjtTwGoMFuzaGECbz2w=s64",
      "userId": "17601732119024015981"
     },
     "user_tz": -60
    },
    "id": "IRfgMaB4mQDL",
    "outputId": "df4b9234-7e64-463c-ee78-4cb6b319e5fa"
   },
   "outputs": [
    {
     "name": "stdout",
     "output_type": "stream",
     "text": [
      "Shape of data tensor: (100000, 16)\n"
     ]
    }
   ],
   "source": [
    "X = tokenizer.texts_to_sequences(train.job_title.values)\n",
    "X = pad_sequences(X, maxlen=MAX_SEQUENCE_LENGTH)\n",
    "print('Shape of data tensor:', X.shape)"
   ]
  },
  {
   "cell_type": "code",
   "execution_count": 38,
   "metadata": {
    "colab": {
     "base_uri": "https://localhost:8080/"
    },
    "executionInfo": {
     "elapsed": 251,
     "status": "ok",
     "timestamp": 1645534795917,
     "user": {
      "displayName": "Ivan Zidov",
      "photoUrl": "https://lh3.googleusercontent.com/a-/AOh14Gjahm8hyrECD6kPTVfV6aJTjtTwGoMFuzaGECbz2w=s64",
      "userId": "17601732119024015981"
     },
     "user_tz": -60
    },
    "id": "DAvuUkpMkdKu",
    "outputId": "63d2c087-ba77-48b2-e30c-30647b40bad6"
   },
   "outputs": [
    {
     "name": "stdout",
     "output_type": "stream",
     "text": [
      "Shape of label tensor: (100000, 7)\n",
      "Shape of label tensor: (100000, 7)\n"
     ]
    }
   ],
   "source": [
    "Y_sen = pd.get_dummies(train.seniority_level).values\n",
    "Y_emp = pd.get_dummies(train.employment_type).values\n",
    "\n",
    "print('Shape of label tensor:', Y_sen.shape)\n",
    "print('Shape of label tensor:', Y_emp.shape)"
   ]
  },
  {
   "cell_type": "code",
   "execution_count": 39,
   "metadata": {
    "colab": {
     "base_uri": "https://localhost:8080/"
    },
    "executionInfo": {
     "elapsed": 231,
     "status": "ok",
     "timestamp": 1645534903885,
     "user": {
      "displayName": "Ivan Zidov",
      "photoUrl": "https://lh3.googleusercontent.com/a-/AOh14Gjahm8hyrECD6kPTVfV6aJTjtTwGoMFuzaGECbz2w=s64",
      "userId": "17601732119024015981"
     },
     "user_tz": -60
    },
    "id": "56usVI2-nwas",
    "outputId": "66ee10a3-bc50-4bda-8018-3139fb8e8f21"
   },
   "outputs": [
    {
     "name": "stdout",
     "output_type": "stream",
     "text": [
      "(80000, 16) (80000, 7)\n",
      "(20000, 16) (20000, 7)\n",
      "(80000, 16) (80000, 7)\n",
      "(20000, 16) (20000, 7)\n"
     ]
    }
   ],
   "source": [
    "X_train, X_test, Y_sen_train, Y_sen_test, Y_emp_train, Y_emp_test = train_test_split(X,Y_sen,Y_emp, test_size = 0.20, random_state = 42)\n",
    "print(X_train.shape,Y_sen_train.shape)\n",
    "print(X_test.shape,Y_sen_test.shape)\n",
    "print(X_train.shape,Y_emp_train.shape)\n",
    "print(X_test.shape,Y_emp_test.shape)"
   ]
  },
  {
   "cell_type": "code",
   "execution_count": 40,
   "metadata": {
    "colab": {
     "base_uri": "https://localhost:8080/"
    },
    "executionInfo": {
     "elapsed": 233,
     "status": "ok",
     "timestamp": 1645535032843,
     "user": {
      "displayName": "Ivan Zidov",
      "photoUrl": "https://lh3.googleusercontent.com/a-/AOh14Gjahm8hyrECD6kPTVfV6aJTjtTwGoMFuzaGECbz2w=s64",
      "userId": "17601732119024015981"
     },
     "user_tz": -60
    },
    "id": "15X4UPjsMriA",
    "outputId": "0b27621d-b238-423b-9a71-d27c73f84df6"
   },
   "outputs": [
    {
     "name": "stdout",
     "output_type": "stream",
     "text": [
      "(64000, 16) (64000, 7)\n",
      "(20000, 16) (16000, 7)\n",
      "(64000, 16) (64000, 7)\n",
      "(20000, 16) (16000, 7)\n"
     ]
    }
   ],
   "source": [
    "X_train, X_val, Y_sen_train, Y_sen_val, Y_emp_train, Y_emp_val = train_test_split(X_train,Y_sen_train,Y_emp_train, test_size = 0.20, random_state = 30)\n",
    "print(X_train.shape,Y_sen_train.shape)\n",
    "print(X_test.shape,Y_sen_val.shape)\n",
    "print(X_train.shape,Y_emp_train.shape)\n",
    "print(X_test.shape,Y_emp_val.shape)"
   ]
  },
  {
   "cell_type": "code",
   "execution_count": 42,
   "metadata": {
    "executionInfo": {
     "elapsed": 247,
     "status": "ok",
     "timestamp": 1645535826929,
     "user": {
      "displayName": "Ivan Zidov",
      "photoUrl": "https://lh3.googleusercontent.com/a-/AOh14Gjahm8hyrECD6kPTVfV6aJTjtTwGoMFuzaGECbz2w=s64",
      "userId": "17601732119024015981"
     },
     "user_tz": -60
    },
    "id": "TY-5__IF-2Hq"
   },
   "outputs": [],
   "source": [
    "from tensorflow.keras.layers import *\n",
    "from tensorflow.keras import Model,Input"
   ]
  },
  {
   "cell_type": "code",
   "execution_count": 61,
   "metadata": {
    "colab": {
     "base_uri": "https://localhost:8080/"
    },
    "executionInfo": {
     "elapsed": 28870,
     "status": "ok",
     "timestamp": 1645536769573,
     "user": {
      "displayName": "Ivan Zidov",
      "photoUrl": "https://lh3.googleusercontent.com/a-/AOh14Gjahm8hyrECD6kPTVfV6aJTjtTwGoMFuzaGECbz2w=s64",
      "userId": "17601732119024015981"
     },
     "user_tz": -60
    },
    "id": "DwD2h0PXnzvk",
    "outputId": "5e6ab773-a623-49a9-c984-983704c3723d"
   },
   "outputs": [
    {
     "name": "stdout",
     "output_type": "stream",
     "text": [
      "Model: \"model_4\"\n",
      "__________________________________________________________________________________________________\n",
      " Layer (type)                   Output Shape         Param #     Connected to                     \n",
      "==================================================================================================\n",
      " job_title (InputLayer)         [(None, 16)]         0           []                               \n",
      "                                                                                                  \n",
      " embedding_8 (Embedding)        (None, 16, 512)      10240000    ['job_title[0][0]']              \n",
      "                                                                                                  \n",
      " lstm_12 (LSTM)                 (None, 16, 64)       147712      ['embedding_8[0][0]']            \n",
      "                                                                                                  \n",
      " lstm_13 (LSTM)                 (None, 16, 64)       33024       ['lstm_12[0][0]']                \n",
      "                                                                                                  \n",
      " lstm_14 (LSTM)                 (None, 64)           33024       ['lstm_13[0][0]']                \n",
      "                                                                                                  \n",
      " dense_7 (Dense)                (None, 64)           4160        ['lstm_14[0][0]']                \n",
      "                                                                                                  \n",
      " dense_10 (Dense)               (None, 32)           2080        ['dense_7[0][0]']                \n",
      "                                                                                                  \n",
      " emp (Dense)                    (None, 7)            455         ['dense_7[0][0]']                \n",
      "                                                                                                  \n",
      " sen (Dense)                    (None, 7)            231         ['dense_10[0][0]']               \n",
      "                                                                                                  \n",
      "==================================================================================================\n",
      "Total params: 10,460,686\n",
      "Trainable params: 10,460,686\n",
      "Non-trainable params: 0\n",
      "__________________________________________________________________________________________________\n",
      "Model: \"model_4\"\n",
      "__________________________________________________________________________________________________\n",
      " Layer (type)                   Output Shape         Param #     Connected to                     \n",
      "==================================================================================================\n",
      " job_title (InputLayer)         [(None, 16)]         0           []                               \n",
      "                                                                                                  \n",
      " embedding_8 (Embedding)        (None, 16, 512)      10240000    ['job_title[0][0]']              \n",
      "                                                                                                  \n",
      " lstm_12 (LSTM)                 (None, 16, 64)       147712      ['embedding_8[0][0]']            \n",
      "                                                                                                  \n",
      " lstm_13 (LSTM)                 (None, 16, 64)       33024       ['lstm_12[0][0]']                \n",
      "                                                                                                  \n",
      " lstm_14 (LSTM)                 (None, 64)           33024       ['lstm_13[0][0]']                \n",
      "                                                                                                  \n",
      " dense_7 (Dense)                (None, 64)           4160        ['lstm_14[0][0]']                \n",
      "                                                                                                  \n",
      " dense_10 (Dense)               (None, 32)           2080        ['dense_7[0][0]']                \n",
      "                                                                                                  \n",
      " emp (Dense)                    (None, 7)            455         ['dense_7[0][0]']                \n",
      "                                                                                                  \n",
      " sen (Dense)                    (None, 7)            231         ['dense_10[0][0]']               \n",
      "                                                                                                  \n",
      "==================================================================================================\n",
      "Total params: 10,460,686\n",
      "Trainable params: 10,460,686\n",
      "Non-trainable params: 0\n",
      "__________________________________________________________________________________________________\n",
      "None\n"
     ]
    }
   ],
   "source": [
    "input = Input(shape = MAX_SEQUENCE_LENGTH,name=\"job_title\")\n",
    "\n",
    "x = Embedding(MAX_NB_WORDS, EMBEDDING_DIM, input_length=MAX_SEQUENCE_LENGTH) (input)\n",
    "x = LSTM(64, dropout=config.dropout,return_sequences=True) (x)\n",
    "x = LSTM(64, dropout=config.dropout,return_sequences=True) (x)\n",
    "x = LSTM(64, dropout=config.dropout) (x)\n",
    "\n",
    "z = Dense(64, activation='relu')(x)\n",
    "out = Dense(7, activation='softmax',name=\"emp\")(z)\n",
    "\n",
    "out2 = Dense(64, activation='relu')(x)\n",
    "out2 = Dense(32, activation='relu')(out2)\n",
    "out2 = Dense(7, activation='softmax',name=\"sen\")(out2)\n",
    "#model.compile(loss='categorical_crossentropy', optimizer=\"nadam\", metrics=['accuracy'])\n",
    "model = Model(inputs = input,\n",
    "     outputs = [out,out2])\n",
    "model.summary()\n",
    "print(model.summary())"
   ]
  },
  {
   "cell_type": "code",
   "execution_count": 62,
   "metadata": {
    "colab": {
     "base_uri": "https://localhost:8080/",
     "height": 758
    },
    "executionInfo": {
     "elapsed": 298,
     "status": "ok",
     "timestamp": 1645536774472,
     "user": {
      "displayName": "Ivan Zidov",
      "photoUrl": "https://lh3.googleusercontent.com/a-/AOh14Gjahm8hyrECD6kPTVfV6aJTjtTwGoMFuzaGECbz2w=s64",
      "userId": "17601732119024015981"
     },
     "user_tz": -60
    },
    "id": "YgEQ4KSpn-EY",
    "outputId": "1b347fdc-3e13-4836-a254-86bfee233644"
   },
   "outputs": [
    {
     "data": {
      "image/png": "[encoded data removed]",
      "text/plain": [
       "<IPython.core.display.Image object>"
      ]
     },
     "execution_count": 62,
     "metadata": {},
     "output_type": "execute_result"
    }
   ],
   "source": [
    "tf.keras.utils.plot_model(model)"
   ]
  },
  {
   "cell_type": "code",
   "execution_count": 59,
   "metadata": {
    "executionInfo": {
     "elapsed": 264,
     "status": "ok",
     "timestamp": 1645536681214,
     "user": {
      "displayName": "Ivan Zidov",
      "photoUrl": "https://lh3.googleusercontent.com/a-/AOh14Gjahm8hyrECD6kPTVfV6aJTjtTwGoMFuzaGECbz2w=s64",
      "userId": "17601732119024015981"
     },
     "user_tz": -60
    },
    "id": "sEoabdnKlTni"
   },
   "outputs": [],
   "source": [
    "model.compile(loss=['categorical_crossentropy','categorical_crossentropy'], optimizer=\"adam\", metrics=['accuracy'])"
   ]
  },
  {
   "cell_type": "code",
   "execution_count": 60,
   "metadata": {
    "colab": {
     "base_uri": "https://localhost:8080/"
    },
    "executionInfo": {
     "elapsed": 29409,
     "status": "ok",
     "timestamp": 1645536711572,
     "user": {
      "displayName": "Ivan Zidov",
      "photoUrl": "https://lh3.googleusercontent.com/a-/AOh14Gjahm8hyrECD6kPTVfV6aJTjtTwGoMFuzaGECbz2w=s64",
      "userId": "17601732119024015981"
     },
     "user_tz": -60
    },
    "id": "Aei53s_Gn8XE",
    "outputId": "f403961f-c9c3-48d9-b786-c6f68a0aa915"
   },
   "outputs": [
    {
     "name": "stdout",
     "output_type": "stream",
     "text": [
      "Epoch 1/50\n",
      "63/63 [==============================] - 8s 45ms/step - loss: 2.3099 - emp_loss: 0.7645 - sen_loss: 1.5454 - emp_accuracy: 0.8544 - sen_accuracy: 0.4410 - val_loss: 2.0043 - val_emp_loss: 0.5721 - val_sen_loss: 1.4322 - val_emp_accuracy: 0.8661 - val_sen_accuracy: 0.4663\n",
      "Epoch 2/50\n",
      "63/63 [==============================] - 1s 24ms/step - loss: 1.9910 - emp_loss: 0.5576 - sen_loss: 1.4334 - emp_accuracy: 0.8704 - sen_accuracy: 0.4698 - val_loss: 2.0059 - val_emp_loss: 0.5728 - val_sen_loss: 1.4332 - val_emp_accuracy: 0.8661 - val_sen_accuracy: 0.4663\n",
      "Epoch 3/50\n",
      "63/63 [==============================] - 2s 24ms/step - loss: 1.9705 - emp_loss: 0.5559 - sen_loss: 1.4146 - emp_accuracy: 0.8704 - sen_accuracy: 0.4698 - val_loss: 1.8692 - val_emp_loss: 0.5667 - val_sen_loss: 1.3025 - val_emp_accuracy: 0.8661 - val_sen_accuracy: 0.4663\n",
      "Epoch 4/50\n",
      "63/63 [==============================] - 2s 24ms/step - loss: 1.7321 - emp_loss: 0.5479 - sen_loss: 1.1842 - emp_accuracy: 0.8705 - sen_accuracy: 0.5654 - val_loss: 1.7122 - val_emp_loss: 0.5623 - val_sen_loss: 1.1498 - val_emp_accuracy: 0.8662 - val_sen_accuracy: 0.5766\n",
      "Epoch 5/50\n",
      "63/63 [==============================] - 2s 24ms/step - loss: 1.6306 - emp_loss: 0.5445 - sen_loss: 1.0862 - emp_accuracy: 0.8704 - sen_accuracy: 0.6119 - val_loss: 1.6202 - val_emp_loss: 0.5581 - val_sen_loss: 1.0621 - val_emp_accuracy: 0.8661 - val_sen_accuracy: 0.6239\n",
      "Epoch 6/50\n",
      "63/63 [==============================] - 2s 25ms/step - loss: 1.5608 - emp_loss: 0.5415 - sen_loss: 1.0193 - emp_accuracy: 0.8704 - sen_accuracy: 0.6418 - val_loss: 1.5932 - val_emp_loss: 0.5561 - val_sen_loss: 1.0371 - val_emp_accuracy: 0.8661 - val_sen_accuracy: 0.6354\n",
      "Epoch 7/50\n",
      "63/63 [==============================] - 2s 24ms/step - loss: 1.5198 - emp_loss: 0.5393 - sen_loss: 0.9804 - emp_accuracy: 0.8705 - sen_accuracy: 0.6572 - val_loss: 1.5846 - val_emp_loss: 0.5538 - val_sen_loss: 1.0307 - val_emp_accuracy: 0.8662 - val_sen_accuracy: 0.6471\n",
      "Epoch 8/50\n",
      "63/63 [==============================] - 2s 25ms/step - loss: 1.4883 - emp_loss: 0.5354 - sen_loss: 0.9528 - emp_accuracy: 0.8705 - sen_accuracy: 0.6700 - val_loss: 1.5754 - val_emp_loss: 0.5476 - val_sen_loss: 1.0279 - val_emp_accuracy: 0.8661 - val_sen_accuracy: 0.6457\n",
      "Epoch 9/50\n",
      "63/63 [==============================] - 2s 24ms/step - loss: 1.4495 - emp_loss: 0.5263 - sen_loss: 0.9232 - emp_accuracy: 0.8706 - sen_accuracy: 0.6815 - val_loss: 1.5500 - val_emp_loss: 0.5343 - val_sen_loss: 1.0157 - val_emp_accuracy: 0.8662 - val_sen_accuracy: 0.6515\n",
      "Epoch 10/50\n",
      "63/63 [==============================] - 2s 24ms/step - loss: 1.4068 - emp_loss: 0.5101 - sen_loss: 0.8967 - emp_accuracy: 0.8720 - sen_accuracy: 0.6902 - val_loss: 1.5229 - val_emp_loss: 0.5186 - val_sen_loss: 1.0043 - val_emp_accuracy: 0.8686 - val_sen_accuracy: 0.6530\n",
      "Epoch 11/50\n",
      "63/63 [==============================] - 2s 24ms/step - loss: 1.3622 - emp_loss: 0.4934 - sen_loss: 0.8688 - emp_accuracy: 0.8762 - sen_accuracy: 0.7018 - val_loss: 1.5033 - val_emp_loss: 0.5049 - val_sen_loss: 0.9984 - val_emp_accuracy: 0.8731 - val_sen_accuracy: 0.6594\n",
      "Epoch 12/50\n",
      "63/63 [==============================] - 2s 24ms/step - loss: 1.3224 - emp_loss: 0.4781 - sen_loss: 0.8443 - emp_accuracy: 0.8791 - sen_accuracy: 0.7110 - val_loss: 1.4887 - val_emp_loss: 0.4993 - val_sen_loss: 0.9895 - val_emp_accuracy: 0.8743 - val_sen_accuracy: 0.6628\n",
      "Epoch 13/50\n",
      "63/63 [==============================] - 2s 24ms/step - loss: 1.2889 - emp_loss: 0.4661 - sen_loss: 0.8228 - emp_accuracy: 0.8820 - sen_accuracy: 0.7165 - val_loss: 1.4812 - val_emp_loss: 0.4978 - val_sen_loss: 0.9834 - val_emp_accuracy: 0.8746 - val_sen_accuracy: 0.6669\n",
      "Epoch 14/50\n",
      "63/63 [==============================] - 2s 24ms/step - loss: 1.2645 - emp_loss: 0.4580 - sen_loss: 0.8065 - emp_accuracy: 0.8843 - sen_accuracy: 0.7236 - val_loss: 1.5004 - val_emp_loss: 0.5017 - val_sen_loss: 0.9986 - val_emp_accuracy: 0.8719 - val_sen_accuracy: 0.6661\n",
      "Epoch 15/50\n",
      "63/63 [==============================] - 2s 25ms/step - loss: 1.2428 - emp_loss: 0.4493 - sen_loss: 0.7935 - emp_accuracy: 0.8869 - sen_accuracy: 0.7259 - val_loss: 1.4966 - val_emp_loss: 0.5008 - val_sen_loss: 0.9958 - val_emp_accuracy: 0.8745 - val_sen_accuracy: 0.6641\n"
     ]
    }
   ],
   "source": [
    "epochs = 50\n",
    "batch_size = 1024\n",
    "\n",
    "history = model.fit(X_train, [Y_emp_train, Y_sen_train], epochs=epochs, batch_size=batch_size,validation_data=(X_val,[Y_emp_val,Y_sen_val]),\n",
    "                    callbacks=[EarlyStopping(monitor='val_loss', patience=2,restore_best_weights=True),\n",
    "                               WandbCallback(save_model=False)])"
   ]
  },
  {
   "cell_type": "code",
   "execution_count": 49,
   "metadata": {
    "colab": {
     "base_uri": "https://localhost:8080/"
    },
    "executionInfo": {
     "elapsed": 6074,
     "status": "ok",
     "timestamp": 1645536235293,
     "user": {
      "displayName": "Ivan Zidov",
      "photoUrl": "https://lh3.googleusercontent.com/a-/AOh14Gjahm8hyrECD6kPTVfV6aJTjtTwGoMFuzaGECbz2w=s64",
      "userId": "17601732119024015981"
     },
     "user_tz": -60
    },
    "id": "VOUR2j4spDQv",
    "outputId": "6286bf10-ed93-411f-b9eb-29b224447c05"
   },
   "outputs": [
    {
     "name": "stdout",
     "output_type": "stream",
     "text": [
      "625/625 [==============================] - 5s 6ms/step - loss: 1.4026 - emp_loss: 0.4718 - sen_loss: 0.9308 - emp_accuracy: 0.8788 - sen_accuracy: 0.6858\n"
     ]
    }
   ],
   "source": [
    "accr = model.evaluate(X_test,[Y_emp_test,Y_sen_test])\n",
    "#print('Test set\\n  Loss: {:0.3f}\\n  Accuracy: {:0.3f}'.format(accr[0],accr[1]))"
   ]
  },
  {
   "cell_type": "code",
   "execution_count": 48,
   "metadata": {
    "colab": {
     "base_uri": "https://localhost:8080/"
    },
    "executionInfo": {
     "elapsed": 219,
     "status": "ok",
     "timestamp": 1645527614015,
     "user": {
      "displayName": "Ivan Zidov",
      "photoUrl": "https://lh3.googleusercontent.com/a-/AOh14Gjahm8hyrECD6kPTVfV6aJTjtTwGoMFuzaGECbz2w=s64",
      "userId": "17601732119024015981"
     },
     "user_tz": -60
    },
    "id": "QC_tn7g_FDs-",
    "outputId": "f21042f2-edab-4ad8-a2d3-ecfbdbe900ba"
   },
   "outputs": [
    {
     "data": {
      "text/plain": [
       "array([[  0,   0,   0,   0,   0,   0,   0,   0,   0,   0,   0,   0, 349,\n",
       "         68, 194,   6]], dtype=int32)"
      ]
     },
     "execution_count": 48,
     "metadata": {},
     "output_type": "execute_result"
    }
   ],
   "source": [
    "new_title = \"Expert Machine Learning Engineer\"\n",
    "new_title = [clean_text(new_title)]\n",
    "seq = tokenizer.texts_to_sequences(new_title)\n",
    "padded = pad_sequences(seq, maxlen=MAX_SEQUENCE_LENGTH)\n",
    "padded"
   ]
  },
  {
   "cell_type": "code",
   "execution_count": 49,
   "metadata": {
    "colab": {
     "base_uri": "https://localhost:8080/"
    },
    "executionInfo": {
     "elapsed": 225,
     "status": "ok",
     "timestamp": 1645527618174,
     "user": {
      "displayName": "Ivan Zidov",
      "photoUrl": "https://lh3.googleusercontent.com/a-/AOh14Gjahm8hyrECD6kPTVfV6aJTjtTwGoMFuzaGECbz2w=s64",
      "userId": "17601732119024015981"
     },
     "user_tz": -60
    },
    "id": "Wt86twtxFhhq",
    "outputId": "b2dad109-7200-47a9-fedd-7290f28973ef"
   },
   "outputs": [
    {
     "data": {
      "text/plain": [
       "array([[0.18349935, 0.0025292 , 0.3245596 , 0.00402707, 0.00080688,\n",
       "        0.19039497, 0.29418296]], dtype=float32)"
      ]
     },
     "execution_count": 49,
     "metadata": {},
     "output_type": "execute_result"
    }
   ],
   "source": [
    "model.predict(padded)"
   ]
  },
  {
   "cell_type": "code",
   "execution_count": 53,
   "metadata": {
    "colab": {
     "base_uri": "https://localhost:8080/"
    },
    "executionInfo": {
     "elapsed": 254,
     "status": "ok",
     "timestamp": 1645527696869,
     "user": {
      "displayName": "Ivan Zidov",
      "photoUrl": "https://lh3.googleusercontent.com/a-/AOh14Gjahm8hyrECD6kPTVfV6aJTjtTwGoMFuzaGECbz2w=s64",
      "userId": "17601732119024015981"
     },
     "user_tz": -60
    },
    "id": "f4EkhTesF7SW",
    "outputId": "06b285fa-032b-4558-c34f-3d28f67bc196"
   },
   "outputs": [
    {
     "data": {
      "text/plain": [
       "Index(['Associate', 'Director', 'Entry level', 'Executive', 'Internship',\n",
       "       'Mid-Senior level', 'Not Applicable'],\n",
       "      dtype='object')"
      ]
     },
     "execution_count": 53,
     "metadata": {},
     "output_type": "execute_result"
    }
   ],
   "source": [
    "pd.get_dummies(train.seniority_level).columns"
   ]
  },
  {
   "cell_type": "code",
   "execution_count": 50,
   "metadata": {
    "executionInfo": {
     "elapsed": 237,
     "status": "ok",
     "timestamp": 1645527671486,
     "user": {
      "displayName": "Ivan Zidov",
      "photoUrl": "https://lh3.googleusercontent.com/a-/AOh14Gjahm8hyrECD6kPTVfV6aJTjtTwGoMFuzaGECbz2w=s64",
      "userId": "17601732119024015981"
     },
     "user_tz": -60
    },
    "id": "a1WKscEiF4Ym"
   },
   "outputs": [],
   "source": [
    "labels = list(pd.get_dummies(train.seniority_level).columns)"
   ]
  },
  {
   "cell_type": "code",
   "execution_count": 58,
   "metadata": {
    "executionInfo": {
     "elapsed": 236,
     "status": "ok",
     "timestamp": 1645527802637,
     "user": {
      "displayName": "Ivan Zidov",
      "photoUrl": "https://lh3.googleusercontent.com/a-/AOh14Gjahm8hyrECD6kPTVfV6aJTjtTwGoMFuzaGECbz2w=s64",
      "userId": "17601732119024015981"
     },
     "user_tz": -60
    },
    "id": "k-OmdK0xGQkr"
   },
   "outputs": [],
   "source": [
    "def predict_label(new_title):\n",
    "  new_title = [clean_text(new_title)]\n",
    "  seq = tokenizer.texts_to_sequences(new_title)\n",
    "  padded = pad_sequences(seq, maxlen=MAX_SEQUENCE_LENGTH)\n",
    "  pred = model.predict(padded)\n",
    "  #labels = ['Credit reporting, credit repair services, or other personal consumer reports', 'Debt collection', 'Mortgage', 'Credit card or prepaid card', 'Student loan', 'Bank account or service', 'Checking or savings account', 'Consumer Loan', 'Payday loan, title loan, or personal loan', 'Vehicle loan or lease', 'Money transfer, virtual currency, or money service', 'Money transfers', 'Prepaid card']\n",
    "  labels = list(pd.get_dummies(train.seniority_level).columns)\n",
    "  return labels[np.argmax(pred)]"
   ]
  },
  {
   "cell_type": "code",
   "execution_count": 59,
   "metadata": {
    "colab": {
     "base_uri": "https://localhost:8080/",
     "height": 35
    },
    "executionInfo": {
     "elapsed": 238,
     "status": "ok",
     "timestamp": 1645527813802,
     "user": {
      "displayName": "Ivan Zidov",
      "photoUrl": "https://lh3.googleusercontent.com/a-/AOh14Gjahm8hyrECD6kPTVfV6aJTjtTwGoMFuzaGECbz2w=s64",
      "userId": "17601732119024015981"
     },
     "user_tz": -60
    },
    "id": "gtyNJ03UvuYr",
    "outputId": "f2be47bc-3e8d-4e37-f58f-f6bc20e8effe"
   },
   "outputs": [
    {
     "data": {
      "application/vnd.google.colaboratory.intrinsic+json": {
       "type": "string"
      },
      "text/plain": [
       "'Internship'"
      ]
     },
     "execution_count": 59,
     "metadata": {},
     "output_type": "execute_result"
    }
   ],
   "source": [
    "predict_label(\"Intern\")"
   ]
  },
  {
   "cell_type": "code",
   "execution_count": 63,
   "metadata": {
    "colab": {
     "base_uri": "https://localhost:8080/"
    },
    "executionInfo": {
     "elapsed": 224,
     "status": "ok",
     "timestamp": 1645527853700,
     "user": {
      "displayName": "Ivan Zidov",
      "photoUrl": "https://lh3.googleusercontent.com/a-/AOh14Gjahm8hyrECD6kPTVfV6aJTjtTwGoMFuzaGECbz2w=s64",
      "userId": "17601732119024015981"
     },
     "user_tz": -60
    },
    "id": "ErC6JgQ8y6gu",
    "outputId": "e6439abb-8023-41bb-966c-716b419b891c"
   },
   "outputs": [
    {
     "name": "stdout",
     "output_type": "stream",
     "text": [
      "Associate\n",
      "[[0.46950844 0.00327721 0.29798684 0.00201656 0.00072411 0.09468381\n",
      "  0.13180302]]\n"
     ]
    }
   ],
   "source": [
    "#@title Enter new title { run: \"auto\", vertical-output: true }\n",
    "\n",
    "new_title = \"Junior Research Scientist\"  #@param\n",
    "new_title = [clean_text(new_title)]\n",
    "seq = tokenizer.texts_to_sequences(new_title)\n",
    "padded = pad_sequences(seq, maxlen=MAX_SEQUENCE_LENGTH)\n",
    "pred = model.predict(padded)\n",
    "#labels = ['Credit reporting, credit repair services, or other personal consumer reports', 'Debt collection', 'Mortgage', 'Credit card or prepaid card', 'Student loan', 'Bank account or service', 'Checking or savings account', 'Consumer Loan', 'Payday loan, title loan, or personal loan', 'Vehicle loan or lease', 'Money transfer, virtual currency, or money service', 'Money transfers', 'Prepaid card']\n",
    "labels = list(pd.get_dummies(train.seniority_level).columns)\n",
    "print( labels[np.argmax(pred)])\n",
    "print((pred))\n"
   ]
  },
  {
   "cell_type": "code",
   "execution_count": null,
   "metadata": {
    "colab": {
     "base_uri": "https://localhost:8080/"
    },
    "executionInfo": {
     "elapsed": 456,
     "status": "ok",
     "timestamp": 1645299965579,
     "user": {
      "displayName": "Ivan Zidov",
      "photoUrl": "https://lh3.googleusercontent.com/a-/AOh14Gjahm8hyrECD6kPTVfV6aJTjtTwGoMFuzaGECbz2w=s64",
      "userId": "17601732119024015981"
     },
     "user_tz": -60
    },
    "id": "gLVXMENwwI23",
    "outputId": "7ae95677-e803-4c35-9214-564820440e67"
   },
   "outputs": [
    {
     "data": {
      "text/plain": [
       "['Entry level',\n",
       " 'Associate',\n",
       " 'Mid-Senior level',\n",
       " 'Not Applicable',\n",
       " 'Director',\n",
       " 'Internship',\n",
       " 'Executive']"
      ]
     },
     "execution_count": 25,
     "metadata": {},
     "output_type": "execute_result"
    }
   ],
   "source": [
    "list(train.seniority_level.value_counts().index)"
   ]
  },
  {
   "cell_type": "code",
   "execution_count": null,
   "metadata": {
    "colab": {
     "base_uri": "https://localhost:8080/"
    },
    "executionInfo": {
     "elapsed": 2,
     "status": "ok",
     "timestamp": 1645299966107,
     "user": {
      "displayName": "Ivan Zidov",
      "photoUrl": "https://lh3.googleusercontent.com/a-/AOh14Gjahm8hyrECD6kPTVfV6aJTjtTwGoMFuzaGECbz2w=s64",
      "userId": "17601732119024015981"
     },
     "user_tz": -60
    },
    "id": "RIeaeDxlv6mC",
    "outputId": "bc073018-1b7d-46bb-f7f4-414597d210cf"
   },
   "outputs": [
    {
     "data": {
      "text/plain": [
       "Index(['Associate', 'Director', 'Entry level', 'Executive', 'Internship',\n",
       "       'Mid-Senior level', 'Not Applicable'],\n",
       "      dtype='object')"
      ]
     },
     "execution_count": 26,
     "metadata": {},
     "output_type": "execute_result"
    }
   ],
   "source": [
    "pd.get_dummies(train.seniority_level).columns"
   ]
  },
  {
   "cell_type": "code",
   "execution_count": null,
   "metadata": {
    "colab": {
     "base_uri": "https://localhost:8080/"
    },
    "executionInfo": {
     "elapsed": 3,
     "status": "ok",
     "timestamp": 1645299966650,
     "user": {
      "displayName": "Ivan Zidov",
      "photoUrl": "https://lh3.googleusercontent.com/a-/AOh14Gjahm8hyrECD6kPTVfV6aJTjtTwGoMFuzaGECbz2w=s64",
      "userId": "17601732119024015981"
     },
     "user_tz": -60
    },
    "id": "A77alJjzZnK-",
    "outputId": "dcf683f8-4db7-4672-8a24-47551800996d"
   },
   "outputs": [
    {
     "name": "stdout",
     "output_type": "stream",
     "text": [
      "{'learning_rate': 0.01, 'lower_case': True, 'optimizer': 'adam', 'batch_size': 2048, 'dropout': 0.2, 'r_dropout': 0.2, 'lstm': 128, 'MAX_NB_WORDS': 10000, 'MAX_SEQUENCE_LENGTH': 16, 'EMBEDDING_DIM': 512, 'rnn_dim': 128, 'rnn_type': 'gru'}\n"
     ]
    }
   ],
   "source": [
    "print(config)"
   ]
  },
  {
   "cell_type": "markdown",
   "metadata": {
    "id": "Kb3wPvZuZI5m"
   },
   "source": [
    "## Sweep"
   ]
  },
  {
   "cell_type": "code",
   "execution_count": null,
   "metadata": {
    "id": "_mgUSVp0ZYGF"
   },
   "outputs": [],
   "source": [
    "def train():\n",
    "    config_defaults = {\n",
    "        'learning_rate': 0.01, \n",
    "        'lower_case': True, \n",
    "        'optimizer': 'adam', \n",
    "        'batch_size': 2048, \n",
    "        'dropout': 0.2, \n",
    "        'r_dropout': 0.2, \n",
    "        'rnn_dim': 128, \n",
    "        'rnn_type': \"gru\",\n",
    "        'MAX_NB_WORDS': 10000, \n",
    "        'MAX_SEQUENCE_LENGTH': 16, \n",
    "        'EMBEDDING_DIM': 512\n",
    "        }\n",
    "\n",
    "\n",
    "    wandb.init(project='lipik', entity='ivanzidov',config=config_defaults)\n",
    "\n",
    "    model = Sequential()\n",
    "    model.add(Embedding(MAX_NB_WORDS, EMBEDDING_DIM, input_length=X.shape[1]))\n",
    "    model.add(SpatialDropout1D(0.2))\n",
    "    if config.rnn_type==\"lstm\":\n",
    "        model.add(LSTM(config.rnn_dim, dropout=config.dropout, recurrent_dropout=config.r_dropout))\n",
    "    else:\n",
    "        model.add(GRU(config.rnn_dim, dropout=config.dropout, recurrent_dropout=config.r_dropout))\n",
    "    model.add(Dense(7, activation='softmax'))\n",
    "    model.compile(loss='categorical_crossentropy', optimizer=config.optimizer, metrics=['accuracy'])\n",
    "\n",
    "    print(model.summary())\n",
    "\n",
    "    epochs = 50\n",
    "    batch_size = config.batch_size\n",
    "\n",
    "    history = model.fit(X_train, Y_train, epochs=epochs, batch_size=batch_size,validation_data=(X_val,Y_val),\n",
    "                        callbacks=[EarlyStopping(monitor='val_loss', patience=2,restore_best_weights=True),WandbCallback(save_model=False)])\n"
   ]
  },
  {
   "cell_type": "code",
   "execution_count": null,
   "metadata": {
    "id": "P_HsimWaZKFX"
   },
   "outputs": [],
   "source": [
    "sweep_config = {\n",
    "    'method': 'grid', #grid, random\n",
    "    'metric': {\n",
    "      'name': 'val_loss',\n",
    "      'goal': 'minimize'   \n",
    "    },\n",
    "    'parameters': {\n",
    "        'batch_size': {\n",
    "            'values': [2048, 128]\n",
    "        },\n",
    "        'rnn_type':{\n",
    "            'values':[\"gru\",\"lstm\"]\n",
    "        },\n",
    "        'rnn_dim':{\n",
    "            'values':[64,256]\n",
    "        },\n",
    "        'optimizer': {\n",
    "            'values': ['adam', 'RMSprop']\n",
    "        },\n",
    "    }\n",
    "}"
   ]
  },
  {
   "cell_type": "code",
   "execution_count": null,
   "metadata": {
    "colab": {
     "base_uri": "https://localhost:8080/"
    },
    "executionInfo": {
     "elapsed": 577,
     "status": "ok",
     "timestamp": 1620737145992,
     "user": {
      "displayName": "Ivan Zidov",
      "photoUrl": "https://lh3.googleusercontent.com/a-/AOh14Gh9xrosmJK-Ei5q5MdZW8wDJQWd8ViPpIlL3HqU1a05ohc8Kp_u0uIJ34hewQR_ezifHmvrudvM5Fx8KjzlxP1deZZZo24ZTqgfMxRpv2hb6I7HGBnTg8_Y_kWD2l12VnEZk145zA6JEB1seULFUybqVpAGBJgKCzUZRjCnQQ5fWBUMByAQgyBU6gD8shqyVh_DhRkzJOiSsa3ApWUqMvn0xnrla7_x23s8ZxYfhqcXwXqB-VCl55_oUJe9MrdItnkzFXC8ZLZFIoilO_mWQirC1OFm3QARsXL9hLjeSJ-MJHgLWlikgA_YnKcA4tVplMHAVGE46elznz6UaLMD1zcXw_3PlYvimnXWfTiMUf3vc45Z08uMwLt5BrWBaRPjOdc4oIcfKkWOtWAezduOAP2fMo8oOwafVm_vmSD0FM66Ni3A9zpqmW_HlH8-zfWDe1f4JZ7g5HTKvylgsOd40s3HNJjEcc1D3ElrQJDTpd6pCQeioOULUL6waChz-m1U5VVlwJPSRyRvtwelWpg3ez2-SADLz2-fl5_lUAYpJMoiqQiQBLcf9aptZon_SYPcyQJ0r8WCRxsXFrDqP-t_WFqBV40mARbUDTAW0yJJwPtTqx10mgbLbrVxZlC1BX9QLFcKwXZnPB-M5Kij4HAlP3lO7XoElYM67NBbqwT5w04eDfEMuNlk5Hj80TNklDhu4XGcFAwM5HZxVRDcIGbrTTpgE_0oBmbshjqEN5PcRUYJaJAU_CayjGPmFBZe5VjVRxAuag=s64",
      "userId": "12021439012864123870"
     },
     "user_tz": -120
    },
    "id": "HV5L87CZa-67",
    "outputId": "b3eb292c-171f-47da-fcf1-07fc754a9819"
   },
   "outputs": [
    {
     "name": "stderr",
     "output_type": "stream",
     "text": [
      "\u001b[34m\u001b[1mwandb\u001b[0m: \u001b[33mWARNING\u001b[0m Calling wandb.login() after wandb.init() has no effect.\n"
     ]
    },
    {
     "name": "stdout",
     "output_type": "stream",
     "text": [
      "Create sweep with ID: th0hf6xo\n",
      "Sweep URL: https://wandb.ai/ivanzidov/lipik/sweeps/th0hf6xo\n"
     ]
    }
   ],
   "source": [
    "sweep_id = wandb.sweep(sweep_config, project='lipik', entity='ivanzidov')"
   ]
  },
  {
   "cell_type": "code",
   "execution_count": null,
   "metadata": {
    "colab": {
     "base_uri": "https://localhost:8080/",
     "height": 739
    },
    "id": "PlJ9xoHmbCCx",
    "outputId": "659f85be-43f3-4229-c572-e22fcc6f19dd"
   },
   "outputs": [
    {
     "name": "stderr",
     "output_type": "stream",
     "text": [
      "\u001b[34m\u001b[1mwandb\u001b[0m: Agent Starting Run: lp56hvem with config:\n",
      "\u001b[34m\u001b[1mwandb\u001b[0m: \tbatch_size: 2048\n",
      "\u001b[34m\u001b[1mwandb\u001b[0m: \toptimizer: adam\n",
      "\u001b[34m\u001b[1mwandb\u001b[0m: \trnn_dim: 64\n",
      "\u001b[34m\u001b[1mwandb\u001b[0m: \trnn_type: gru\n",
      "\u001b[34m\u001b[1mwandb\u001b[0m: \u001b[33mWARNING\u001b[0m Ignored wandb.init() arg project when running a sweep\n",
      "\u001b[34m\u001b[1mwandb\u001b[0m: \u001b[33mWARNING\u001b[0m Ignored wandb.init() arg entity when running a sweep\n"
     ]
    },
    {
     "data": {
      "text/html": [
       "\n",
       "                Tracking run with wandb version 0.10.30<br/>\n",
       "                Syncing run <strong style=\"color:#cdcd00\">northern-sweep-1</strong> to <a href=\"https://wandb.ai\" target=\"_blank\">Weights & Biases</a> <a href=\"https://docs.wandb.com/integrations/jupyter.html\" target=\"_blank\">(Documentation)</a>.<br/>\n",
       "                Project page: <a href=\"https://wandb.ai/ivanzidov/lipik\" target=\"_blank\">https://wandb.ai/ivanzidov/lipik</a><br/>\n",
       "                Sweep page: <a href=\"https://wandb.ai/ivanzidov/lipik/sweeps/th0hf6xo\" target=\"_blank\">https://wandb.ai/ivanzidov/lipik/sweeps/th0hf6xo</a><br/>\n",
       "Run page: <a href=\"https://wandb.ai/ivanzidov/lipik/runs/lp56hvem\" target=\"_blank\">https://wandb.ai/ivanzidov/lipik/runs/lp56hvem</a><br/>\n",
       "                Run data is saved locally in <code>/content/wandb/run-20210511_124549-lp56hvem</code><br/><br/>\n",
       "            "
      ],
      "text/plain": [
       "<IPython.core.display.HTML object>"
      ]
     },
     "metadata": {
      "tags": []
     },
     "output_type": "display_data"
    },
    {
     "name": "stdout",
     "output_type": "stream",
     "text": [
      "Model: \"sequential\"\n",
      "_________________________________________________________________\n",
      "Layer (type)                 Output Shape              Param #   \n",
      "=================================================================\n",
      "embedding (Embedding)        (None, 16, 512)           5120000   \n",
      "_________________________________________________________________\n",
      "spatial_dropout1d (SpatialDr (None, 16, 512)           0         \n",
      "_________________________________________________________________\n",
      "gru (GRU)                    (None, 128)               246528    \n",
      "_________________________________________________________________\n",
      "dense (Dense)                (None, 7)                 903       \n",
      "=================================================================\n",
      "Total params: 5,367,431\n",
      "Trainable params: 5,367,431\n",
      "Non-trainable params: 0\n",
      "_________________________________________________________________\n",
      "None\n",
      "Epoch 1/50\n",
      "32/32 [==============================] - 56s 2s/step - loss: 1.6265 - accuracy: 0.4372 - val_loss: 1.1523 - val_accuracy: 0.5863\n",
      "Epoch 2/50\n",
      "32/32 [==============================] - 53s 2s/step - loss: 1.0765 - accuracy: 0.6192 - val_loss: 0.9835 - val_accuracy: 0.6556\n",
      "Epoch 3/50\n",
      "32/32 [==============================] - 53s 2s/step - loss: 0.9107 - accuracy: 0.6814 - val_loss: 0.9392 - val_accuracy: 0.6768\n",
      "Epoch 4/50\n",
      "32/32 [==============================] - 53s 2s/step - loss: 0.8360 - accuracy: 0.7074 - val_loss: 0.9265 - val_accuracy: 0.6805\n",
      "Epoch 5/50\n",
      "32/32 [==============================] - 52s 2s/step - loss: 0.7892 - accuracy: 0.7253 - val_loss: 0.9291 - val_accuracy: 0.6793\n",
      "Epoch 6/50\n",
      "31/32 [============================>.] - ETA: 1s - loss: 0.7573 - accuracy: 0.7356"
     ]
    }
   ],
   "source": [
    "wandb.agent(sweep_id, train)"
   ]
  },
  {
   "cell_type": "code",
   "execution_count": null,
   "metadata": {
    "id": "2UQqgyVVbGGo"
   },
   "outputs": [],
   "source": []
  }
 ],
 "metadata": {
  "accelerator": "GPU",
  "colab": {
   "collapsed_sections": [],
   "name": "3. Wanbai.ipynb",
   "provenance": []
  },
  "kernelspec": {
   "display_name": "Python 3 (ipykernel)",
   "language": "python",
   "name": "python3"
  },
  "language_info": {
   "codemirror_mode": {
    "name": "ipython",
    "version": 3
   },
   "file_extension": ".py",
   "mimetype": "text/x-python",
   "name": "python",
   "nbconvert_exporter": "python",
   "pygments_lexer": "ipython3",
   "version": "3.10.0"
  },
  "widgets": {
   "application/vnd.jupyter.widget-state+json": {
    "411db19853c54adfa8e2f3fb94dd4175": {
     "model_module": "@jupyter-widgets/controls",
     "model_module_version": "1.5.0",
     "model_name": "LabelModel",
     "state": {
      "_dom_classes": [],
      "_model_module": "@jupyter-widgets/controls",
      "_model_module_version": "1.5.0",
      "_model_name": "LabelModel",
      "_view_count": null,
      "_view_module": "@jupyter-widgets/controls",
      "_view_module_version": "1.5.0",
      "_view_name": "LabelView",
      "description": "",
      "description_tooltip": null,
      "layout": "IPY_MODEL_baf3406fe8514cea8896a44352a3b839",
      "placeholder": "​",
      "style": "IPY_MODEL_fa5ab8559c3b456ebf8704f1a5e649bd",
      "value": " 0.01MB of 0.01MB uploaded (0.00MB deduped)\r"
     }
    },
    "6fceebda0a5e493baae532f0b1b125c2": {
     "model_module": "@jupyter-widgets/base",
     "model_module_version": "1.2.0",
     "model_name": "LayoutModel",
     "state": {
      "_model_module": "@jupyter-widgets/base",
      "_model_module_version": "1.2.0",
      "_model_name": "LayoutModel",
      "_view_count": null,
      "_view_module": "@jupyter-widgets/base",
      "_view_module_version": "1.2.0",
      "_view_name": "LayoutView",
      "align_content": null,
      "align_items": null,
      "align_self": null,
      "border": null,
      "bottom": null,
      "display": null,
      "flex": null,
      "flex_flow": null,
      "grid_area": null,
      "grid_auto_columns": null,
      "grid_auto_flow": null,
      "grid_auto_rows": null,
      "grid_column": null,
      "grid_gap": null,
      "grid_row": null,
      "grid_template_areas": null,
      "grid_template_columns": null,
      "grid_template_rows": null,
      "height": null,
      "justify_content": null,
      "justify_items": null,
      "left": null,
      "margin": null,
      "max_height": null,
      "max_width": null,
      "min_height": null,
      "min_width": null,
      "object_fit": null,
      "object_position": null,
      "order": null,
      "overflow": null,
      "overflow_x": null,
      "overflow_y": null,
      "padding": null,
      "right": null,
      "top": null,
      "visibility": null,
      "width": null
     }
    },
    "783d4a76fd5449f9a1b2da5f61eaf6f7": {
     "model_module": "@jupyter-widgets/base",
     "model_module_version": "1.2.0",
     "model_name": "LayoutModel",
     "state": {
      "_model_module": "@jupyter-widgets/base",
      "_model_module_version": "1.2.0",
      "_model_name": "LayoutModel",
      "_view_count": null,
      "_view_module": "@jupyter-widgets/base",
      "_view_module_version": "1.2.0",
      "_view_name": "LayoutView",
      "align_content": null,
      "align_items": null,
      "align_self": null,
      "border": null,
      "bottom": null,
      "display": null,
      "flex": null,
      "flex_flow": null,
      "grid_area": null,
      "grid_auto_columns": null,
      "grid_auto_flow": null,
      "grid_auto_rows": null,
      "grid_column": null,
      "grid_gap": null,
      "grid_row": null,
      "grid_template_areas": null,
      "grid_template_columns": null,
      "grid_template_rows": null,
      "height": null,
      "justify_content": null,
      "justify_items": null,
      "left": null,
      "margin": null,
      "max_height": null,
      "max_width": null,
      "min_height": null,
      "min_width": null,
      "object_fit": null,
      "object_position": null,
      "order": null,
      "overflow": null,
      "overflow_x": null,
      "overflow_y": null,
      "padding": null,
      "right": null,
      "top": null,
      "visibility": null,
      "width": null
     }
    },
    "afaadd6cc8494bd0a089cc15cfa7eb2b": {
     "model_module": "@jupyter-widgets/controls",
     "model_module_version": "1.5.0",
     "model_name": "FloatProgressModel",
     "state": {
      "_dom_classes": [],
      "_model_module": "@jupyter-widgets/controls",
      "_model_module_version": "1.5.0",
      "_model_name": "FloatProgressModel",
      "_view_count": null,
      "_view_module": "@jupyter-widgets/controls",
      "_view_module_version": "1.5.0",
      "_view_name": "ProgressView",
      "bar_style": "",
      "description": "",
      "description_tooltip": null,
      "layout": "IPY_MODEL_783d4a76fd5449f9a1b2da5f61eaf6f7",
      "max": 1,
      "min": 0,
      "orientation": "horizontal",
      "style": "IPY_MODEL_e7d03b022a604f3a9d1ac634ef14e979",
      "value": 1
     }
    },
    "baf3406fe8514cea8896a44352a3b839": {
     "model_module": "@jupyter-widgets/base",
     "model_module_version": "1.2.0",
     "model_name": "LayoutModel",
     "state": {
      "_model_module": "@jupyter-widgets/base",
      "_model_module_version": "1.2.0",
      "_model_name": "LayoutModel",
      "_view_count": null,
      "_view_module": "@jupyter-widgets/base",
      "_view_module_version": "1.2.0",
      "_view_name": "LayoutView",
      "align_content": null,
      "align_items": null,
      "align_self": null,
      "border": null,
      "bottom": null,
      "display": null,
      "flex": null,
      "flex_flow": null,
      "grid_area": null,
      "grid_auto_columns": null,
      "grid_auto_flow": null,
      "grid_auto_rows": null,
      "grid_column": null,
      "grid_gap": null,
      "grid_row": null,
      "grid_template_areas": null,
      "grid_template_columns": null,
      "grid_template_rows": null,
      "height": null,
      "justify_content": null,
      "justify_items": null,
      "left": null,
      "margin": null,
      "max_height": null,
      "max_width": null,
      "min_height": null,
      "min_width": null,
      "object_fit": null,
      "object_position": null,
      "order": null,
      "overflow": null,
      "overflow_x": null,
      "overflow_y": null,
      "padding": null,
      "right": null,
      "top": null,
      "visibility": null,
      "width": null
     }
    },
    "e71d04c922d444969b6e38487ae0fda4": {
     "model_module": "@jupyter-widgets/controls",
     "model_module_version": "1.5.0",
     "model_name": "VBoxModel",
     "state": {
      "_dom_classes": [],
      "_model_module": "@jupyter-widgets/controls",
      "_model_module_version": "1.5.0",
      "_model_name": "VBoxModel",
      "_view_count": null,
      "_view_module": "@jupyter-widgets/controls",
      "_view_module_version": "1.5.0",
      "_view_name": "VBoxView",
      "box_style": "",
      "children": [
       "IPY_MODEL_411db19853c54adfa8e2f3fb94dd4175",
       "IPY_MODEL_afaadd6cc8494bd0a089cc15cfa7eb2b"
      ],
      "layout": "IPY_MODEL_6fceebda0a5e493baae532f0b1b125c2"
     }
    },
    "e7d03b022a604f3a9d1ac634ef14e979": {
     "model_module": "@jupyter-widgets/controls",
     "model_module_version": "1.5.0",
     "model_name": "ProgressStyleModel",
     "state": {
      "_model_module": "@jupyter-widgets/controls",
      "_model_module_version": "1.5.0",
      "_model_name": "ProgressStyleModel",
      "_view_count": null,
      "_view_module": "@jupyter-widgets/base",
      "_view_module_version": "1.2.0",
      "_view_name": "StyleView",
      "bar_color": null,
      "description_width": ""
     }
    },
    "fa5ab8559c3b456ebf8704f1a5e649bd": {
     "model_module": "@jupyter-widgets/controls",
     "model_module_version": "1.5.0",
     "model_name": "DescriptionStyleModel",
     "state": {
      "_model_module": "@jupyter-widgets/controls",
      "_model_module_version": "1.5.0",
      "_model_name": "DescriptionStyleModel",
      "_view_count": null,
      "_view_module": "@jupyter-widgets/base",
      "_view_module_version": "1.2.0",
      "_view_name": "StyleView",
      "description_width": ""
     }
    }
   }
  }
 },
 "nbformat": 4,
 "nbformat_minor": 1
}
