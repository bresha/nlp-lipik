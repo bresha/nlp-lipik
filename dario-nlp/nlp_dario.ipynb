{
 "cells": [
  {
   "cell_type": "code",
   "execution_count": null,
   "metadata": {
    "colab": {
     "base_uri": "https://localhost:8080/"
    },
    "id": "jmleRWuVn7Od",
    "outputId": "3f3af7da-9611-47e7-9629-2f989de5d9e4"
   },
   "outputs": [
    {
     "name": "stdout",
     "output_type": "stream",
     "text": [
      "Requirement already satisfied: importlib-metadata>=0.20 in /usr/local/lib/python3.7/dist-packages (from catalogue<1.1.0,>=0.0.7->spacy) (4.11.1)\n",
      "Requirement already satisfied: typing-extensions>=3.6.4 in /usr/local/lib/python3.7/dist-packages (from importlib-metadata>=0.20->catalogue<1.1.0,>=0.0.7->spacy) (3.10.0.2)\n",
      "Requirement already satisfied: zipp>=0.5 in /usr/local/lib/python3.7/dist-packages (from importlib-metadata>=0.20->catalogue<1.1.0,>=0.0.7->spacy) (3.7.0)\n",
      "Requirement already satisfied: certifi>=2017.4.17 in /usr/local/lib/python3.7/dist-packages (from requests<3.0.0,>=2.13.0->spacy) (2021.10.8)\n",
      "Requirement already satisfied: chardet<4,>=3.0.2 in /usr/local/lib/python3.7/dist-packages (from requests<3.0.0,>=2.13.0->spacy) (3.0.4)\n",
      "Requirement already satisfied: urllib3!=1.25.0,!=1.25.1,<1.26,>=1.21.1 in /usr/local/lib/python3.7/dist-packages (from requests<3.0.0,>=2.13.0->spacy) (1.24.3)\n",
      "Requirement already satisfied: idna<3,>=2.5 in /usr/local/lib/python3.7/dist-packages (from requests<3.0.0,>=2.13.0->spacy) (2.10)\n",
      "Requirement already satisfied: gensim in /usr/local/lib/python3.7/dist-packages (3.6.0)\n",
      "Requirement already satisfied: scipy>=0.18.1 in /usr/local/lib/python3.7/dist-packages (from gensim) (1.4.1)\n",
      "Requirement already satisfied: six>=1.5.0 in /usr/local/lib/python3.7/dist-packages (from gensim) (1.15.0)\n",
      "Requirement already satisfied: smart-open>=1.2.1 in /usr/local/lib/python3.7/dist-packages (from gensim) (5.2.1)\n",
      "Requirement already satisfied: numpy>=1.11.3 in /usr/local/lib/python3.7/dist-packages (from gensim) (1.21.5)\n",
      "Collecting fastapi\n",
      "  Downloading fastapi-0.74.1-py3-none-any.whl (53 kB)\n",
      "\u001b[K     |████████████████████████████████| 53 kB 1.8 MB/s \n",
      "\u001b[?25hCollecting pydantic!=1.7,!=1.7.1,!=1.7.2,!=1.7.3,!=1.8,!=1.8.1,<2.0.0,>=1.6.2\n",
      "  Downloading pydantic-1.9.0-cp37-cp37m-manylinux_2_17_x86_64.manylinux2014_x86_64.whl (10.9 MB)\n",
      "\u001b[K     |████████████████████████████████| 10.9 MB 17.4 MB/s \n",
      "\u001b[?25hCollecting starlette==0.17.1\n",
      "  Downloading starlette-0.17.1-py3-none-any.whl (58 kB)\n",
      "\u001b[K     |████████████████████████████████| 58 kB 1.9 MB/s \n",
      "\u001b[?25hRequirement already satisfied: typing-extensions in /usr/local/lib/python3.7/dist-packages (from starlette==0.17.1->fastapi) (3.10.0.2)\n",
      "Collecting anyio<4,>=3.0.0\n",
      "  Downloading anyio-3.5.0-py3-none-any.whl (79 kB)\n",
      "\u001b[K     |████████████████████████████████| 79 kB 3.5 MB/s \n",
      "\u001b[?25hRequirement already satisfied: idna>=2.8 in /usr/local/lib/python3.7/dist-packages (from anyio<4,>=3.0.0->starlette==0.17.1->fastapi) (2.10)\n",
      "Collecting sniffio>=1.1\n",
      "  Downloading sniffio-1.2.0-py3-none-any.whl (10 kB)\n",
      "Installing collected packages: sniffio, anyio, starlette, pydantic, fastapi\n",
      "Successfully installed anyio-3.5.0 fastapi-0.74.1 pydantic-1.9.0 sniffio-1.2.0 starlette-0.17.1\n"
     ]
    }
   ],
   "source": [
    "!pip install tensorflow\n",
    "!pip install spacy\n",
    "!pip install gensim\n",
    "!pip install fastapi"
   ]
  },
  {
   "cell_type": "code",
   "execution_count": null,
   "metadata": {
    "id": "AYRe4mDfoKyY"
   },
   "outputs": [],
   "source": [
    "#!pip install pickle5\n",
    "#import pickle5 as pickle\n",
    "# from google.colab import drive\n",
    "# drive.mount('/content/gdrive')\n",
    "# DATA_PATH = \"\""
   ]
  },
  {
   "cell_type": "code",
   "execution_count": null,
   "metadata": {
    "id": "MUh6WZPloAoZ"
   },
   "outputs": [],
   "source": [
    "import tensorflow as tf\n",
    "import pandas as pd \n",
    "import numpy as np \n",
    "import matplotlib.pyplot as plt\n",
    "\n",
    "import spacy\n",
    "import gensim\n",
    "\n",
    "import sklearn\n",
    "import scipy\n",
    "import os\n",
    "import json\n",
    "import csv\n",
    "import string"
   ]
  },
  {
   "cell_type": "code",
   "execution_count": null,
   "metadata": {
    "colab": {
     "base_uri": "https://localhost:8080/"
    },
    "id": "_B_i5rAhQOIW",
    "outputId": "290e1367-6ef4-4458-810f-b4133ab529fb"
   },
   "outputs": [
    {
     "name": "stdout",
     "output_type": "stream",
     "text": [
      "Drive already mounted at /content/drive; to attempt to forcibly remount, call drive.mount(\"/content/drive\", force_remount=True).\n"
     ]
    }
   ],
   "source": [
    "from google.colab import drive\n",
    "drive.mount('/content/drive')"
   ]
  },
  {
   "cell_type": "code",
   "execution_count": null,
   "metadata": {
    "colab": {
     "base_uri": "https://localhost:8080/"
    },
    "id": "nT_SdX8OIRXv",
    "outputId": "f76397fa-0244-4769-ad04-cdec122bf36d"
   },
   "outputs": [
    {
     "name": "stdout",
     "output_type": "stream",
     "text": [
      "/content\n"
     ]
    }
   ],
   "source": [
    "!pwd"
   ]
  },
  {
   "cell_type": "code",
   "execution_count": null,
   "metadata": {
    "id": "ts3m5ZXaIODJ"
   },
   "outputs": [],
   "source": [
    "#Prvi dataset koji nam treba\n",
    "df = pd.read_csv(\"drive/MyDrive/food-related.csv\")"
   ]
  },
  {
   "cell_type": "code",
   "execution_count": null,
   "metadata": {
    "colab": {
     "base_uri": "https://localhost:8080/",
     "height": 206
    },
    "id": "CmtOMdWPIN5o",
    "outputId": "cd4eefae-3b0e-41e3-d4ca-55eb49b61e06"
   },
   "outputs": [
    {
     "data": {
      "text/html": [
       "\n",
       "  <div id=\"df-fbf32b0b-bba0-4caa-a8de-5fdc25182ff3\">\n",
       "    <div class=\"colab-df-container\">\n",
       "      <div>\n",
       "<style scoped>\n",
       "    .dataframe tbody tr th:only-of-type {\n",
       "        vertical-align: middle;\n",
       "    }\n",
       "\n",
       "    .dataframe tbody tr th {\n",
       "        vertical-align: top;\n",
       "    }\n",
       "\n",
       "    .dataframe thead th {\n",
       "        text-align: right;\n",
       "    }\n",
       "</style>\n",
       "<table border=\"1\" class=\"dataframe\">\n",
       "  <thead>\n",
       "    <tr style=\"text-align: right;\">\n",
       "      <th></th>\n",
       "      <th>a-yeast</th>\n",
       "    </tr>\n",
       "  </thead>\n",
       "  <tbody>\n",
       "    <tr>\n",
       "      <th>0</th>\n",
       "      <td>aai</td>\n",
       "    </tr>\n",
       "    <tr>\n",
       "      <th>1</th>\n",
       "      <td>abalone</td>\n",
       "    </tr>\n",
       "    <tr>\n",
       "      <th>2</th>\n",
       "      <td>abba-zaba</td>\n",
       "    </tr>\n",
       "    <tr>\n",
       "      <th>3</th>\n",
       "      <td>abbreviations</td>\n",
       "    </tr>\n",
       "    <tr>\n",
       "      <th>4</th>\n",
       "      <td>abietate</td>\n",
       "    </tr>\n",
       "  </tbody>\n",
       "</table>\n",
       "</div>\n",
       "      <button class=\"colab-df-convert\" onclick=\"convertToInteractive('df-fbf32b0b-bba0-4caa-a8de-5fdc25182ff3')\"\n",
       "              title=\"Convert this dataframe to an interactive table.\"\n",
       "              style=\"display:none;\">\n",
       "        \n",
       "  <svg xmlns=\"http://www.w3.org/2000/svg\" height=\"24px\"viewBox=\"0 0 24 24\"\n",
       "       width=\"24px\">\n",
       "    <path d=\"M0 0h24v24H0V0z\" fill=\"none\"/>\n",
       "    <path d=\"M18.56 5.44l.94 2.06.94-2.06 2.06-.94-2.06-.94-.94-2.06-.94 2.06-2.06.94zm-11 1L8.5 8.5l.94-2.06 2.06-.94-2.06-.94L8.5 2.5l-.94 2.06-2.06.94zm10 10l.94 2.06.94-2.06 2.06-.94-2.06-.94-.94-2.06-.94 2.06-2.06.94z\"/><path d=\"M17.41 7.96l-1.37-1.37c-.4-.4-.92-.59-1.43-.59-.52 0-1.04.2-1.43.59L10.3 9.45l-7.72 7.72c-.78.78-.78 2.05 0 2.83L4 21.41c.39.39.9.59 1.41.59.51 0 1.02-.2 1.41-.59l7.78-7.78 2.81-2.81c.8-.78.8-2.07 0-2.86zM5.41 20L4 18.59l7.72-7.72 1.47 1.35L5.41 20z\"/>\n",
       "  </svg>\n",
       "      </button>\n",
       "      \n",
       "  <style>\n",
       "    .colab-df-container {\n",
       "      display:flex;\n",
       "      flex-wrap:wrap;\n",
       "      gap: 12px;\n",
       "    }\n",
       "\n",
       "    .colab-df-convert {\n",
       "      background-color: #E8F0FE;\n",
       "      border: none;\n",
       "      border-radius: 50%;\n",
       "      cursor: pointer;\n",
       "      display: none;\n",
       "      fill: #1967D2;\n",
       "      height: 32px;\n",
       "      padding: 0 0 0 0;\n",
       "      width: 32px;\n",
       "    }\n",
       "\n",
       "    .colab-df-convert:hover {\n",
       "      background-color: #E2EBFA;\n",
       "      box-shadow: 0px 1px 2px rgba(60, 64, 67, 0.3), 0px 1px 3px 1px rgba(60, 64, 67, 0.15);\n",
       "      fill: #174EA6;\n",
       "    }\n",
       "\n",
       "    [theme=dark] .colab-df-convert {\n",
       "      background-color: #3B4455;\n",
       "      fill: #D2E3FC;\n",
       "    }\n",
       "\n",
       "    [theme=dark] .colab-df-convert:hover {\n",
       "      background-color: #434B5C;\n",
       "      box-shadow: 0px 1px 3px 1px rgba(0, 0, 0, 0.15);\n",
       "      filter: drop-shadow(0px 1px 2px rgba(0, 0, 0, 0.3));\n",
       "      fill: #FFFFFF;\n",
       "    }\n",
       "  </style>\n",
       "\n",
       "      <script>\n",
       "        const buttonEl =\n",
       "          document.querySelector('#df-fbf32b0b-bba0-4caa-a8de-5fdc25182ff3 button.colab-df-convert');\n",
       "        buttonEl.style.display =\n",
       "          google.colab.kernel.accessAllowed ? 'block' : 'none';\n",
       "\n",
       "        async function convertToInteractive(key) {\n",
       "          const element = document.querySelector('#df-fbf32b0b-bba0-4caa-a8de-5fdc25182ff3');\n",
       "          const dataTable =\n",
       "            await google.colab.kernel.invokeFunction('convertToInteractive',\n",
       "                                                     [key], {});\n",
       "          if (!dataTable) return;\n",
       "\n",
       "          const docLinkHtml = 'Like what you see? Visit the ' +\n",
       "            '<a target=\"_blank\" href=https://colab.research.google.com/notebooks/data_table.ipynb>data table notebook</a>'\n",
       "            + ' to learn more about interactive tables.';\n",
       "          element.innerHTML = '';\n",
       "          dataTable['output_type'] = 'display_data';\n",
       "          await google.colab.output.renderOutput(dataTable, element);\n",
       "          const docLink = document.createElement('div');\n",
       "          docLink.innerHTML = docLinkHtml;\n",
       "          element.appendChild(docLink);\n",
       "        }\n",
       "      </script>\n",
       "    </div>\n",
       "  </div>\n",
       "  "
      ],
      "text/plain": [
       "         a-yeast\n",
       "0            aai\n",
       "1        abalone\n",
       "2      abba-zaba\n",
       "3  abbreviations\n",
       "4       abietate"
      ]
     },
     "execution_count": 8,
     "metadata": {},
     "output_type": "execute_result"
    }
   ],
   "source": [
    "df.head()"
   ]
  },
  {
   "cell_type": "code",
   "execution_count": null,
   "metadata": {
    "colab": {
     "base_uri": "https://localhost:8080/",
     "height": 206
    },
    "id": "EM85zuLmNBNt",
    "outputId": "eb075c63-7031-4de8-d396-aab5d7a5a4c4"
   },
   "outputs": [
    {
     "data": {
      "text/html": [
       "\n",
       "  <div id=\"df-5c1bcd54-66c8-4e4c-b321-68e673344698\">\n",
       "    <div class=\"colab-df-container\">\n",
       "      <div>\n",
       "<style scoped>\n",
       "    .dataframe tbody tr th:only-of-type {\n",
       "        vertical-align: middle;\n",
       "    }\n",
       "\n",
       "    .dataframe tbody tr th {\n",
       "        vertical-align: top;\n",
       "    }\n",
       "\n",
       "    .dataframe thead th {\n",
       "        text-align: right;\n",
       "    }\n",
       "</style>\n",
       "<table border=\"1\" class=\"dataframe\">\n",
       "  <thead>\n",
       "    <tr style=\"text-align: right;\">\n",
       "      <th></th>\n",
       "      <th>a-yeast</th>\n",
       "    </tr>\n",
       "  </thead>\n",
       "  <tbody>\n",
       "    <tr>\n",
       "      <th>7126</th>\n",
       "      <td>zinger</td>\n",
       "    </tr>\n",
       "    <tr>\n",
       "      <th>7127</th>\n",
       "      <td>zip-a-dee</td>\n",
       "    </tr>\n",
       "    <tr>\n",
       "      <th>7128</th>\n",
       "      <td>ziploc</td>\n",
       "    </tr>\n",
       "    <tr>\n",
       "      <th>7129</th>\n",
       "      <td>zodicarbonamide</td>\n",
       "    </tr>\n",
       "    <tr>\n",
       "      <th>7130</th>\n",
       "      <td>zucchini</td>\n",
       "    </tr>\n",
       "  </tbody>\n",
       "</table>\n",
       "</div>\n",
       "      <button class=\"colab-df-convert\" onclick=\"convertToInteractive('df-5c1bcd54-66c8-4e4c-b321-68e673344698')\"\n",
       "              title=\"Convert this dataframe to an interactive table.\"\n",
       "              style=\"display:none;\">\n",
       "        \n",
       "  <svg xmlns=\"http://www.w3.org/2000/svg\" height=\"24px\"viewBox=\"0 0 24 24\"\n",
       "       width=\"24px\">\n",
       "    <path d=\"M0 0h24v24H0V0z\" fill=\"none\"/>\n",
       "    <path d=\"M18.56 5.44l.94 2.06.94-2.06 2.06-.94-2.06-.94-.94-2.06-.94 2.06-2.06.94zm-11 1L8.5 8.5l.94-2.06 2.06-.94-2.06-.94L8.5 2.5l-.94 2.06-2.06.94zm10 10l.94 2.06.94-2.06 2.06-.94-2.06-.94-.94-2.06-.94 2.06-2.06.94z\"/><path d=\"M17.41 7.96l-1.37-1.37c-.4-.4-.92-.59-1.43-.59-.52 0-1.04.2-1.43.59L10.3 9.45l-7.72 7.72c-.78.78-.78 2.05 0 2.83L4 21.41c.39.39.9.59 1.41.59.51 0 1.02-.2 1.41-.59l7.78-7.78 2.81-2.81c.8-.78.8-2.07 0-2.86zM5.41 20L4 18.59l7.72-7.72 1.47 1.35L5.41 20z\"/>\n",
       "  </svg>\n",
       "      </button>\n",
       "      \n",
       "  <style>\n",
       "    .colab-df-container {\n",
       "      display:flex;\n",
       "      flex-wrap:wrap;\n",
       "      gap: 12px;\n",
       "    }\n",
       "\n",
       "    .colab-df-convert {\n",
       "      background-color: #E8F0FE;\n",
       "      border: none;\n",
       "      border-radius: 50%;\n",
       "      cursor: pointer;\n",
       "      display: none;\n",
       "      fill: #1967D2;\n",
       "      height: 32px;\n",
       "      padding: 0 0 0 0;\n",
       "      width: 32px;\n",
       "    }\n",
       "\n",
       "    .colab-df-convert:hover {\n",
       "      background-color: #E2EBFA;\n",
       "      box-shadow: 0px 1px 2px rgba(60, 64, 67, 0.3), 0px 1px 3px 1px rgba(60, 64, 67, 0.15);\n",
       "      fill: #174EA6;\n",
       "    }\n",
       "\n",
       "    [theme=dark] .colab-df-convert {\n",
       "      background-color: #3B4455;\n",
       "      fill: #D2E3FC;\n",
       "    }\n",
       "\n",
       "    [theme=dark] .colab-df-convert:hover {\n",
       "      background-color: #434B5C;\n",
       "      box-shadow: 0px 1px 3px 1px rgba(0, 0, 0, 0.15);\n",
       "      filter: drop-shadow(0px 1px 2px rgba(0, 0, 0, 0.3));\n",
       "      fill: #FFFFFF;\n",
       "    }\n",
       "  </style>\n",
       "\n",
       "      <script>\n",
       "        const buttonEl =\n",
       "          document.querySelector('#df-5c1bcd54-66c8-4e4c-b321-68e673344698 button.colab-df-convert');\n",
       "        buttonEl.style.display =\n",
       "          google.colab.kernel.accessAllowed ? 'block' : 'none';\n",
       "\n",
       "        async function convertToInteractive(key) {\n",
       "          const element = document.querySelector('#df-5c1bcd54-66c8-4e4c-b321-68e673344698');\n",
       "          const dataTable =\n",
       "            await google.colab.kernel.invokeFunction('convertToInteractive',\n",
       "                                                     [key], {});\n",
       "          if (!dataTable) return;\n",
       "\n",
       "          const docLinkHtml = 'Like what you see? Visit the ' +\n",
       "            '<a target=\"_blank\" href=https://colab.research.google.com/notebooks/data_table.ipynb>data table notebook</a>'\n",
       "            + ' to learn more about interactive tables.';\n",
       "          element.innerHTML = '';\n",
       "          dataTable['output_type'] = 'display_data';\n",
       "          await google.colab.output.renderOutput(dataTable, element);\n",
       "          const docLink = document.createElement('div');\n",
       "          docLink.innerHTML = docLinkHtml;\n",
       "          element.appendChild(docLink);\n",
       "        }\n",
       "      </script>\n",
       "    </div>\n",
       "  </div>\n",
       "  "
      ],
      "text/plain": [
       "              a-yeast\n",
       "7126           zinger\n",
       "7127        zip-a-dee\n",
       "7128           ziploc\n",
       "7129  zodicarbonamide\n",
       "7130         zucchini"
      ]
     },
     "execution_count": 9,
     "metadata": {},
     "output_type": "execute_result"
    }
   ],
   "source": [
    "df.tail()"
   ]
  },
  {
   "cell_type": "code",
   "execution_count": null,
   "metadata": {
    "colab": {
     "base_uri": "https://localhost:8080/"
    },
    "id": "6TpU-NuEM0E1",
    "outputId": "c498497e-6928-422e-ce9e-dafafa9084d7"
   },
   "outputs": [
    {
     "data": {
      "text/plain": [
       "(7131, 1)"
      ]
     },
     "execution_count": 10,
     "metadata": {},
     "output_type": "execute_result"
    }
   ],
   "source": [
    "df.shape"
   ]
  },
  {
   "cell_type": "code",
   "execution_count": null,
   "metadata": {
    "colab": {
     "base_uri": "https://localhost:8080/"
    },
    "id": "ZNLAbWH1pL64",
    "outputId": "b10def1f-8c95-4d21-cd17-f0298f8f66d6"
   },
   "outputs": [
    {
     "name": "stdout",
     "output_type": "stream",
     "text": [
      "<class 'pandas.core.frame.DataFrame'>\n",
      "RangeIndex: 7131 entries, 0 to 7130\n",
      "Data columns (total 1 columns):\n",
      " #   Column   Non-Null Count  Dtype \n",
      "---  ------   --------------  ----- \n",
      " 0   a-yeast  7129 non-null   object\n",
      "dtypes: object(1)\n",
      "memory usage: 55.8+ KB\n"
     ]
    }
   ],
   "source": [
    "df.info()"
   ]
  },
  {
   "cell_type": "code",
   "execution_count": null,
   "metadata": {
    "id": "RS6C8cyYpXrm"
   },
   "outputs": [],
   "source": [
    "df.drop_duplicates(inplace=True)\n",
    "df.dropna(inplace=True)"
   ]
  },
  {
   "cell_type": "code",
   "execution_count": null,
   "metadata": {
    "colab": {
     "base_uri": "https://localhost:8080/"
    },
    "id": "YCk380qipt-_",
    "outputId": "9c4c9b3e-c964-480e-fe5c-f17db3f5140b"
   },
   "outputs": [
    {
     "name": "stdout",
     "output_type": "stream",
     "text": [
      "<class 'pandas.core.frame.DataFrame'>\n",
      "Int64Index: 7122 entries, 0 to 7130\n",
      "Data columns (total 1 columns):\n",
      " #   Column   Non-Null Count  Dtype \n",
      "---  ------   --------------  ----- \n",
      " 0   a-yeast  7122 non-null   object\n",
      "dtypes: object(1)\n",
      "memory usage: 111.3+ KB\n"
     ]
    }
   ],
   "source": [
    "df.info()"
   ]
  },
  {
   "cell_type": "code",
   "execution_count": null,
   "metadata": {
    "colab": {
     "base_uri": "https://localhost:8080/"
    },
    "id": "tDT5Dt2zMgKO",
    "outputId": "0368f4ac-e437-4b7c-ba23-adb9f302c6c2"
   },
   "outputs": [
    {
     "data": {
      "text/plain": [
       "a-yeast                       \n",
       "TRUE                              1\n",
       "pasteurize                        1\n",
       "patties                           1\n",
       "patrially                         1\n",
       "patients                          1\n",
       "                                 ..\n",
       "fatgcholestrol                    1\n",
       "fatgcholesterolmgsodiummgtotal    1\n",
       "fatgcholesterolmgsodium           1\n",
       "fatgcholesterolgsodium            1\n",
       "zucchini                          1\n",
       "Length: 7122, dtype: int64"
      ]
     },
     "execution_count": 14,
     "metadata": {},
     "output_type": "execute_result"
    }
   ],
   "source": [
    "df.value_counts()"
   ]
  },
  {
   "cell_type": "code",
   "execution_count": null,
   "metadata": {
    "id": "1TxhAtrKIrgh"
   },
   "outputs": [],
   "source": [
    "#Drugi dataset koji nam treba\n",
    "with open(\"drive/MyDrive/TM-2-2020/data/food-ordering.json\") as f:\n",
    "    food_related = json.load(f)"
   ]
  },
  {
   "cell_type": "code",
   "execution_count": null,
   "metadata": {
    "id": "iIFZOneMJeYv"
   },
   "outputs": [],
   "source": [
    "#Treći dataset koji nam treba\n",
    "with open(\"drive/MyDrive/TM-2-2020/data/restaurant-search.json\") as f:\n",
    "    restaurant_search = json.load(f)"
   ]
  },
  {
   "cell_type": "code",
   "execution_count": null,
   "metadata": {
    "colab": {
     "base_uri": "https://localhost:8080/"
    },
    "id": "o3bX4fM7MDY1",
    "outputId": "5cf41919-fe2b-4205-c8a4-345b87c8f379"
   },
   "outputs": [
    {
     "data": {
      "text/plain": [
       "(1050, 3276)"
      ]
     },
     "execution_count": 17,
     "metadata": {},
     "output_type": "execute_result"
    }
   ],
   "source": [
    "len(food_related), len(restaurant_search)"
   ]
  },
  {
   "cell_type": "code",
   "execution_count": null,
   "metadata": {
    "id": "eIcwAJmoj2Gp"
   },
   "outputs": [],
   "source": [
    "### ČITANJE JSONA: \n",
    "def read_food_json(filepath):\n",
    "    with open(filepath) as f:\n",
    "        data = json.loads(f.read())\n",
    "\n",
    "    texts = []\n",
    "    foods = []\n",
    "    labels = []\n",
    "    for conversation in data:\n",
    "        utterances = conversation['utterances']\n",
    "        for utterance in utterances:\n",
    "            text = utterance['text']\n",
    "            texts.append(text) # ok\n",
    "\n",
    "            try:\n",
    "                fs = []\n",
    "                anns = []\n",
    "                for segment in utterance['segments']:\n",
    "                    food_words = segment['text']\n",
    "                    fs.append(food_words)\n",
    "                    annotations = segment['annotations']\n",
    "                    for annotation in annotations:\n",
    "                        anns.append(annotation['name'])\n",
    "                foods.append(fs)\n",
    "                labels.append(anns)\n",
    "            except KeyError:\n",
    "                foods.append([])\n",
    "                labels.append([])\n",
    "                continue\n",
    "\n",
    "    assert len(texts) == len(foods) == len(labels)\n",
    "    return texts, foods, labels"
   ]
  },
  {
   "cell_type": "code",
   "execution_count": null,
   "metadata": {
    "id": "thzImGfoj16p"
   },
   "outputs": [],
   "source": [
    "#fo_texts (skraćeno od food-ordering texts). Isto vrijedi i za ostale.\n",
    "fo_texts, fo_foods, fo_labels = read_food_json(\"drive/MyDrive/TM-2-2020/data/food-ordering.json\")"
   ]
  },
  {
   "cell_type": "code",
   "execution_count": null,
   "metadata": {
    "id": "DMFZu7Xuj1vR"
   },
   "outputs": [],
   "source": [
    "rs_texts, rs_foods, rs_labels = read_food_json(\"drive/MyDrive/TM-2-2020/data/restaurant-search.json\")"
   ]
  },
  {
   "cell_type": "code",
   "execution_count": null,
   "metadata": {
    "colab": {
     "base_uri": "https://localhost:8080/"
    },
    "id": "9uOsGsFrlpLh",
    "outputId": "828bc717-1466-4f69-e7ee-092692c4fdab"
   },
   "outputs": [
    {
     "name": "stdout",
     "output_type": "stream",
     "text": [
      "<class 'list'>\n"
     ]
    },
    {
     "data": {
      "text/plain": [
       "['Hi.',\n",
       " 'How can I help you?',\n",
       " 'What would you like to order in Barbecue?',\n",
       " \"Yeah, I'd like to get a rack of ribs.\",\n",
       " 'What kind of sides can I get with that?']"
      ]
     },
     "execution_count": 21,
     "metadata": {},
     "output_type": "execute_result"
    }
   ],
   "source": [
    "#fo_texts bit će ulaz u model (nakon što se prethodno predprocesira). Ostale fo_foods, fo_labels, rs_texts, rs_foods i rs_labels nećemo koristiti\n",
    "print(type(fo_texts))\n",
    "fo_texts[:5]"
   ]
  },
  {
   "cell_type": "code",
   "execution_count": null,
   "metadata": {
    "colab": {
     "base_uri": "https://localhost:8080/"
    },
    "id": "GBRWR3LL28V_",
    "outputId": "1b859f5d-6ee1-44d8-9960-1ef170497f9a"
   },
   "outputs": [
    {
     "data": {
      "text/plain": [
       "[[], [], ['Barbecue'], ['a rack of ribs'], []]"
      ]
     },
     "execution_count": 22,
     "metadata": {},
     "output_type": "execute_result"
    }
   ],
   "source": [
    "fo_foods[:5]"
   ]
  },
  {
   "cell_type": "code",
   "execution_count": null,
   "metadata": {
    "colab": {
     "base_uri": "https://localhost:8080/"
    },
    "id": "pjJHDhcIqgkW",
    "outputId": "77750149-54ea-45c2-d146-4b0217c85aad"
   },
   "outputs": [
    {
     "data": {
      "text/plain": [
       "[[], [], ['food_order.type.food'], ['food_order.name.item'], []]"
      ]
     },
     "execution_count": 23,
     "metadata": {},
     "output_type": "execute_result"
    }
   ],
   "source": [
    "fo_labels[:5]"
   ]
  },
  {
   "cell_type": "code",
   "execution_count": null,
   "metadata": {
    "colab": {
     "base_uri": "https://localhost:8080/"
    },
    "id": "-jT83qXFoC9W",
    "outputId": "08db107e-215b-4cf2-d14e-2da5f5b02f74"
   },
   "outputs": [
    {
     "data": {
      "text/plain": [
       "13953"
      ]
     },
     "execution_count": 38,
     "metadata": {},
     "output_type": "execute_result"
    }
   ],
   "source": [
    "len(fo_texts)"
   ]
  },
  {
   "cell_type": "code",
   "execution_count": null,
   "metadata": {
    "id": "Y-Spxz35qyid"
   },
   "outputs": [],
   "source": [
    "!python -m spacy download en_core_web_lg"
   ]
  },
  {
   "cell_type": "markdown",
   "metadata": {
    "id": "d95jAwnetu2C"
   },
   "source": [
    "##Restartaj runtime"
   ]
  },
  {
   "cell_type": "code",
   "execution_count": null,
   "metadata": {
    "id": "dL7v3N70tv9R"
   },
   "outputs": [],
   "source": [
    "nlp = spacy.load(\"en_core_web_lg\")"
   ]
  },
  {
   "cell_type": "code",
   "execution_count": null,
   "metadata": {
    "id": "wpfDuDHXq0EF"
   },
   "outputs": [],
   "source": [
    "# Prvo ćemo pripremiti oznake/labele/targete, tj. ono što želimo da model predviđa, ono što će biti njegov izlaz. Njih ćemo spremiti u listu fo_texts_labels."
   ]
  },
  {
   "cell_type": "code",
   "execution_count": null,
   "metadata": {
    "id": "GFITxqpqlpBw"
   },
   "outputs": [],
   "source": [
    "#Ovo traje cca 2 minute i 24 sekunde na Colabu. \"sequence\" se može nazvati i sentence i row. Uglavnom, to se odnosi na naš jedan data point/instancu/sample/entitet (njih ima 13953)\n",
    "for sequence in fo_texts:\n",
    "  tmp_list = []\n",
    "  doc = nlp(sequence)\n",
    "  for token in doc:\n",
    "    if token.text in df[\"a-yeast\"].values:\n",
    "      tmp_list.append(1)\n",
    "    else:\n",
    "      tmp_list.append(0)\n",
    "  fo_texts_labels.append(tmp_list)"
   ]
  },
  {
   "cell_type": "code",
   "execution_count": null,
   "metadata": {
    "colab": {
     "base_uri": "https://localhost:8080/"
    },
    "id": "7XaviHkskQSo",
    "outputId": "19278030-902d-410d-ac69-aa7004337ea8"
   },
   "outputs": [
    {
     "data": {
      "text/plain": [
       "[[0, 0],\n",
       " [0, 1, 0, 1, 0, 0],\n",
       " [0, 0, 0, 1, 1, 1, 1, 0, 0],\n",
       " [0, 0, 0, 0, 1, 1, 1, 0, 0, 1, 0, 0],\n",
       " [0, 1, 1, 0, 1, 0, 1, 0, 0, 0]]"
      ]
     },
     "execution_count": 29,
     "metadata": {},
     "output_type": "execute_result"
    }
   ],
   "source": [
    "fo_texts_labels[:5]"
   ]
  },
  {
   "cell_type": "code",
   "execution_count": null,
   "metadata": {
    "colab": {
     "base_uri": "https://localhost:8080/"
    },
    "id": "MebtZN4wkQDJ",
    "outputId": "a5f22135-7070-4132-d5af-2950308aed79"
   },
   "outputs": [
    {
     "data": {
      "text/plain": [
       "13953"
      ]
     },
     "execution_count": 32,
     "metadata": {},
     "output_type": "execute_result"
    }
   ],
   "source": [
    "len(fo_texts_labels)"
   ]
  },
  {
   "cell_type": "code",
   "execution_count": null,
   "metadata": {
    "id": "bs7ogTbfwD6c"
   },
   "outputs": [],
   "source": [
    "max_seq_len = len(fo_texts_labels[0])"
   ]
  },
  {
   "cell_type": "code",
   "execution_count": null,
   "metadata": {
    "id": "kHYRd5iSwbrC"
   },
   "outputs": [],
   "source": [
    "for i in range(1, len(fo_texts_labels)):\n",
    "  sequence = fo_texts_labels[i]\n",
    "  if len(sequence) > max_seq_len:\n",
    "    max_seq_len = len(sequence)"
   ]
  },
  {
   "cell_type": "code",
   "execution_count": null,
   "metadata": {
    "colab": {
     "base_uri": "https://localhost:8080/"
    },
    "id": "YUuzV4xbw3PK",
    "outputId": "c38f37c2-a195-4f2e-ffe5-c1e306873407"
   },
   "outputs": [
    {
     "data": {
      "text/plain": [
       "116"
      ]
     },
     "execution_count": 37,
     "metadata": {},
     "output_type": "execute_result"
    }
   ],
   "source": [
    "max_seq_len"
   ]
  },
  {
   "cell_type": "code",
   "execution_count": null,
   "metadata": {
    "id": "lLYf0qoIyoqq"
   },
   "outputs": [],
   "source": [
    "#Treba napraviti padding, tj. popuniti redove iz \"fo_texts_labels\" s dvojkama (2) tako da svi imaju isti broj stupaca, ato je 116 (max_seq_len)\n",
    "fo_texts_labels_padded = []\n",
    "\n",
    "for sequence in fo_texts_labels:\n",
    "  current_seq_len = len(sequence)\n",
    "  if current_seq_len < max_seq_len:\n",
    "    fo_texts_labels_padded.append(sequence+(max_seq_len-current_seq_len)*[2])\n",
    "  else:\n",
    "    fo_texts_labels_padded.append(sequence)"
   ]
  },
  {
   "cell_type": "code",
   "execution_count": null,
   "metadata": {
    "colab": {
     "base_uri": "https://localhost:8080/"
    },
    "id": "qycIvq7tyogp",
    "outputId": "d1d80932-7fe7-4200-9e99-495ad9e4902a"
   },
   "outputs": [
    {
     "data": {
      "text/plain": [
       "13953"
      ]
     },
     "execution_count": 42,
     "metadata": {},
     "output_type": "execute_result"
    }
   ],
   "source": [
    "# Ispisuje broj redaka\n",
    "len(fo_texts_labels_padded)"
   ]
  },
  {
   "cell_type": "code",
   "execution_count": null,
   "metadata": {
    "colab": {
     "base_uri": "https://localhost:8080/"
    },
    "id": "i5NEzKGIps4_",
    "outputId": "7124be76-5334-4129-f543-4daaed000116"
   },
   "outputs": [
    {
     "data": {
      "text/plain": [
       "116"
      ]
     },
     "execution_count": 43,
     "metadata": {},
     "output_type": "execute_result"
    }
   ],
   "source": [
    "# Ispisuje broj stupaca\n",
    "len(fo_texts_labels_padded[0])"
   ]
  },
  {
   "cell_type": "markdown",
   "metadata": {
    "id": "6vsnmF_5zJY_"
   },
   "source": [
    "### Oznake/labele su pripremljene, sada je još potrebno pripremiti X, tj. ulaz u naš model, a to će se napraviti tako da se vektorizira text iz varijable/liste \"fo_texts\""
   ]
  },
  {
   "cell_type": "code",
   "execution_count": null,
   "metadata": {
    "id": "yOXp4B8BzKOE"
   },
   "outputs": [],
   "source": [
    "food_order_df = pd.DataFrame({\"texts\": fo_texts})"
   ]
  },
  {
   "cell_type": "code",
   "execution_count": null,
   "metadata": {
    "colab": {
     "base_uri": "https://localhost:8080/",
     "height": 206
    },
    "id": "cQcSLwsZKJ29",
    "outputId": "5cb5accf-fe2d-4b50-df3e-632d178a2571"
   },
   "outputs": [
    {
     "data": {
      "text/html": [
       "\n",
       "  <div id=\"df-8ca5d4ec-d80c-4886-806d-6c4e0b791d00\">\n",
       "    <div class=\"colab-df-container\">\n",
       "      <div>\n",
       "<style scoped>\n",
       "    .dataframe tbody tr th:only-of-type {\n",
       "        vertical-align: middle;\n",
       "    }\n",
       "\n",
       "    .dataframe tbody tr th {\n",
       "        vertical-align: top;\n",
       "    }\n",
       "\n",
       "    .dataframe thead th {\n",
       "        text-align: right;\n",
       "    }\n",
       "</style>\n",
       "<table border=\"1\" class=\"dataframe\">\n",
       "  <thead>\n",
       "    <tr style=\"text-align: right;\">\n",
       "      <th></th>\n",
       "      <th>texts</th>\n",
       "    </tr>\n",
       "  </thead>\n",
       "  <tbody>\n",
       "    <tr>\n",
       "      <th>0</th>\n",
       "      <td>Hi.</td>\n",
       "    </tr>\n",
       "    <tr>\n",
       "      <th>1</th>\n",
       "      <td>How can I help you?</td>\n",
       "    </tr>\n",
       "    <tr>\n",
       "      <th>2</th>\n",
       "      <td>What would you like to order in Barbecue?</td>\n",
       "    </tr>\n",
       "    <tr>\n",
       "      <th>3</th>\n",
       "      <td>Yeah, I'd like to get a rack of ribs.</td>\n",
       "    </tr>\n",
       "    <tr>\n",
       "      <th>4</th>\n",
       "      <td>What kind of sides can I get with that?</td>\n",
       "    </tr>\n",
       "  </tbody>\n",
       "</table>\n",
       "</div>\n",
       "      <button class=\"colab-df-convert\" onclick=\"convertToInteractive('df-8ca5d4ec-d80c-4886-806d-6c4e0b791d00')\"\n",
       "              title=\"Convert this dataframe to an interactive table.\"\n",
       "              style=\"display:none;\">\n",
       "        \n",
       "  <svg xmlns=\"http://www.w3.org/2000/svg\" height=\"24px\"viewBox=\"0 0 24 24\"\n",
       "       width=\"24px\">\n",
       "    <path d=\"M0 0h24v24H0V0z\" fill=\"none\"/>\n",
       "    <path d=\"M18.56 5.44l.94 2.06.94-2.06 2.06-.94-2.06-.94-.94-2.06-.94 2.06-2.06.94zm-11 1L8.5 8.5l.94-2.06 2.06-.94-2.06-.94L8.5 2.5l-.94 2.06-2.06.94zm10 10l.94 2.06.94-2.06 2.06-.94-2.06-.94-.94-2.06-.94 2.06-2.06.94z\"/><path d=\"M17.41 7.96l-1.37-1.37c-.4-.4-.92-.59-1.43-.59-.52 0-1.04.2-1.43.59L10.3 9.45l-7.72 7.72c-.78.78-.78 2.05 0 2.83L4 21.41c.39.39.9.59 1.41.59.51 0 1.02-.2 1.41-.59l7.78-7.78 2.81-2.81c.8-.78.8-2.07 0-2.86zM5.41 20L4 18.59l7.72-7.72 1.47 1.35L5.41 20z\"/>\n",
       "  </svg>\n",
       "      </button>\n",
       "      \n",
       "  <style>\n",
       "    .colab-df-container {\n",
       "      display:flex;\n",
       "      flex-wrap:wrap;\n",
       "      gap: 12px;\n",
       "    }\n",
       "\n",
       "    .colab-df-convert {\n",
       "      background-color: #E8F0FE;\n",
       "      border: none;\n",
       "      border-radius: 50%;\n",
       "      cursor: pointer;\n",
       "      display: none;\n",
       "      fill: #1967D2;\n",
       "      height: 32px;\n",
       "      padding: 0 0 0 0;\n",
       "      width: 32px;\n",
       "    }\n",
       "\n",
       "    .colab-df-convert:hover {\n",
       "      background-color: #E2EBFA;\n",
       "      box-shadow: 0px 1px 2px rgba(60, 64, 67, 0.3), 0px 1px 3px 1px rgba(60, 64, 67, 0.15);\n",
       "      fill: #174EA6;\n",
       "    }\n",
       "\n",
       "    [theme=dark] .colab-df-convert {\n",
       "      background-color: #3B4455;\n",
       "      fill: #D2E3FC;\n",
       "    }\n",
       "\n",
       "    [theme=dark] .colab-df-convert:hover {\n",
       "      background-color: #434B5C;\n",
       "      box-shadow: 0px 1px 3px 1px rgba(0, 0, 0, 0.15);\n",
       "      filter: drop-shadow(0px 1px 2px rgba(0, 0, 0, 0.3));\n",
       "      fill: #FFFFFF;\n",
       "    }\n",
       "  </style>\n",
       "\n",
       "      <script>\n",
       "        const buttonEl =\n",
       "          document.querySelector('#df-8ca5d4ec-d80c-4886-806d-6c4e0b791d00 button.colab-df-convert');\n",
       "        buttonEl.style.display =\n",
       "          google.colab.kernel.accessAllowed ? 'block' : 'none';\n",
       "\n",
       "        async function convertToInteractive(key) {\n",
       "          const element = document.querySelector('#df-8ca5d4ec-d80c-4886-806d-6c4e0b791d00');\n",
       "          const dataTable =\n",
       "            await google.colab.kernel.invokeFunction('convertToInteractive',\n",
       "                                                     [key], {});\n",
       "          if (!dataTable) return;\n",
       "\n",
       "          const docLinkHtml = 'Like what you see? Visit the ' +\n",
       "            '<a target=\"_blank\" href=https://colab.research.google.com/notebooks/data_table.ipynb>data table notebook</a>'\n",
       "            + ' to learn more about interactive tables.';\n",
       "          element.innerHTML = '';\n",
       "          dataTable['output_type'] = 'display_data';\n",
       "          await google.colab.output.renderOutput(dataTable, element);\n",
       "          const docLink = document.createElement('div');\n",
       "          docLink.innerHTML = docLinkHtml;\n",
       "          element.appendChild(docLink);\n",
       "        }\n",
       "      </script>\n",
       "    </div>\n",
       "  </div>\n",
       "  "
      ],
      "text/plain": [
       "                                       texts\n",
       "0                                        Hi.\n",
       "1                        How can I help you?\n",
       "2  What would you like to order in Barbecue?\n",
       "3      Yeah, I'd like to get a rack of ribs.\n",
       "4    What kind of sides can I get with that?"
      ]
     },
     "execution_count": 45,
     "metadata": {},
     "output_type": "execute_result"
    }
   ],
   "source": [
    "food_order_df.head()"
   ]
  },
  {
   "cell_type": "code",
   "execution_count": null,
   "metadata": {
    "id": "eZ06O_FwL4st"
   },
   "outputs": [],
   "source": [
    "#Placeholder za one tokene koji se ne nalaze u vokabularu/rječniku\n",
    "def get_placeholder_vector(d):\n",
    "  return np.ones(d)"
   ]
  },
  {
   "cell_type": "code",
   "execution_count": null,
   "metadata": {
    "id": "aNAeJiLWKUe-"
   },
   "outputs": [],
   "source": [
    "def spacy_parser(nlp, text):\n",
    "    # https://spacy.io/api/doc\n",
    "    doc = nlp(text)\n",
    "    tokens = []\n",
    "    vectors = []\n",
    "    # https://spacy.io/usage/linguistic-features#sbd\n",
    "    for token in doc:\n",
    "        # https://spacy.io/api/token\n",
    "        # https://spacy.io/usage/linguistic-features#lemmatization\n",
    "        # https://spacy.io/api/lemmatizer\n",
    "        # https://spacy.io/usage/linguistic-features#vectors-similarity\n",
    "\n",
    "        # print(token.text, token.has_vector, token.vector_norm, token.is_oov)\n",
    "        if token.has_vector:\n",
    "            vector = token.vector\n",
    "        else:\n",
    "            vector = get_placeholder_vector(300) # ((300,1) is the shape of the vector in Spacy)\n",
    "\n",
    "        tokens.append(token.text)\n",
    "        vectors.append(vector)\n",
    "    # print(\"tokens with no vectors:\", no_vector)\n",
    "    # if there is a very low count of vectors: https://spacy.io/usage/linguistic-features#adding-vectors \n",
    "    return tokens, vectors"
   ]
  },
  {
   "cell_type": "code",
   "execution_count": null,
   "metadata": {
    "id": "4D8Vuuo9nxY3"
   },
   "outputs": [],
   "source": [
    "#Ovo traje cca 2 minute i 7 sekundi na Colabu\n",
    "tokens = []\n",
    "embeddings = []\n",
    "for idx, row in food_order_df.iterrows():\n",
    "    t, v = spacy_parser(nlp, row[\"texts\"])\n",
    "    tokens.append(t) #Lista tokena\n",
    "    embeddings.append(v) #Lista embeddinga za svaki token"
   ]
  },
  {
   "cell_type": "code",
   "execution_count": null,
   "metadata": {
    "colab": {
     "base_uri": "https://localhost:8080/"
    },
    "id": "ZZjDPYU7iLxx",
    "outputId": "8cc713f2-bcc3-48ea-a3a8-623f319e4907"
   },
   "outputs": [
    {
     "name": "stderr",
     "output_type": "stream",
     "text": [
      "/usr/local/lib/python3.7/dist-packages/ipykernel_launcher.py:1: VisibleDeprecationWarning: Creating an ndarray from ragged nested sequences (which is a list-or-tuple of lists-or-tuples-or ndarrays with different lengths or shapes) is deprecated. If you meant to do this, you must specify 'dtype=object' when creating the ndarray.\n",
      "  \"\"\"Entry point for launching an IPython kernel.\n",
      "/usr/local/lib/python3.7/dist-packages/ipykernel_launcher.py:2: VisibleDeprecationWarning: Creating an ndarray from ragged nested sequences (which is a list-or-tuple of lists-or-tuples-or ndarrays with different lengths or shapes) is deprecated. If you meant to do this, you must specify 'dtype=object' when creating the ndarray.\n",
      "  \n"
     ]
    }
   ],
   "source": [
    "#Ovo nije toliko bitno\n",
    "\n",
    "#np.save(\"tokens.npy\", np.array(tokens))\n",
    "#np.save(\"vectors.npy\", np.array(vectors))"
   ]
  },
  {
   "cell_type": "code",
   "execution_count": null,
   "metadata": {
    "id": "REGO7G8GjiE4"
   },
   "outputs": [],
   "source": [
    "#Isto nije toliko bitno\n",
    "\n",
    "#tokens = np.load(\"tokens.npy\", allow_pickle=True)\n",
    "#vectors = np.load(\"vectors.npy\", allow_pickle=True)"
   ]
  },
  {
   "cell_type": "code",
   "execution_count": null,
   "metadata": {
    "colab": {
     "base_uri": "https://localhost:8080/"
    },
    "id": "4HX9_qspNCWU",
    "outputId": "0cab9fd9-59c0-4f00-c474-bd738d27e42e"
   },
   "outputs": [
    {
     "data": {
      "text/plain": [
       "13953"
      ]
     },
     "execution_count": 59,
     "metadata": {},
     "output_type": "execute_result"
    }
   ],
   "source": [
    "#Broj redaka (treba bi biti isto kao i prije)\n",
    "len(embeddings)"
   ]
  },
  {
   "cell_type": "code",
   "execution_count": null,
   "metadata": {
    "colab": {
     "base_uri": "https://localhost:8080/"
    },
    "id": "RjpJdRflNPM8",
    "outputId": "2829f116-4d40-4f78-98f5-7ea46adfc11b"
   },
   "outputs": [
    {
     "data": {
      "text/plain": [
       "2"
      ]
     },
     "execution_count": 60,
     "metadata": {},
     "output_type": "execute_result"
    }
   ],
   "source": [
    "#Broj tokena (to su embeddinzi, ali lakše je za ovaj primjer o njima razmišljati kao o tokenima) za prvi data point. Za prvi data point treba biti 2 zato što imamo \"Hi.\", a to su dva tokena: \"Hi\" i \".\"\n",
    "len(embeddings[0])"
   ]
  },
  {
   "cell_type": "code",
   "execution_count": null,
   "metadata": {
    "colab": {
     "base_uri": "https://localhost:8080/"
    },
    "id": "WtDV5okfTdwR",
    "outputId": "04586d38-0349-4e88-b6fe-b3e041798bb2"
   },
   "outputs": [
    {
     "data": {
      "text/plain": [
       "(2, 300)"
      ]
     },
     "execution_count": 61,
     "metadata": {},
     "output_type": "execute_result"
    }
   ],
   "source": [
    "#Svaki od njih ima dimenziju 300 zato što koristimo \"en_core_web_lg\" model čiji embeddinzi su dimenzije 300. Model \"en_core_web_sm\" koristi 96-dimenzijske embeddinge\n",
    "np.array(embeddings[0]).shape"
   ]
  },
  {
   "cell_type": "code",
   "execution_count": null,
   "metadata": {
    "id": "nhzLssVH16d8"
   },
   "outputs": [],
   "source": [
    "embedding_size=300"
   ]
  },
  {
   "cell_type": "code",
   "execution_count": null,
   "metadata": {
    "id": "YVyXGEIPSy1R"
   },
   "outputs": [],
   "source": [
    "#Treba opet napraviti padding do max_seq_len. Traje cca 40 sekundi\n",
    "padded_embeddings = []\n",
    "for embedding in embeddings:\n",
    "  tmp_paddings = []\n",
    "  embedding_len = len(embedding)\n",
    "  if embedding_len < max_seq_len:\n",
    "    for _ in range(max_seq_len-embedding_len):\n",
    "      tmp_paddings.append([0]*embedding_size)\n",
    "    padded_embeddings.append(np.concatenate((embedding, tmp_paddings), axis=0))\n",
    "  else:\n",
    "    padded_embeddings.append(embedding)"
   ]
  },
  {
   "cell_type": "code",
   "execution_count": null,
   "metadata": {
    "id": "QKiCMjJXahwm"
   },
   "outputs": [],
   "source": [
    "padded_embeddings = np.array(padded_embeddings)"
   ]
  },
  {
   "cell_type": "code",
   "execution_count": null,
   "metadata": {
    "colab": {
     "base_uri": "https://localhost:8080/"
    },
    "id": "EgHTeidOal6M",
    "outputId": "7beec81e-1305-4fef-bd05-eb1f20493f7c"
   },
   "outputs": [
    {
     "data": {
      "text/plain": [
       "(13953, 116, 300)"
      ]
     },
     "execution_count": 65,
     "metadata": {},
     "output_type": "execute_result"
    }
   ],
   "source": [
    "padded_embeddings.shape"
   ]
  },
  {
   "cell_type": "code",
   "execution_count": null,
   "metadata": {
    "colab": {
     "base_uri": "https://localhost:8080/"
    },
    "id": "NgQwvfGLOtBi",
    "outputId": "b81616b5-1e74-4b62-8fba-772ae9e5d0b1"
   },
   "outputs": [
    {
     "data": {
      "text/plain": [
       "array([ 0.028796  ,  0.41306001, -0.46689999, -0.078175  ,  0.37057999,\n",
       "        0.12867001,  0.47714001, -0.92372   , -0.067789  ,  0.62380999])"
      ]
     },
     "execution_count": 66,
     "metadata": {},
     "output_type": "execute_result"
    }
   ],
   "source": [
    "#Provjera jesu li manji floatovi u embeddingu\n",
    "padded_embeddings[0][0][:10]"
   ]
  },
  {
   "cell_type": "code",
   "execution_count": null,
   "metadata": {
    "colab": {
     "base_uri": "https://localhost:8080/"
    },
    "id": "h6Eo1-BLOP4z",
    "outputId": "dd62455b-d3c8-44af-d396-d1a77156f60a"
   },
   "outputs": [
    {
     "data": {
      "text/plain": [
       "(13953, 116)"
      ]
     },
     "execution_count": 67,
     "metadata": {},
     "output_type": "execute_result"
    }
   ],
   "source": [
    "fo_texts_labels_padded = np.array(fo_texts_labels_padded)\n",
    "fo_texts_labels_padded.shape"
   ]
  },
  {
   "cell_type": "markdown",
   "metadata": {
    "id": "deLg_Tbp9O9Y"
   },
   "source": [
    "\"padded_embeddings\" nam je ulaz u model (X), a fo_texts_labels_padded su oznake/labele (y)"
   ]
  },
  {
   "cell_type": "code",
   "execution_count": null,
   "metadata": {
    "id": "QRfG0uh_9pvi"
   },
   "outputs": [],
   "source": [
    "#Da si pojednostavimo\n",
    "X = padded_embeddings\n",
    "y = fo_texts_labels_padded"
   ]
  }
 ],
 "metadata": {
  "colab": {
   "collapsed_sections": [],
   "name": "nlp_dario.ipynb",
   "provenance": []
  },
  "kernelspec": {
   "display_name": "Python 3 (ipykernel)",
   "language": "python",
   "name": "python3"
  },
  "language_info": {
   "codemirror_mode": {
    "name": "ipython",
    "version": 3
   },
   "file_extension": ".py",
   "mimetype": "text/x-python",
   "name": "python",
   "nbconvert_exporter": "python",
   "pygments_lexer": "ipython3",
   "version": "3.9.7"
  }
 },
 "nbformat": 4,
 "nbformat_minor": 1
}
